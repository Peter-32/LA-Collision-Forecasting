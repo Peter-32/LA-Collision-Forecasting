{
 "cells": [
  {
   "cell_type": "markdown",
   "metadata": {},
   "source": [
    "# Advanced Topics in Data Science (CS5661). Cal State Univ. LA, CS Dept.\n",
    "### Dr. Mohammad Porhoumayoun\n",
    "----------------------------------------------------------------------------------------------\n",
    "----------------------------------------------------------------------------------------------"
   ]
  },
  {
   "cell_type": "markdown",
   "metadata": {},
   "source": [
    "\n",
    "# Data Science in Python\n",
    "\n",
    "#### This is a review of data sceince libraries/packages in python. Feel free to refer to the suggested resources and documentaries for more details.\n",
    "\n",
    "---------------------------------------------------------------------------------------------------\n",
    "---------------------------------------------------------------------------------------------------\n"
   ]
  },
  {
   "cell_type": "markdown",
   "metadata": {},
   "source": [
    "### Note: The ANN Library that we use in this tutorial is available in the latest revision of SKLEARN (v0.18) and not in previous version (v0.17). Thus, make sure to update your sklearn. \n",
    "### If you have ANACONDA, you can easily update that by running the following comand in the terminal (in Mac): \"conda update scikit-learn\"\n",
    "(remember to close and reopen Jupyter Notebook after update)"
   ]
  },
  {
   "cell_type": "markdown",
   "metadata": {},
   "source": [
    "# Artificial Neural Networks (ANN) \n"
   ]
  },
  {
   "cell_type": "code",
   "execution_count": 2,
   "metadata": {},
   "outputs": [],
   "source": [
    "# Importing libraries and packages:\n",
    "\n",
    "from sklearn.neural_network import MLPClassifier\n",
    "\n",
    "from sklearn.model_selection import train_test_split\n",
    "from sklearn.model_selection import cross_val_score\n",
    "from sklearn.metrics import accuracy_score\n",
    "from sklearn import metrics\n",
    "import matplotlib.pyplot as plt\n",
    "import numpy as np\n",
    "import pandas as pd"
   ]
  },
  {
   "cell_type": "markdown",
   "metadata": {},
   "source": [
    "#### Set up the Feature Matrix and Label Vector:"
   ]
  },
  {
   "cell_type": "code",
   "execution_count": 3,
   "metadata": {},
   "outputs": [
    {
     "data": {
      "text/html": [
       "<div>\n",
       "<table border=\"1\" class=\"dataframe\">\n",
       "  <thead>\n",
       "    <tr style=\"text-align: right;\">\n",
       "      <th></th>\n",
       "      <th>Clump_Thickness</th>\n",
       "      <th>Uniformity_of_Cell_Size</th>\n",
       "      <th>Uniformity_of_Cell_Shape</th>\n",
       "      <th>Marginal_Adhesion</th>\n",
       "      <th>Single_Epithelial_Cell_Size</th>\n",
       "      <th>Bare_Nuclei</th>\n",
       "      <th>Bland_Chromatin</th>\n",
       "      <th>Normal_Nucleoli</th>\n",
       "      <th>Mitoses</th>\n",
       "      <th>Malignant_Cancer</th>\n",
       "    </tr>\n",
       "  </thead>\n",
       "  <tbody>\n",
       "    <tr>\n",
       "      <th>0</th>\n",
       "      <td>5</td>\n",
       "      <td>1</td>\n",
       "      <td>1</td>\n",
       "      <td>1</td>\n",
       "      <td>2</td>\n",
       "      <td>1</td>\n",
       "      <td>3</td>\n",
       "      <td>1</td>\n",
       "      <td>1</td>\n",
       "      <td>0</td>\n",
       "    </tr>\n",
       "    <tr>\n",
       "      <th>1</th>\n",
       "      <td>5</td>\n",
       "      <td>4</td>\n",
       "      <td>4</td>\n",
       "      <td>5</td>\n",
       "      <td>7</td>\n",
       "      <td>10</td>\n",
       "      <td>3</td>\n",
       "      <td>2</td>\n",
       "      <td>1</td>\n",
       "      <td>0</td>\n",
       "    </tr>\n",
       "    <tr>\n",
       "      <th>2</th>\n",
       "      <td>3</td>\n",
       "      <td>1</td>\n",
       "      <td>1</td>\n",
       "      <td>1</td>\n",
       "      <td>2</td>\n",
       "      <td>2</td>\n",
       "      <td>3</td>\n",
       "      <td>1</td>\n",
       "      <td>1</td>\n",
       "      <td>0</td>\n",
       "    </tr>\n",
       "    <tr>\n",
       "      <th>3</th>\n",
       "      <td>6</td>\n",
       "      <td>8</td>\n",
       "      <td>8</td>\n",
       "      <td>1</td>\n",
       "      <td>3</td>\n",
       "      <td>4</td>\n",
       "      <td>3</td>\n",
       "      <td>7</td>\n",
       "      <td>1</td>\n",
       "      <td>0</td>\n",
       "    </tr>\n",
       "    <tr>\n",
       "      <th>4</th>\n",
       "      <td>4</td>\n",
       "      <td>1</td>\n",
       "      <td>1</td>\n",
       "      <td>3</td>\n",
       "      <td>2</td>\n",
       "      <td>1</td>\n",
       "      <td>3</td>\n",
       "      <td>1</td>\n",
       "      <td>1</td>\n",
       "      <td>0</td>\n",
       "    </tr>\n",
       "  </tbody>\n",
       "</table>\n",
       "</div>"
      ],
      "text/plain": [
       "   Clump_Thickness  Uniformity_of_Cell_Size  Uniformity_of_Cell_Shape  \\\n",
       "0                5                        1                         1   \n",
       "1                5                        4                         4   \n",
       "2                3                        1                         1   \n",
       "3                6                        8                         8   \n",
       "4                4                        1                         1   \n",
       "\n",
       "   Marginal_Adhesion  Single_Epithelial_Cell_Size  Bare_Nuclei  \\\n",
       "0                  1                            2            1   \n",
       "1                  5                            7           10   \n",
       "2                  1                            2            2   \n",
       "3                  1                            3            4   \n",
       "4                  3                            2            1   \n",
       "\n",
       "   Bland_Chromatin  Normal_Nucleoli  Mitoses  Malignant_Cancer  \n",
       "0                3                1        1                 0  \n",
       "1                3                2        1                 0  \n",
       "2                3                1        1                 0  \n",
       "3                3                7        1                 0  \n",
       "4                3                1        1                 0  "
      ]
     },
     "execution_count": 3,
     "metadata": {},
     "output_type": "execute_result"
    }
   ],
   "source": [
    "# \"read_csv\" is a pandas function to read csv files from web or local device:\n",
    "\n",
    "cancer_df = pd.read_csv('/Users/cherylmariajose/Desktop/CS5661/HW1/Cancer_small.csv')\n",
    "\n",
    "# checking the dataset by printing every 10 lines:\n",
    "cancer_df.head()"
   ]
  },
  {
   "cell_type": "code",
   "execution_count": 4,
   "metadata": {},
   "outputs": [],
   "source": [
    "# create a python list of feature names that would like to pick from the dataset:\n",
    "feature_cols = ['Clump_Thickness','Uniformity_of_Cell_Size','Uniformity_of_Cell_Shape',\n",
    "                'Marginal_Adhesion','Single_Epithelial_Cell_Size','Bare_Nuclei',\n",
    "                'Bland_Chromatin','Normal_Nucleoli','Mitoses']\n",
    "\n",
    "# use the above list to select the features from the original DataFrame\n",
    "X = cancer_df[feature_cols] \n",
    "\n",
    "# select a Series of labels (the last column) from the DataFrame\n",
    "y = cancer_df['Malignant_Cancer']\n",
    "\n",
    "# print the first 5 rows\n",
    "#print(X.head())\n",
    "#print(y.head())"
   ]
  },
  {
   "cell_type": "markdown",
   "metadata": {},
   "source": [
    "#### Splitting the Dataset:"
   ]
  },
  {
   "cell_type": "code",
   "execution_count": 5,
   "metadata": {},
   "outputs": [
    {
     "name": "stdout",
     "output_type": "stream",
     "text": [
      "(120, 9)\n",
      "(120,)\n",
      "(30, 9)\n",
      "(30,)\n"
     ]
    }
   ],
   "source": [
    "# Randomly splitting the original dataset into training set and testing set:\n",
    "X_train, X_test, y_train, y_test = train_test_split(X, y, test_size=0.2, random_state=2)\n",
    "\n",
    "# print the size of the traning set:\n",
    "print(X_train.shape)\n",
    "print(y_train.shape)\n",
    "\n",
    "# print the size of the testing set:\n",
    "print(X_test.shape)\n",
    "print(y_test.shape)"
   ]
  },
  {
   "cell_type": "markdown",
   "metadata": {},
   "source": [
    "# ANN Classifier\n",
    "#### Defining (instantiating) an \"object\" from the sklearn class \"MLPClassifier\" (Multi-layer Perceptron (MLP)):"
   ]
  },
  {
   "cell_type": "code",
   "execution_count": 6,
   "metadata": {},
   "outputs": [],
   "source": [
    "# \"my_ANN\" is instantiated as an \"object\" of MLPClassifier \"class\". \n",
    "# hidden_layer_sizes: The ith element represents the number of neurons in the ith hidden layer.\n",
    "# activation: the non-linear function. 'logistic' means Sigmoid Function!\n",
    "# solver: the type of minimization problem: ‘sgd’ and 'adam' refer to stochastic gradient descent.\n",
    "# alpha: regularization parameter (L2 penalty term).\n",
    "# learning_rate_init: learning rate.\n",
    "\n",
    "# 1 Hidden Layer with 3 neurons:\n",
    "my_ANN = MLPClassifier(hidden_layer_sizes=(3,), activation= 'logistic', \n",
    "                       solver='lbfgs', alpha=1e-5, random_state=1 )\n",
    "\n"
   ]
  },
  {
   "cell_type": "markdown",
   "metadata": {},
   "source": [
    "#### Training Stage: Training a predictive model using the training dataset:\n"
   ]
  },
  {
   "cell_type": "code",
   "execution_count": 11,
   "metadata": {},
   "outputs": [
    {
     "data": {
      "text/plain": [
       "MLPClassifier(activation='logistic', alpha=1e-05, batch_size='auto',\n",
       "       beta_1=0.9, beta_2=0.999, early_stopping=False, epsilon=1e-08,\n",
       "       hidden_layer_sizes=(3,), learning_rate='constant',\n",
       "       learning_rate_init=0.1, max_iter=200, momentum=0.9,\n",
       "       nesterovs_momentum=True, power_t=0.5, random_state=1, shuffle=True,\n",
       "       solver='adam', tol=0.0001, validation_fraction=0.1, verbose=False,\n",
       "       warm_start=False)"
      ]
     },
     "execution_count": 11,
     "metadata": {},
     "output_type": "execute_result"
    }
   ],
   "source": [
    "# Training ONLY on the training set:\n",
    "my_ANN.fit(X_train, y_train)\n"
   ]
  },
  {
   "cell_type": "code",
   "execution_count": 7,
   "metadata": {},
   "outputs": [
    {
     "name": "stdout",
     "output_type": "stream",
     "text": [
      "[array([[-0.3968898 , -0.10367394, -1.21724788],\n",
      "       [-0.2120211 , -0.88836129, -1.29412533],\n",
      "       [-0.13884129, -0.01775631, -1.05661747],\n",
      "       [-0.02523639,  0.12324619, -0.82724479],\n",
      "       [ 0.06532896,  0.60473916, -1.25246927],\n",
      "       [-0.24286692, -1.05328169, -0.94857906],\n",
      "       [-0.36829704,  0.02657509, -0.68563701],\n",
      "       [-0.24922157, -0.35449112, -0.82823419],\n",
      "       [-0.15312867, -0.4110709 , -1.18296452]]), array([[-6.1182427 ],\n",
      "       [-3.74410958],\n",
      "       [-0.20301399]])]\n",
      "\n",
      "\n",
      "[array([ 5.31193363,  4.84089703, -0.53024459]), array([ 3.57422433])]\n"
     ]
    }
   ],
   "source": [
    "# Weights:\n",
    "print(my_ANN.coefs_)\n",
    "# The ith element in the list represents the weight matrix corresponding to layer i.\n",
    "\n",
    "print('\\n')\n",
    "\n",
    "# Bias weights:\n",
    "print(my_ANN.intercepts_)\n",
    "# The ith element in the list represents the bias vector corresponding to layer i + 1."
   ]
  },
  {
   "cell_type": "markdown",
   "metadata": {},
   "source": [
    "#### Testing (Prediction) Stage: Making prediction on new observations (Testing Data) using the trained model:\n"
   ]
  },
  {
   "cell_type": "code",
   "execution_count": 8,
   "metadata": {
    "scrolled": true
   },
   "outputs": [
    {
     "name": "stdout",
     "output_type": "stream",
     "text": [
      "[0 1 0 0 0 0 0 0 1 1 0 0 0 0 0 1 1 1 0 0 1 1 0 0 1 0 1 1 1 1 1 0 0 0 0 0 0\n",
      " 0 1 1 1 0 0 1 1 1 0 1 1 1 1 1 0 0 1 1 1 1 1 1 1 0 0 1 1 1 0 1 0 0 1 1 0 0\n",
      " 1 0 1 0 0 1 1 1 1 0 0 1 0 0 0 0 1 0 0 1 1 1 0 0 0 1 1 1 1 0 1 0 0 1 0 0]\n"
     ]
    }
   ],
   "source": [
    "# Testing on the testing set:\n",
    "y_predict_ann = my_ANN.predict(X_test)\n",
    "print(y_predict_ann)"
   ]
  },
  {
   "cell_type": "markdown",
   "metadata": {},
   "source": [
    "### Accuracy Evaluation:\n"
   ]
  },
  {
   "cell_type": "code",
   "execution_count": 9,
   "metadata": {},
   "outputs": [
    {
     "name": "stdout",
     "output_type": "stream",
     "text": [
      "0.936363636364\n"
     ]
    }
   ],
   "source": [
    "# We can now compare the \"predicted labels\" for the Testing Set with its \"actual labels\" to evaluate the accuracy \n",
    "\n",
    "score_ann = accuracy_score(y_test, y_predict_ann)\n",
    "print(score_ann)\n"
   ]
  },
  {
   "cell_type": "markdown",
   "metadata": {},
   "source": [
    "### Repeating with a more complex Neural Network structure (2 Hidden Layers):\n"
   ]
  },
  {
   "cell_type": "code",
   "execution_count": 14,
   "metadata": {},
   "outputs": [
    {
     "name": "stdout",
     "output_type": "stream",
     "text": [
      "0.954545454545\n"
     ]
    }
   ],
   "source": [
    "# \"my_ANN\" is instantiated as an \"object\" of MLPClassifier \"class\". \n",
    "# hidden_layer_sizes: The ith element represents the number of neurons in the ith hidden layer.\n",
    "# activation: the non-linear function. 'logistic' means Sigmoid Function!\n",
    "# solver: the type of minimization problem: ‘sgd’ and 'adam' refer to stochastic gradient descent.\n",
    "# alpha: regularization parameter (L2 penalty term).\n",
    "# learning_rate_init: learning rate.\n",
    "\n",
    "# 2 Hidden Layers, first one with 6 neurons, second with 4 neurons:\n",
    "my_ANN = MLPClassifier(hidden_layer_sizes=(6,4), activation= 'logistic', \n",
    "                       solver='adam', alpha=1e-5, random_state=1, \n",
    "                       learning_rate_init = 0.1)\n",
    "\n",
    "# Training ONLY on the training set:\n",
    "my_ANN.fit(X_train, y_train)\n",
    "# Testing on the testing set:\n",
    "y_predict_ann = my_ANN.predict(X_test)\n",
    "#print(y_predict_ann)\n",
    "# We can now compare the \"predicted labels\" for the Testing Set with its \"actual labels\" to evaluate the accuracy \n",
    "score_ann = accuracy_score(y_test, y_predict_ann)\n",
    "print(score_ann)\n"
   ]
  },
  {
   "cell_type": "markdown",
   "metadata": {},
   "source": [
    "## Estimating the Probability (likelihood) of happening the Event: \n"
   ]
  },
  {
   "cell_type": "code",
   "execution_count": 15,
   "metadata": {},
   "outputs": [
    {
     "name": "stdout",
     "output_type": "stream",
     "text": [
      "[0 1 0 0 0 0 0 0 1 1 0 0 0 0 0 1 1 1 0 0 1 1 0 0 1 0 1 1 1 1 1 0 1 0 0 0 0\n",
      " 0 1 1 1 0 0 1 1 1 0 1 1 1 1 1 0 0 1 1 1 1 1 1 1 0 1 1 1 1 0 1 0 0 1 1 0 0\n",
      " 1 0 1 0 0 1 1 1 1 0 0 1 0 1 0 0 1 1 1 1 1 1 0 0 0 1 1 1 1 1 1 0 0 1 0 0] \n",
      "\n",
      "[[ 0.99497571  0.00502429]\n",
      " [ 0.01803603  0.98196397]\n",
      " [ 0.99527697  0.00472303]\n",
      " [ 0.99369818  0.00630182]\n",
      " [ 0.99499133  0.00500867]\n",
      " [ 0.99523605  0.00476395]\n",
      " [ 0.99515583  0.00484417]\n",
      " [ 0.9952783   0.0047217 ]\n",
      " [ 0.01755538  0.98244462]\n",
      " [ 0.01689823  0.98310177]\n",
      " [ 0.99360705  0.00639295]\n",
      " [ 0.99465678  0.00534322]\n",
      " [ 0.99431699  0.00568301]\n",
      " [ 0.99524649  0.00475351]\n",
      " [ 0.99350278  0.00649722]\n",
      " [ 0.03025881  0.96974119]\n",
      " [ 0.01682091  0.98317909]\n",
      " [ 0.01684079  0.98315921]\n",
      " [ 0.99484573  0.00515427]\n",
      " [ 0.99391195  0.00608805]\n",
      " [ 0.02550282  0.97449718]\n",
      " [ 0.03659343  0.96340657]\n",
      " [ 0.99515406  0.00484594]\n",
      " [ 0.99338251  0.00661749]\n",
      " [ 0.0169716   0.9830284 ]\n",
      " [ 0.99481891  0.00518109]\n",
      " [ 0.01776341  0.98223659]\n",
      " [ 0.01681329  0.98318671]\n",
      " [ 0.12036466  0.87963534]\n",
      " [ 0.02402792  0.97597208]\n",
      " [ 0.01796904  0.98203096]\n",
      " [ 0.99465678  0.00534322]\n",
      " [ 0.02265028  0.97734972]\n",
      " [ 0.99383262  0.00616738]\n",
      " [ 0.99497571  0.00502429]\n",
      " [ 0.99523305  0.00476695]\n",
      " [ 0.99515204  0.00484796]\n",
      " [ 0.99527697  0.00472303]\n",
      " [ 0.01746956  0.98253044]\n",
      " [ 0.01682995  0.98317005]\n",
      " [ 0.0170208   0.9829792 ]\n",
      " [ 0.99177191  0.00822809]\n",
      " [ 0.99202983  0.00797017]\n",
      " [ 0.01710677  0.98289323]\n",
      " [ 0.01691688  0.98308312]\n",
      " [ 0.01747139  0.98252861]\n",
      " [ 0.99458612  0.00541388]\n",
      " [ 0.0169511   0.9830489 ]\n",
      " [ 0.01694998  0.98305002]\n",
      " [ 0.01860021  0.98139979]\n",
      " [ 0.01681412  0.98318588]\n",
      " [ 0.01681433  0.98318567]\n",
      " [ 0.99504264  0.00495736]\n",
      " [ 0.99527697  0.00472303]\n",
      " [ 0.01719471  0.98280529]\n",
      " [ 0.0168274   0.9831726 ]\n",
      " [ 0.0246619   0.9753381 ]\n",
      " [ 0.01681138  0.98318862]\n",
      " [ 0.01682055  0.98317945]\n",
      " [ 0.01703774  0.98296226]\n",
      " [ 0.01686374  0.98313626]\n",
      " [ 0.9950849   0.0049151 ]\n",
      " [ 0.19182811  0.80817189]\n",
      " [ 0.0168635   0.9831365 ]\n",
      " [ 0.01700635  0.98299365]\n",
      " [ 0.03070756  0.96929244]\n",
      " [ 0.99515006  0.00484994]\n",
      " [ 0.01687846  0.98312154]\n",
      " [ 0.99523305  0.00476695]\n",
      " [ 0.99379694  0.00620306]\n",
      " [ 0.01698781  0.98301219]\n",
      " [ 0.01683476  0.98316524]\n",
      " [ 0.99525483  0.00474517]\n",
      " [ 0.99497571  0.00502429]\n",
      " [ 0.03025881  0.96974119]\n",
      " [ 0.60759871  0.39240129]\n",
      " [ 0.01709183  0.98290817]\n",
      " [ 0.99523605  0.00476395]\n",
      " [ 0.99515406  0.00484594]\n",
      " [ 0.01687081  0.98312919]\n",
      " [ 0.01695526  0.98304474]\n",
      " [ 0.0169058   0.9830942 ]\n",
      " [ 0.0168411   0.9831589 ]\n",
      " [ 0.99527476  0.00472524]\n",
      " [ 0.99508217  0.00491783]\n",
      " [ 0.01795922  0.98204078]\n",
      " [ 0.99368365  0.00631635]\n",
      " [ 0.40924036  0.59075964]\n",
      " [ 0.99523605  0.00476395]\n",
      " [ 0.99340602  0.00659398]\n",
      " [ 0.02215899  0.97784101]\n",
      " [ 0.14069081  0.85930919]\n",
      " [ 0.40722701  0.59277299]\n",
      " [ 0.09110043  0.90889957]\n",
      " [ 0.02412513  0.97587487]\n",
      " [ 0.0168168   0.9831832 ]\n",
      " [ 0.9950849   0.0049151 ]\n",
      " [ 0.99498823  0.00501177]\n",
      " [ 0.99298887  0.00701113]\n",
      " [ 0.01742277  0.98257723]\n",
      " [ 0.01723236  0.98276764]\n",
      " [ 0.01686768  0.98313232]\n",
      " [ 0.01780695  0.98219305]\n",
      " [ 0.03769574  0.96230426]\n",
      " [ 0.01684449  0.98315551]\n",
      " [ 0.99508456  0.00491544]\n",
      " [ 0.9952783   0.0047217 ]\n",
      " [ 0.01693527  0.98306473]\n",
      " [ 0.99166338  0.00833662]\n",
      " [ 0.99465678  0.00534322]]\n"
     ]
    }
   ],
   "source": [
    "# Estimating the probability (likelihood) of Each Label: \n",
    "y_predict_prob_ann = my_ANN.predict_proba(X_test)\n",
    "print(y_predict_ann,'\\n')\n",
    "print(y_predict_prob_ann)"
   ]
  },
  {
   "cell_type": "markdown",
   "metadata": {},
   "source": [
    "# True Positive Rate (TPR) and False Positive Rate (FPR):"
   ]
  },
  {
   "cell_type": "code",
   "execution_count": 16,
   "metadata": {},
   "outputs": [
    {
     "name": "stdout",
     "output_type": "stream",
     "text": [
      "[ 0.          0.          0.01851852  0.01851852  0.03703704  0.03703704\n",
      "  0.05555556  0.05555556  0.07407407  0.07407407  0.38888889  0.44444444\n",
      "  0.48148148  0.53703704  0.62962963  0.66666667  0.7037037   0.74074074\n",
      "  0.75925926  0.7962963   0.85185185  0.90740741  0.96296296  1.        ]\n",
      "\n",
      "\n",
      "\n",
      "\n",
      "[ 0.01785714  0.71428571  0.71428571  0.85714286  0.85714286  0.89285714\n",
      "  0.89285714  0.96428571  0.96428571  1.          1.          1.          1.\n",
      "  1.          1.          1.          1.          1.          1.          1.\n",
      "  1.          1.          1.          1.        ]\n"
     ]
    }
   ],
   "source": [
    "from sklearn import metrics\n",
    "\n",
    "fpr, tpr, thresholds = metrics.roc_curve(y_test, y_predict_prob_ann[:,1], pos_label=1)\n",
    "\n",
    "print(fpr)\n",
    "print(\"\\n\\n\\n\")\n",
    "print(tpr)"
   ]
  },
  {
   "cell_type": "markdown",
   "metadata": {},
   "source": [
    "# AUC:"
   ]
  },
  {
   "cell_type": "code",
   "execution_count": 17,
   "metadata": {},
   "outputs": [
    {
     "name": "stdout",
     "output_type": "stream",
     "text": [
      "0.989417989418\n"
     ]
    }
   ],
   "source": [
    "# AUC:\n",
    "AUC = metrics.auc(fpr, tpr)\n",
    "print(AUC)"
   ]
  },
  {
   "cell_type": "markdown",
   "metadata": {},
   "source": [
    "# ROC Curve:"
   ]
  },
  {
   "cell_type": "code",
   "execution_count": 18,
   "metadata": {},
   "outputs": [
    {
     "data": {
      "image/png": "[encoded data removed]",
      "text/plain": [
       "<matplotlib.figure.Figure at 0x114c7bcf8>"
      ]
     },
     "metadata": {},
     "output_type": "display_data"
    }
   ],
   "source": [
    "# Importing the \"pyplot\" package of \"matplotlib\" library of python to generate \n",
    "# graphs and plot curves:\n",
    "import matplotlib.pyplot as plt\n",
    "\n",
    "# The following line will tell Jupyter Notebook to keep the figures inside the explorer page \n",
    "# rather than openng a new figure window:\n",
    "%matplotlib inline\n",
    "\n",
    "plt.figure()\n",
    "\n",
    "# Roc Curve:\n",
    "plt.plot(fpr, tpr, color='red', lw=2, \n",
    "         label='ROC Curve (area = %0.2f)' % AUC)\n",
    "\n",
    "# Random Guess line:\n",
    "plt.plot([0, 1], [0, 1], color='blue', lw=1, linestyle='--')\n",
    "\n",
    "# Defining The Range of X-Axis and Y-Axis:\n",
    "plt.xlim([-0.005, 1.005])\n",
    "plt.ylim([0.0, 1.01])\n",
    "\n",
    "# Labels, Title, Legend:\n",
    "plt.xlabel('False Positive Rate')\n",
    "plt.ylabel('True Positive Rate')\n",
    "plt.title('Receiver operating characteristic')\n",
    "plt.legend(loc=\"lower right\")\n",
    "\n",
    "plt.show()"
   ]
  },
  {
   "cell_type": "markdown",
   "metadata": {},
   "source": [
    "# Confusion Matrix:\n"
   ]
  },
  {
   "cell_type": "code",
   "execution_count": 20,
   "metadata": {},
   "outputs": [
    {
     "name": "stdout",
     "output_type": "stream",
     "text": [
      "Confusion matrix:\n",
      "[[49  5]\n",
      " [ 0 56]]\n"
     ]
    }
   ],
   "source": [
    "from sklearn import metrics\n",
    "\n",
    "cm_ANN = metrics.confusion_matrix(y_test, y_predict_ann)\n",
    "\n",
    "print(\"Confusion matrix:\")\n",
    "print(cm_ANN)\n"
   ]
  },
  {
   "cell_type": "markdown",
   "metadata": {},
   "source": [
    "### Confusion Matrix when we have more than two labels:\n"
   ]
  },
  {
   "cell_type": "code",
   "execution_count": 22,
   "metadata": {},
   "outputs": [
    {
     "name": "stdout",
     "output_type": "stream",
     "text": [
      "0.977777777778 \n",
      "\n",
      "Confusion matrix:\n",
      "[[17  0  0]\n",
      " [ 0 14  1]\n",
      " [ 0  0 13]]\n"
     ]
    },
    {
     "name": "stderr",
     "output_type": "stream",
     "text": [
      "/Users/mpourho/anaconda/lib/python3.5/site-packages/sklearn/neural_network/multilayer_perceptron.py:561: ConvergenceWarning: Stochastic Optimizer: Maximum iterations reached and the optimization hasn't converged yet.\n",
      "  % (), ConvergenceWarning)\n"
     ]
    }
   ],
   "source": [
    "iris_df = pd.read_csv('https://raw.githubusercontent.com/mpourhoma/CS5661/master/iris.csv')\n",
    "\n",
    "def categorical_to_numeric(x):\n",
    "    if x == 'setosa':\n",
    "        return 0\n",
    "    elif x == 'versicolor':\n",
    "        return 1\n",
    "    elif x == 'virginica':\n",
    "        return 2\n",
    "    \n",
    "iris_df['label'] = iris_df['species'].apply(categorical_to_numeric)\n",
    "\n",
    "X = iris_df[['sepal_length','sepal_width','petal_length','petal_width']]\n",
    "y = iris_df['label']\n",
    "\n",
    "X_train, X_test, y_train, y_test = train_test_split(X, y, test_size=0.3, random_state=2)\n",
    "\n",
    "my_ANN = MLPClassifier(hidden_layer_sizes=(3,), activation= 'logistic', \n",
    "                       solver='adam', alpha=1e-5, random_state=1, \n",
    "                       learning_rate_init = 0.1)\n",
    "\n",
    "# Training on the training set:\n",
    "my_ANN.fit(X_train, y_train)\n",
    "\n",
    "# Testing on the testing set:\n",
    "y_predict_ann = my_ANN.predict(X_test)\n",
    "\n",
    "# Accuracy: \n",
    "score_ann = accuracy_score(y_test, y_predict_ann)\n",
    "print(score_ann,'\\n')\n",
    "\n",
    "cm_ANN = metrics.confusion_matrix(y_test, y_predict_ann)\n",
    "print(\"Confusion matrix:\")\n",
    "print(cm_ANN)\n",
    "\n"
   ]
  },
  {
   "cell_type": "code",
   "execution_count": null,
   "metadata": {
    "collapsed": true
   },
   "outputs": [],
   "source": []
  },
  {
   "cell_type": "markdown",
   "metadata": {},
   "source": [
    "# Cross-Validation:"
   ]
  },
  {
   "cell_type": "markdown",
   "metadata": {},
   "source": [
    "** We saw how to split the dataset into Training and Testing sets, Fit the model on \"training set\", and then predict on \"testing set\" to evaluate the accuracy. **\n",
    "\n",
    "**The problem with this method is that the results may depend on the split. In other word, changing which data samples happen to be in the testing set can change the testing accuracy! For example, if you are lucky, some easily predictable samples may happen to be located in the testing set (or vice versa!). **\n",
    "\n",
    "**In order to get more fair results, we can repeat the splitting process several times, compute the prediction accuracy for each split, and then average the results.**\n",
    "\n",
    "**Cross Validation tries to reapeat the splitting procedure K times in a smart way such that all data samples will be used in \"testing set\" one time and in \"Training Set\" (K-1) times!**\n"
   ]
  },
  {
   "cell_type": "markdown",
   "metadata": {},
   "source": [
    "## Three main steps for K-fold cross-validation\n",
    "1. Split the dataset Randomly into K equal, non-overlapping sections.\n",
    "2. Use one of the sections as **testing set** at a time and the union of the other (K-1) sections as the **training set**. Perform training stage, testing stage, and compute the accuracy based on the split each time. Repeat this procedure K times, so that each one of the K sections is used as **testing set** one time, and as a part of **training set** (K-1) times.\n",
    "5. Calculate the average of the accuracies as final result.\n",
    "\n",
    "Note: Using K=10 (10-fold cross-validation) is very common and recommended in machine learning."
   ]
  },
  {
   "cell_type": "markdown",
   "metadata": {},
   "source": [
    "## Cross-Validation in sklearn:"
   ]
  },
  {
   "cell_type": "code",
   "execution_count": 23,
   "metadata": {},
   "outputs": [],
   "source": [
    "# importing the method:\n",
    "from sklearn.model_selection import cross_val_score"
   ]
  },
  {
   "cell_type": "markdown",
   "metadata": {},
   "source": [
    "### Applying 10-fold Cross Validation for ANN classifier:\n"
   ]
  },
  {
   "cell_type": "code",
   "execution_count": 25,
   "metadata": {},
   "outputs": [],
   "source": [
    "# create a python list of feature names that would like to pick from the dataset:\n",
    "feature_cols = ['Clump_Thickness','Uniformity_of_Cell_Size','Uniformity_of_Cell_Shape',\n",
    "                'Marginal_Adhesion','Single_Epithelial_Cell_Size','Bare_Nuclei',\n",
    "                'Bland_Chromatin','Normal_Nucleoli','Mitoses']\n",
    "\n",
    "# use the above list to select the features from the original DataFrame\n",
    "X = cancer_df[feature_cols] \n",
    "\n",
    "# select a Series of labels (the last column) from the DataFrame\n",
    "y = cancer_df['Malignant_Cancer']\n"
   ]
  },
  {
   "cell_type": "code",
   "execution_count": 26,
   "metadata": {},
   "outputs": [
    {
     "name": "stdout",
     "output_type": "stream",
     "text": [
      "[ 0.92857143  0.90909091  0.98181818  0.96363636  0.96363636  0.98181818\n",
      "  0.94545455  0.98181818  0.98148148  1.        ]\n"
     ]
    }
   ],
   "source": [
    "# Applying 10-fold cross validation with ANN classifier:\n",
    "\n",
    "# 2 Hidden Layers, first one with 6 neurons, second with 4 neurons:\n",
    "my_ANN = MLPClassifier(hidden_layer_sizes=(3,), activation= 'logistic', \n",
    "                       solver='adam', alpha=1e-5, random_state=1, \n",
    "                       learning_rate_init = 0.1)\n",
    "\n",
    "# CV:\n",
    "accuracy_list = cross_val_score(my_ANN, X, y, cv=10, scoring='accuracy')\n",
    "\n",
    "print(accuracy_list)"
   ]
  },
  {
   "cell_type": "markdown",
   "metadata": {},
   "source": [
    "#### Each element in \"accuracy_list\" above is the accuracy value in one of the K rounds of cross validation. We will use the average of them as the final accuracy for our model.\n",
    "\n",
    "#### As we saw, the method \"cross_val_score\" will take care of everything, including splitting the data, forming Training and Testing sets (K times), Training and Testing the model (K times), and evaluating and reporting the accuracy for each round!\n",
    "\n",
    "#### Now, we only need to calculate the average of the accuracies from K rounds!"
   ]
  },
  {
   "cell_type": "code",
   "execution_count": 27,
   "metadata": {},
   "outputs": [
    {
     "name": "stdout",
     "output_type": "stream",
     "text": [
      "0.963732563733\n"
     ]
    }
   ],
   "source": [
    "# use average of accuracy values as final result\n",
    "accuracy_cv = accuracy_list.mean()\n",
    "\n",
    "print(accuracy_cv)"
   ]
  },
  {
   "cell_type": "code",
   "execution_count": null,
   "metadata": {
    "collapsed": true
   },
   "outputs": [],
   "source": []
  },
  {
   "cell_type": "markdown",
   "metadata": {
    "collapsed": true
   },
   "source": [
    "# How to find the best structure (the number of hidden layers and the number of neurons in each layer):\n",
    "###### Several approaches have been propsed in articles for how to guess the number of hidden layers and  neurons. However, it mostly depends on the dataset. Comparing the results of traning/testing on traning data versus cross-validation can indicate when the system is entering overfitting stage. Maybe the most effective and the most popular approach for small to medium size datasets is brute force approach."
   ]
  },
  {
   "cell_type": "code",
   "execution_count": 28,
   "metadata": {},
   "outputs": [
    {
     "name": "stdout",
     "output_type": "stream",
     "text": [
      "{'hidden_layer_sizes': [(1,), (2,), (3,), (4,), (5,), (6,), (7,), (8,)]} \n",
      "\n",
      "0.970856102004\n",
      "{'hidden_layer_sizes': (6,)}\n"
     ]
    }
   ],
   "source": [
    "from sklearn.model_selection import GridSearchCV\n",
    "\n",
    "# define a range for the \"number of neurons\" in the hidden layer for a network with 1 hidden layer:\n",
    "neuron_number = [(i,) for i in range(1,9)]\n",
    "\n",
    "# create a dictionary for grid parameter:\n",
    "param_grid = dict(hidden_layer_sizes = neuron_number)\n",
    "print(param_grid,'\\n')\n",
    "\n",
    "# instantiate the model:\n",
    "my_ANN = MLPClassifier(activation='logistic', solver='adam', \n",
    "                                         alpha=1e-5, random_state=1, \n",
    "                                           learning_rate_init = 0.1)\n",
    "\n",
    "# creat the grid, and define the metric for evaluating the model: \n",
    "grid = GridSearchCV(my_ANN, param_grid, cv=10, scoring='accuracy')\n",
    "\n",
    "# fit the grid (start the grid search):\n",
    "grid.fit(X, y)\n",
    "\n",
    "# view the results:\n",
    "#print(grid.cv_results_)\n",
    "\n",
    "# view the best results corresponding to the best structure of ANN:\n",
    "print(grid.best_score_)\n",
    "print(grid.best_params_)"
   ]
  },
  {
   "cell_type": "code",
   "execution_count": 29,
   "metadata": {},
   "outputs": [
    {
     "name": "stdout",
     "output_type": "stream",
     "text": [
      "{'hidden_layer_sizes': [(1, 1), (1, 2), (1, 3), (1, 4), (1, 5), (1, 6), (1, 7), (1, 8), (2, 1), (2, 2), (2, 3), (2, 4), (2, 5), (2, 6), (2, 7), (2, 8), (3, 1), (3, 2), (3, 3), (3, 4), (3, 5), (3, 6), (3, 7), (3, 8), (4, 1), (4, 2), (4, 3), (4, 4), (4, 5), (4, 6), (4, 7), (4, 8), (5, 1), (5, 2), (5, 3), (5, 4), (5, 5), (5, 6), (5, 7), (5, 8), (6, 1), (6, 2), (6, 3), (6, 4), (6, 5), (6, 6), (6, 7), (6, 8), (7, 1), (7, 2), (7, 3), (7, 4), (7, 5), (7, 6), (7, 7), (7, 8), (8, 1), (8, 2), (8, 3), (8, 4), (8, 5), (8, 6), (8, 7), (8, 8)]} \n",
      "\n",
      "0.976320582878\n",
      "{'hidden_layer_sizes': (3, 6)}\n"
     ]
    }
   ],
   "source": [
    "from sklearn.model_selection import GridSearchCV\n",
    "\n",
    "# define a range for the \"number of neurons\" in the hidden layer for a network with 1 hidden layer:\n",
    "neuron_number = [(i,j) for i in range(1,9) for j in range(1,9)]                    \n",
    "\n",
    "# create a dictionary for grid parameter:\n",
    "param_grid = dict(hidden_layer_sizes = neuron_number)\n",
    "print(param_grid,'\\n')\n",
    "\n",
    "# instantiate the model:\n",
    "my_ANN = MLPClassifier(activation='logistic', solver='adam', \n",
    "                                         alpha=1e-5, random_state=1, learning_rate_init = 0.1)\n",
    "\n",
    "# creat the grid, and define the metric for evaluating the model: \n",
    "grid = GridSearchCV(my_ANN, param_grid, cv=10, scoring='accuracy')\n",
    "\n",
    "# fit the grid (start the grid search):\n",
    "grid.fit(X, y)\n",
    "\n",
    "# view the results:\n",
    "# print(grid.cv_results_)\n",
    "\n",
    "# view the best results corresponding to the best structure of ANN:\n",
    "print(grid.best_score_)\n",
    "print(grid.best_params_)"
   ]
  },
  {
   "cell_type": "code",
   "execution_count": null,
   "metadata": {
    "collapsed": true
   },
   "outputs": [],
   "source": []
  }
 ],
 "metadata": {
  "anaconda-cloud": {},
  "kernelspec": {
   "display_name": "Python [Root]",
   "language": "python",
   "name": "Python [Root]"
  },
  "language_info": {
   "codemirror_mode": {
    "name": "ipython",
    "version": 3
   },
   "file_extension": ".py",
   "mimetype": "text/x-python",
   "name": "python",
   "nbconvert_exporter": "python",
   "pygments_lexer": "ipython3",
   "version": "3.5.2"
  }
 },
 "nbformat": 4,
 "nbformat_minor": 1
}
