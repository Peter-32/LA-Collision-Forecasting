{
 "cells": [
  {
   "cell_type": "code",
   "execution_count": 7,
   "metadata": {},
   "outputs": [],
   "source": [
    "import pandas as pd\n",
    "import seaborn as sns\n",
    "import pandasql as ps\n",
    "import numpy as np\n",
    "import pandas as pd\n",
    "import matplotlib as mpl\n",
    "import matplotlib.pyplot as plt"
   ]
  },
  {
   "cell_type": "code",
   "execution_count": 8,
   "metadata": {},
   "outputs": [
    {
     "name": "stderr",
     "output_type": "stream",
     "text": [
      "/Users/cheryljose/Documents/Projects/TestProject/venv/lib/python3.6/site-packages/IPython/core/interactiveshell.py:2785: DtypeWarning: Columns (37,62) have mixed types. Specify dtype option on import or set low_memory=False.\n",
      "  interactivity=interactivity, compiler=compiler, result=result)\n"
     ]
    }
   ],
   "source": [
    "df = pd.read_csv(\"data/data.csv\")"
   ]
  },
  {
   "cell_type": "code",
   "execution_count": 9,
   "metadata": {},
   "outputs": [],
   "source": [
    "df = df[[\"X\", \"Y\", \"collision_date\", \"collision_time\", \"day_of_week\", \"intersection\", \"weather_1\", \"location_type\", \"collision_severity\", \"number_killed\", \"number_injured\", \"party_count\", \"primary_coll_factor\", \"pcf_viol_category\", \"hit_and_run\", \"type_of_collision\", \"road_surface\", \"road_cond_1\", \"lighting\", \"control_device\", \"pedestrian_accident\", \"bicycle_accident\", \"motorcycle_accident\", \"truck_accident\", \"alcohol_involved\", \"count_ped_killed\", \"count_ped_injured\", \"count_bicyclist_killed\", \"count_bicyclist_injured\"]]"
   ]
  },
  {
   "cell_type": "markdown",
   "metadata": {},
   "source": [
    "Fix missing Values"
   ]
  },
  {
   "cell_type": "code",
   "execution_count": 10,
   "metadata": {},
   "outputs": [],
   "source": [
    "df['location_type']=df['location_type'].fillna('N')\n",
    "\n",
    "df['pedestrian_accident']=df['pedestrian_accident'].fillna('N')\n",
    "\n",
    "df['bicycle_accident']=df['bicycle_accident'].fillna('N')\n",
    "\n",
    "df['motorcycle_accident']=df['motorcycle_accident'].fillna('N')\n",
    "\n",
    "df['truck_accident']=df['truck_accident'].fillna('N')\n",
    "df['alcohol_involved']=df['alcohol_involved'].fillna('N')"
   ]
  },
  {
   "cell_type": "markdown",
   "metadata": {},
   "source": [
    "Drop Duplicates"
   ]
  },
  {
   "cell_type": "code",
   "execution_count": 11,
   "metadata": {},
   "outputs": [
    {
     "data": {
      "text/plain": [
       "'rows before: 171533, rows after: 171522, duplicate rows: 11'"
      ]
     },
     "execution_count": 11,
     "metadata": {},
     "output_type": "execute_result"
    }
   ],
   "source": [
    "rows_before = df.shape[0]\n",
    "\n",
    "df = df.drop_duplicates()\n",
    "\n",
    "\"\"\"rows before: {}, rows after: {}, duplicate rows: {}\"\"\". \\\n",
    "format(rows_before, df.shape[0], rows_before - df.shape[0])"
   ]
  },
  {
   "cell_type": "markdown",
   "metadata": {},
   "source": [
    "Drop Rows without Geo Location"
   ]
  },
  {
   "cell_type": "code",
   "execution_count": 12,
   "metadata": {},
   "outputs": [
    {
     "data": {
      "text/plain": [
       "'rows before: 171522, rows after: 169515, rows dropped: 2007'"
      ]
     },
     "execution_count": 12,
     "metadata": {},
     "output_type": "execute_result"
    }
   ],
   "source": [
    "ps.sqldf(\"select ROUND(X, 0), ROUND(Y, 0), count(*) from df group by 1,2 order by 1 desc,2 desc\", locals())\n",
    "\n",
    "ps.sqldf(\"select * from df where ROUND(X, 0) = 0 or ROUND(Y, 0) = 0\", locals())\n",
    "\n",
    "rows_before = df.shape[0]\n",
    "df = ps.sqldf(\"select * from df where ROUND(X, 0) != 0 and ROUND(Y, 0) != 0\", locals())\n",
    "\n",
    "\"\"\"rows before: {}, rows after: {}, rows dropped: {}\"\"\". \\\n",
    "format(rows_before, df.shape[0], rows_before - df.shape[0])"
   ]
  },
  {
   "cell_type": "markdown",
   "metadata": {},
   "source": [
    "Get the Grid"
   ]
  },
  {
   "cell_type": "code",
   "execution_count": 36,
   "metadata": {},
   "outputs": [],
   "source": [
    "df_1 = ps.sqldf(\"\"\"\n",
    "SELECT\n",
    "1 AS sector,\n",
    "-118.66 AS left,\n",
    "-118.50 AS right,\n",
    "34.32 AS up,\n",
    "34.14 AS down\n",
    "UNION ALL\n",
    "SELECT\n",
    "2 AS sector,\n",
    "-118.50 AS left,\n",
    "-118.34 AS right,\n",
    "34.32 AS up,\n",
    "34.14 AS down         \n",
    "UNION ALL\n",
    "SELECT\n",
    "3 AS sector,\n",
    "-118.36 AS left,\n",
    "-118.14 AS right,\n",
    "34.14 AS up,\n",
    "34.05 AS down\n",
    "UNION ALL\n",
    "SELECT\n",
    "4 AS sector,\n",
    "-118.50 AS left,\n",
    "-118.36 AS right,\n",
    "34.14 AS up,\n",
    "33.91 AS down \n",
    "UNION ALL\n",
    "SELECT\n",
    "5 AS sector,\n",
    "-118.36 AS left,\n",
    "-118.28 AS right,\n",
    "34.05 AS up,\n",
    "33.915 AS down\n",
    "UNION ALL\n",
    "SELECT\n",
    "6 AS sector,\n",
    "-118.28 AS left,\n",
    "-118.13 AS right,\n",
    "34.05 AS up,\n",
    "33.915 AS down\n",
    "UNION ALL\n",
    "SELECT\n",
    "7 AS sector,\n",
    "-118.325 AS left,\n",
    "-118.238 AS right,\n",
    "33.915 AS up,\n",
    "33.7 AS down\n",
    "\n",
    "         \"\"\", locals())\n",
    "\n",
    "\n",
    "location_lookup_df = ps.sqldf(\"\"\"\n",
    "\n",
    "SELECT\n",
    "z2.*,\n",
    "new_left + (new_right - new_left)/2 AS center_x,\n",
    "new_down + (new_up - new_down)/2 AS center_y\n",
    "FROM\n",
    "    (SELECT\n",
    "      sector,\n",
    "      (delta_x*row1) + left AS new_left,\n",
    "      (delta_x*(row1+1)) + left AS new_right,\n",
    "      (delta_y*row2) + down AS new_down,\n",
    "      (delta_y*(row2+1)) + down AS new_up,\n",
    "      x.*,\n",
    "      y.*,\n",
    "      z.*\n",
    "\n",
    "    FROM\n",
    "        (SELECT\n",
    "          sector,\n",
    "          (right - left) / 10 delta_x,\n",
    "          (up - down) / 10 delta_y,\n",
    "          left,\n",
    "          down,\n",
    "          right,\n",
    "          up\n",
    "        FROM df_1\n",
    "        ) x\n",
    "    CROSS JOIN\n",
    "        (\n",
    "        SELECT 0 as row1 UNION ALL\n",
    "        SELECT 1 as row1 UNION ALL\n",
    "        SELECT 2 as row1 UNION ALL\n",
    "        SELECT 3 as row1 UNION ALL\n",
    "        SELECT 4 as row1 UNION ALL\n",
    "        SELECT 5 as row1 UNION ALL\n",
    "        SELECT 6 as row1 UNION ALL\n",
    "        SELECT 7 as row1 UNION ALL\n",
    "        SELECT 8 as row1 UNION ALL\n",
    "        SELECT 9 as row1\n",
    "        ) y \n",
    "        CROSS JOIN\n",
    "        (\n",
    "        SELECT 0 as row2 UNION ALL\n",
    "        SELECT 1 as row2 UNION ALL\n",
    "        SELECT 2 as row2 UNION ALL\n",
    "        SELECT 3 as row2 UNION ALL\n",
    "        SELECT 4 as row2 UNION ALL\n",
    "        SELECT 5 as row2 UNION ALL\n",
    "        SELECT 6 as row2 UNION ALL\n",
    "        SELECT 7 as row2 UNION ALL\n",
    "        SELECT 8 as row2 UNION ALL\n",
    "        SELECT 9 as row2\n",
    "        ) z\n",
    "    ) z2\n",
    "\"\"\", locals())\n",
    "location_lookup_df['index1'] = location_lookup_df.index\n"
   ]
  },
  {
   "cell_type": "markdown",
   "metadata": {},
   "source": [
    "Load datasets"
   ]
  },
  {
   "cell_type": "code",
   "execution_count": 37,
   "metadata": {},
   "outputs": [],
   "source": [
    "dfA = pd.read_csv(\"data/2010_Census_Populations_by_Zip_Code.csv\")\n",
    "dfB = pd.read_csv(\"data/Intersections.csv\")\n",
    "dfC = pd.read_csv(\"data/Regulatory_Signs.csv\")\n",
    "dfD = pd.read_csv(\"data/Street_Lights.csv\")\n",
    "dfE = pd.read_csv(\"data/Stop_and_Yield_Signs.csv\")\n",
    "# dfF = pd.read_csv(\"data/Walkability_Index_Score_2012.csv\")"
   ]
  },
  {
   "cell_type": "code",
   "execution_count": 43,
   "metadata": {},
   "outputs": [],
   "source": [
    "df = ps.sqldf(\"\"\"\n",
    "select \n",
    "a.*, b.index1\n",
    "from df a\n",
    "INNER JOIN\n",
    "location_lookup_df b\n",
    " ON a.X >= new_left AND a.X < new_right\n",
    "AND a.Y >= new_down AND a.Y < new_up\n",
    "\"\"\", locals())"
   ]
  },
  {
   "cell_type": "code",
   "execution_count": 44,
   "metadata": {},
   "outputs": [],
   "source": [
    "from uszipcode import ZipcodeSearchEngine\n",
    "search = ZipcodeSearchEngine()\n",
    "# zipcode = search.by_zipcode(90001)\n",
    "res = search.by_city(city=\"Los Angeles\", returns=0)\n",
    "search.export_to_csv(res, \"result.csv\")\n",
    "dfAnew = pd.read_csv(\"data/result.csv\")\n",
    "dfA.columns = dfA.columns.str.strip().str.lower().str.replace(' ', '_')\n",
    "dfAcombined = ps.sqldf(\"\"\"\n",
    "SELECT Population, Density, Wealthy, HouseOfUnits, Latitude, Longitude, median_age\n",
    "    from dfAnew a\n",
    "    LEFT JOIN\n",
    "    dfA b ON\n",
    "    a.Zipcode = b.zip_code\n",
    "\"\"\", locals())\n",
    "population_intermediate_df = ps.sqldf(\"\"\"\n",
    "select \n",
    "a.*,\n",
    "b.*,\n",
    "(((center_x - Longitude)*(center_x - Longitude)) + ((center_y - Latitude)*(center_y - Latitude))) AS distance\n",
    "from location_lookup_df a\n",
    "CROSS JOIN\n",
    "dfAcombined b\n",
    "\"\"\", locals())\n",
    "population_final_df = ps.sqldf(\"\"\"\n",
    "select \n",
    "a.index1, Population, Density, Wealthy, HouseOfUnits, median_age\n",
    "from population_intermediate_df a\n",
    "INNER JOIN\n",
    "(select index1, min(distance) AS min_distance from population_intermediate_df group by 1) b\n",
    "ON a.index1 = b.index1 and\n",
    "   a.distance = b.min_distance\n",
    "group by 1\n",
    "order by 1\n",
    "\"\"\", locals())"
   ]
  },
  {
   "cell_type": "code",
   "execution_count": 45,
   "metadata": {},
   "outputs": [],
   "source": [
    "intersections_df = ps.sqldf(\"\"\"\n",
    "select\n",
    "index1, count(*) AS intersections\n",
    "FROM\n",
    "    (select index1, LAT, LON\n",
    "    from dfB a\n",
    "    INNER JOIN\n",
    "    location_lookup_df b\n",
    "     ON a.LON >= new_left AND a.LON < new_right\n",
    "    AND a.LAT >= new_down AND a.LAT < new_up\n",
    "    ) x\n",
    "group by 1 \n",
    "order by 1\n",
    "\"\"\", locals())\n",
    "\n",
    "street_lights_df = ps.sqldf(\"\"\"\n",
    "SELECT\n",
    "  index1,\n",
    "  SUM(total_watts) AS total_watts,\n",
    "  SUM(total_lightbulbs) AS total_lightbulbs\n",
    "  \n",
    "FROM\n",
    "(select index1, \n",
    "CASE WHEN TRIM(IFNULL(LAMPA,'')) = '' THEN 0 ELSE SUBSTR(LAMPA, 1, instr(LAMPA,\"W\")) END +\n",
    "CASE WHEN TRIM(IFNULL(LAMPB,'')) = '' THEN 0 ELSE SUBSTR(LAMPB, 1, instr(LAMPB,\"W\")) END +\n",
    "CASE WHEN TRIM(IFNULL(LAMPC,'')) = '' THEN 0 ELSE SUBSTR(LAMPC, 1, instr(LAMPC,\"W\")) END +\n",
    "CASE WHEN TRIM(IFNULL(LAMPD,'')) = '' THEN 0 ELSE SUBSTR(LAMPD, 1, instr(LAMPD,\"W\")) END +\n",
    "CASE WHEN TRIM(IFNULL(LAMPE,'')) = '' THEN 0 ELSE SUBSTR(LAMPE, 1, instr(LAMPE,\"W\")) END +\n",
    "CASE WHEN TRIM(IFNULL(LAMPF,'')) = '' THEN 0 ELSE SUBSTR(LAMPF, 1, instr(LAMPF,\"W\")) END AS total_watts,\n",
    "CASE WHEN TRIM(IFNULL(LAMPA,'')) = '' THEN 0 ELSE 1 END +\n",
    "CASE WHEN TRIM(IFNULL(LAMPB,'')) = '' THEN 0 ELSE 1 END +\n",
    "CASE WHEN TRIM(IFNULL(LAMPC,'')) = '' THEN 0 ELSE 1 END +\n",
    "CASE WHEN TRIM(IFNULL(LAMPD,'')) = '' THEN 0 ELSE 1 END +\n",
    "CASE WHEN TRIM(IFNULL(LAMPE,'')) = '' THEN 0 ELSE 1 END +\n",
    "CASE WHEN TRIM(IFNULL(LAMPF,'')) = '' THEN 0 ELSE 1 END AS total_lightbulbs\n",
    "from dfD a\n",
    "INNER JOIN\n",
    "location_lookup_df b\n",
    " ON a.X >= new_left AND a.X < new_right\n",
    "AND a.Y >= new_down AND a.Y < new_up\n",
    ") x\n",
    "GROUP BY 1\n",
    "ORDER BY 1\n",
    "\"\"\", locals())\n",
    "\n",
    "regulatory_signs_df = ps.sqldf(\"\"\"\n",
    "SELECT\n",
    "  index1,\n",
    "  SUM(one_way_sign) AS one_way_signs,\n",
    "  SUM(speed_limit_sign) AS speed_limit_signs,\n",
    "  SUM(no_u_turn_sign) AS no_u_turn_signs\n",
    "FROM\n",
    "(select index1,\n",
    "CASE WHEN lower(tooltip) like '%one way%' THEN 1 ELSE 0 END AS one_way_sign,\n",
    "CASE WHEN lower(tooltip) like '%speed%' THEN 1 ELSE 0 END AS speed_limit_sign,\n",
    "CASE WHEN lower(tooltip) like '%no u turn%' THEN 1 ELSE 0 END AS no_u_turn_sign\n",
    "from dfC a\n",
    "INNER JOIN\n",
    "location_lookup_df b\n",
    " ON a.X >= new_left AND a.X < new_right\n",
    "AND a.Y >= new_down AND a.Y < new_up\n",
    ") x\n",
    "GROUP BY 1\n",
    "ORDER BY 1\n",
    "\"\"\", locals())\n",
    "\n",
    "stop_and_yield_signs_df = ps.sqldf(\"\"\"\n",
    "SELECT\n",
    "  index1,\n",
    "  SUM(stop_sign) AS stop_sign,\n",
    "  SUM(yield_sign) AS yield_sign\n",
    "FROM\n",
    "(select index1,\n",
    "    CASE WHEN lower(tooltip) like '%stop%' THEN 1 ELSE 0 END AS stop_sign,\n",
    "    CASE WHEN lower(tooltip) like '%yield%' THEN 1 ELSE 0 END AS yield_sign\n",
    "    from dfE a\n",
    "    INNER JOIN\n",
    "    location_lookup_df b\n",
    "     ON a.X >= new_left AND a.X < new_right\n",
    "    AND a.Y >= new_down AND a.Y < new_up\n",
    "    ) x\n",
    "GROUP BY 1\n",
    "ORDER BY 1\n",
    "\"\"\", locals())"
   ]
  },
  {
   "cell_type": "code",
   "execution_count": 47,
   "metadata": {},
   "outputs": [],
   "source": [
    "final_granular_df = ps.sqldf(\"\"\"\n",
    "SELECT\n",
    "*\n",
    "FROM\n",
    "df a\n",
    "LEFT JOIN population_final_df b on b.index1 = a.index1\n",
    "LEFT JOIN intersections_df c on c.index1 = a.index1\n",
    "LEFT JOIN street_lights_df d on d.index1 = a.index1\n",
    "LEFT JOIN regulatory_signs_df e on e.index1 = a.index1\n",
    "LEFT JOIN stop_and_yield_signs_df f on f.index1 = a.index1\n",
    "\"\"\", locals())"
   ]
  },
  {
   "cell_type": "code",
   "execution_count": 48,
   "metadata": {},
   "outputs": [
    {
     "data": {
      "text/plain": [
       "(166850, 48)"
      ]
     },
     "execution_count": 48,
     "metadata": {},
     "output_type": "execute_result"
    }
   ],
   "source": [
    "final_granular_df.shape"
   ]
  },
  {
   "cell_type": "code",
   "execution_count": 50,
   "metadata": {},
   "outputs": [],
   "source": [
    "final_granular_df.to_csv(\"a.csv\")"
   ]
  },
  {
   "cell_type": "code",
   "execution_count": null,
   "metadata": {},
   "outputs": [],
   "source": []
  }
 ],
 "metadata": {
  "kernelspec": {
   "display_name": "TestProject",
   "language": "python",
   "name": "testproject"
  },
  "language_info": {
   "codemirror_mode": {
    "name": "ipython",
    "version": 3
   },
   "file_extension": ".py",
   "mimetype": "text/x-python",
   "name": "python",
   "nbconvert_exporter": "python",
   "pygments_lexer": "ipython3",
   "version": "3.6.6"
  }
 },
 "nbformat": 4,
 "nbformat_minor": 2
}
