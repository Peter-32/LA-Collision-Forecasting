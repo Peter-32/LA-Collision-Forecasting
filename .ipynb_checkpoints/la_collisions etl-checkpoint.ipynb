{
 "cells": [
  {
   "cell_type": "code",
   "execution_count": 1,
   "metadata": {},
   "outputs": [],
   "source": [
    "import pandas as pd\n",
    "import seaborn as sns\n",
    "import pandasql as ps\n",
    "import numpy as np\n",
    "import pandas as pd\n",
    "import matplotlib as mpl\n",
    "import matplotlib.pyplot as plt"
   ]
  },
  {
   "cell_type": "code",
   "execution_count": 2,
   "metadata": {},
   "outputs": [
    {
     "name": "stderr",
     "output_type": "stream",
     "text": [
      "/Users/peterjmyers/Work/TestProject/venv/lib/python3.6/site-packages/IPython/core/interactiveshell.py:2785: DtypeWarning: Columns (37,62) have mixed types. Specify dtype option on import or set low_memory=False.\n",
      "  interactivity=interactivity, compiler=compiler, result=result)\n"
     ]
    }
   ],
   "source": [
    "df = pd.read_csv(\"data/data.csv\")"
   ]
  },
  {
   "cell_type": "code",
   "execution_count": 3,
   "metadata": {},
   "outputs": [],
   "source": [
    "df = df[[\"X\", \"Y\", \"collision_date\", \"collision_time\", \"day_of_week\", \"intersection\", \"weather_1\", \"location_type\", \"collision_severity\", \"number_killed\", \"number_injured\", \"party_count\", \"primary_coll_factor\", \"pcf_viol_category\", \"hit_and_run\", \"type_of_collision\", \"road_surface\", \"road_cond_1\", \"lighting\", \"control_device\", \"pedestrian_accident\", \"bicycle_accident\", \"motorcycle_accident\", \"truck_accident\", \"alcohol_involved\", \"count_ped_killed\", \"count_ped_injured\", \"count_bicyclist_killed\", \"count_bicyclist_injured\"]]\n"
   ]
  },
  {
   "cell_type": "markdown",
   "metadata": {},
   "source": [
    "Fix missing Values"
   ]
  },
  {
   "cell_type": "code",
   "execution_count": 4,
   "metadata": {},
   "outputs": [],
   "source": [
    "df['location_type']=df['location_type'].fillna('N')\n",
    "\n",
    "df['pedestrian_accident']=df['pedestrian_accident'].fillna('N')\n",
    "\n",
    "df['bicycle_accident']=df['bicycle_accident'].fillna('N')\n",
    "\n",
    "df['motorcycle_accident']=df['motorcycle_accident'].fillna('N')\n",
    "\n",
    "df['truck_accident']=df['truck_accident'].fillna('N')\n",
    "df['alcohol_involved']=df['alcohol_involved'].fillna('N')"
   ]
  },
  {
   "cell_type": "markdown",
   "metadata": {},
   "source": [
    "Drop Duplicates"
   ]
  },
  {
   "cell_type": "code",
   "execution_count": 5,
   "metadata": {},
   "outputs": [
    {
     "data": {
      "text/plain": [
       "'rows before: 171533, rows after: 171522, duplicate rows: 11'"
      ]
     },
     "execution_count": 5,
     "metadata": {},
     "output_type": "execute_result"
    }
   ],
   "source": [
    "rows_before = df.shape[0]\n",
    "\n",
    "df = df.drop_duplicates()\n",
    "\n",
    "\"\"\"rows before: {}, rows after: {}, duplicate rows: {}\"\"\". \\\n",
    "format(rows_before, df.shape[0], rows_before - df.shape[0])"
   ]
  },
  {
   "cell_type": "markdown",
   "metadata": {},
   "source": [
    "Drop Rows without Geo Location"
   ]
  },
  {
   "cell_type": "code",
   "execution_count": 6,
   "metadata": {},
   "outputs": [
    {
     "data": {
      "text/plain": [
       "'rows before: 171522, rows after: 169515, rows dropped: 2007'"
      ]
     },
     "execution_count": 6,
     "metadata": {},
     "output_type": "execute_result"
    }
   ],
   "source": [
    "ps.sqldf(\"select ROUND(X, 0), ROUND(Y, 0), count(*) from df group by 1,2 order by 1 desc,2 desc\", locals())\n",
    "\n",
    "ps.sqldf(\"select * from df where ROUND(X, 0) = 0 or ROUND(Y, 0) = 0\", locals())\n",
    "\n",
    "rows_before = df.shape[0]\n",
    "df = ps.sqldf(\"select * from df where ROUND(X, 0) != 0 and ROUND(Y, 0) != 0\", locals())\n",
    "\n",
    "\"\"\"rows before: {}, rows after: {}, rows dropped: {}\"\"\". \\\n",
    "format(rows_before, df.shape[0], rows_before - df.shape[0])"
   ]
  },
  {
   "cell_type": "markdown",
   "metadata": {},
   "source": [
    "Get the Grid"
   ]
  },
  {
   "cell_type": "code",
   "execution_count": 7,
   "metadata": {},
   "outputs": [],
   "source": [
    "df_1 = ps.sqldf(\"\"\"\n",
    "SELECT\n",
    "1 AS sector,\n",
    "-118.66 AS left,\n",
    "-118.50 AS right,\n",
    "34.32 AS up,\n",
    "34.14 AS down\n",
    "UNION ALL\n",
    "SELECT\n",
    "2 AS sector,\n",
    "-118.50 AS left,\n",
    "-118.34 AS right,\n",
    "34.32 AS up,\n",
    "34.14 AS down         \n",
    "UNION ALL\n",
    "SELECT\n",
    "3 AS sector,\n",
    "-118.36 AS left,\n",
    "-118.14 AS right,\n",
    "34.14 AS up,\n",
    "34.05 AS down\n",
    "UNION ALL\n",
    "SELECT\n",
    "4 AS sector,\n",
    "-118.50 AS left,\n",
    "-118.36 AS right,\n",
    "34.14 AS up,\n",
    "33.91 AS down \n",
    "UNION ALL\n",
    "SELECT\n",
    "5 AS sector,\n",
    "-118.36 AS left,\n",
    "-118.28 AS right,\n",
    "34.05 AS up,\n",
    "33.915 AS down\n",
    "UNION ALL\n",
    "SELECT\n",
    "6 AS sector,\n",
    "-118.28 AS left,\n",
    "-118.13 AS right,\n",
    "34.05 AS up,\n",
    "33.915 AS down\n",
    "UNION ALL\n",
    "SELECT\n",
    "7 AS sector,\n",
    "-118.325 AS left,\n",
    "-118.238 AS right,\n",
    "33.915 AS up,\n",
    "33.7 AS down\n",
    "\n",
    "         \"\"\", locals())\n",
    "\n",
    "\n",
    "location_lookup_df = ps.sqldf(\"\"\"\n",
    "\n",
    "SELECT\n",
    "z2.*,\n",
    "new_left + (new_right - new_left)/2 AS center_x,\n",
    "new_down + (new_up - new_down)/2 AS center_y\n",
    "FROM\n",
    "    (SELECT\n",
    "      sector,\n",
    "      (delta_x*row1) + left AS new_left,\n",
    "      (delta_x*(row1+1)) + left AS new_right,\n",
    "      (delta_y*row2) + down AS new_down,\n",
    "      (delta_y*(row2+1)) + down AS new_up,\n",
    "      x.*,\n",
    "      y.*,\n",
    "      z.*\n",
    "\n",
    "    FROM\n",
    "        (SELECT\n",
    "          sector,\n",
    "          (right - left) / 10 delta_x,\n",
    "          (up - down) / 10 delta_y,\n",
    "          left,\n",
    "          down,\n",
    "          right,\n",
    "          up\n",
    "        FROM df_1\n",
    "        ) x\n",
    "    CROSS JOIN\n",
    "        (\n",
    "        SELECT 0 as row1 UNION ALL\n",
    "        SELECT 1 as row1 UNION ALL\n",
    "        SELECT 2 as row1 UNION ALL\n",
    "        SELECT 3 as row1 UNION ALL\n",
    "        SELECT 4 as row1 UNION ALL\n",
    "        SELECT 5 as row1 UNION ALL\n",
    "        SELECT 6 as row1 UNION ALL\n",
    "        SELECT 7 as row1 UNION ALL\n",
    "        SELECT 8 as row1 UNION ALL\n",
    "        SELECT 9 as row1\n",
    "        ) y \n",
    "        CROSS JOIN\n",
    "        (\n",
    "        SELECT 0 as row2 UNION ALL\n",
    "        SELECT 1 as row2 UNION ALL\n",
    "        SELECT 2 as row2 UNION ALL\n",
    "        SELECT 3 as row2 UNION ALL\n",
    "        SELECT 4 as row2 UNION ALL\n",
    "        SELECT 5 as row2 UNION ALL\n",
    "        SELECT 6 as row2 UNION ALL\n",
    "        SELECT 7 as row2 UNION ALL\n",
    "        SELECT 8 as row2 UNION ALL\n",
    "        SELECT 9 as row2\n",
    "        ) z\n",
    "    ) z2\n",
    "\"\"\", locals())\n",
    "location_lookup_df['index1'] = location_lookup_df.index\n"
   ]
  },
  {
   "cell_type": "markdown",
   "metadata": {},
   "source": [
    "Load datasets"
   ]
  },
  {
   "cell_type": "code",
   "execution_count": 8,
   "metadata": {},
   "outputs": [],
   "source": [
    "dfA = pd.read_csv(\"data/2010_Census_Populations_by_Zip_Code.csv\")\n",
    "dfB = pd.read_csv(\"data/Intersections.csv\")\n",
    "dfC = pd.read_csv(\"data/Regulatory_Signs.csv\")\n",
    "dfD = pd.read_csv(\"data/Street_Lights.csv\")\n",
    "dfE = pd.read_csv(\"data/Stop_and_Yield_Signs.csv\")\n",
    "# dfF = pd.read_csv(\"data/Walkability_Index_Score_2012.csv\")"
   ]
  },
  {
   "cell_type": "code",
   "execution_count": 9,
   "metadata": {},
   "outputs": [],
   "source": [
    "df = ps.sqldf(\"\"\"\n",
    "select \n",
    "a.*, b.index1, sector\n",
    "from df a\n",
    "INNER JOIN\n",
    "location_lookup_df b\n",
    " ON a.X >= new_left AND a.X < new_right\n",
    "AND a.Y >= new_down AND a.Y < new_up\n",
    "\"\"\", locals())"
   ]
  },
  {
   "cell_type": "code",
   "execution_count": 10,
   "metadata": {},
   "outputs": [],
   "source": [
    "from uszipcode import ZipcodeSearchEngine\n",
    "search = ZipcodeSearchEngine()\n",
    "# zipcode = search.by_zipcode(90001)\n",
    "res = search.by_city(city=\"Los Angeles\", returns=0)\n",
    "search.export_to_csv(res, \"result.csv\")\n",
    "dfAnew = pd.read_csv(\"data/result.csv\")\n",
    "dfA.columns = dfA.columns.str.strip().str.lower().str.replace(' ', '_')\n",
    "dfAcombined = ps.sqldf(\"\"\"\n",
    "SELECT Population, Density, Wealthy, HouseOfUnits, Latitude, Longitude, median_age\n",
    "    from dfAnew a\n",
    "    LEFT JOIN\n",
    "    dfA b ON\n",
    "    a.Zipcode = b.zip_code\n",
    "\"\"\", locals())\n",
    "population_intermediate_df = ps.sqldf(\"\"\"\n",
    "select \n",
    "a.*,\n",
    "b.*,\n",
    "(((center_x - Longitude)*(center_x - Longitude)) + ((center_y - Latitude)*(center_y - Latitude))) AS distance\n",
    "from location_lookup_df a\n",
    "CROSS JOIN\n",
    "dfAcombined b\n",
    "\"\"\", locals())\n",
    "population_final_df = ps.sqldf(\"\"\"\n",
    "select \n",
    "a.index1, Population, Density, Wealthy, HouseOfUnits, median_age\n",
    "from population_intermediate_df a\n",
    "INNER JOIN\n",
    "(select index1, min(distance) AS min_distance from population_intermediate_df group by 1) b\n",
    "ON a.index1 = b.index1 and\n",
    "   a.distance = b.min_distance\n",
    "group by 1\n",
    "order by 1\n",
    "\"\"\", locals())"
   ]
  },
  {
   "cell_type": "code",
   "execution_count": 11,
   "metadata": {},
   "outputs": [],
   "source": [
    "intersections_df = ps.sqldf(\"\"\"\n",
    "select\n",
    "index1, count(*) AS intersections\n",
    "FROM\n",
    "    (select index1, LAT, LON\n",
    "    from dfB a\n",
    "    INNER JOIN\n",
    "    location_lookup_df b\n",
    "     ON a.LON >= new_left AND a.LON < new_right\n",
    "    AND a.LAT >= new_down AND a.LAT < new_up\n",
    "    ) x\n",
    "group by 1 \n",
    "order by 1\n",
    "\"\"\", locals())\n",
    "\n",
    "street_lights_df = ps.sqldf(\"\"\"\n",
    "SELECT\n",
    "  index1,\n",
    "  SUM(total_watts) AS total_watts,\n",
    "  SUM(total_lightbulbs) AS total_lightbulbs\n",
    "  \n",
    "FROM\n",
    "(select index1, \n",
    "CASE WHEN TRIM(IFNULL(LAMPA,'')) = '' THEN 0 ELSE SUBSTR(LAMPA, 1, instr(LAMPA,\"W\")) END +\n",
    "CASE WHEN TRIM(IFNULL(LAMPB,'')) = '' THEN 0 ELSE SUBSTR(LAMPB, 1, instr(LAMPB,\"W\")) END +\n",
    "CASE WHEN TRIM(IFNULL(LAMPC,'')) = '' THEN 0 ELSE SUBSTR(LAMPC, 1, instr(LAMPC,\"W\")) END +\n",
    "CASE WHEN TRIM(IFNULL(LAMPD,'')) = '' THEN 0 ELSE SUBSTR(LAMPD, 1, instr(LAMPD,\"W\")) END +\n",
    "CASE WHEN TRIM(IFNULL(LAMPE,'')) = '' THEN 0 ELSE SUBSTR(LAMPE, 1, instr(LAMPE,\"W\")) END +\n",
    "CASE WHEN TRIM(IFNULL(LAMPF,'')) = '' THEN 0 ELSE SUBSTR(LAMPF, 1, instr(LAMPF,\"W\")) END AS total_watts,\n",
    "CASE WHEN TRIM(IFNULL(LAMPA,'')) = '' THEN 0 ELSE 1 END +\n",
    "CASE WHEN TRIM(IFNULL(LAMPB,'')) = '' THEN 0 ELSE 1 END +\n",
    "CASE WHEN TRIM(IFNULL(LAMPC,'')) = '' THEN 0 ELSE 1 END +\n",
    "CASE WHEN TRIM(IFNULL(LAMPD,'')) = '' THEN 0 ELSE 1 END +\n",
    "CASE WHEN TRIM(IFNULL(LAMPE,'')) = '' THEN 0 ELSE 1 END +\n",
    "CASE WHEN TRIM(IFNULL(LAMPF,'')) = '' THEN 0 ELSE 1 END AS total_lightbulbs\n",
    "from dfD a\n",
    "INNER JOIN\n",
    "location_lookup_df b\n",
    " ON a.X >= new_left AND a.X < new_right\n",
    "AND a.Y >= new_down AND a.Y < new_up\n",
    ") x\n",
    "GROUP BY 1\n",
    "ORDER BY 1\n",
    "\"\"\", locals())\n",
    "\n",
    "regulatory_signs_df = ps.sqldf(\"\"\"\n",
    "SELECT\n",
    "  index1,\n",
    "  SUM(one_way_sign) AS one_way_signs,\n",
    "  SUM(speed_limit_sign) AS speed_limit_signs,\n",
    "  SUM(no_u_turn_sign) AS no_u_turn_signs\n",
    "FROM\n",
    "(select index1,\n",
    "CASE WHEN lower(tooltip) like '%one way%' THEN 1 ELSE 0 END AS one_way_sign,\n",
    "CASE WHEN lower(tooltip) like '%speed%' THEN 1 ELSE 0 END AS speed_limit_sign,\n",
    "CASE WHEN lower(tooltip) like '%no u turn%' THEN 1 ELSE 0 END AS no_u_turn_sign\n",
    "from dfC a\n",
    "INNER JOIN\n",
    "location_lookup_df b\n",
    " ON a.X >= new_left AND a.X < new_right\n",
    "AND a.Y >= new_down AND a.Y < new_up\n",
    ") x\n",
    "GROUP BY 1\n",
    "ORDER BY 1\n",
    "\"\"\", locals())\n",
    "\n",
    "stop_and_yield_signs_df = ps.sqldf(\"\"\"\n",
    "SELECT\n",
    "  index1,\n",
    "  SUM(stop_sign) AS stop_sign,\n",
    "  SUM(yield_sign) AS yield_sign\n",
    "FROM\n",
    "(select index1,\n",
    "    CASE WHEN lower(tooltip) like '%stop%' THEN 1 ELSE 0 END AS stop_sign,\n",
    "    CASE WHEN lower(tooltip) like '%yield%' THEN 1 ELSE 0 END AS yield_sign\n",
    "    from dfE a\n",
    "    INNER JOIN\n",
    "    location_lookup_df b\n",
    "     ON a.X >= new_left AND a.X < new_right\n",
    "    AND a.Y >= new_down AND a.Y < new_up\n",
    "    ) x\n",
    "GROUP BY 1\n",
    "ORDER BY 1\n",
    "\"\"\", locals())"
   ]
  },
  {
   "cell_type": "code",
   "execution_count": 12,
   "metadata": {},
   "outputs": [],
   "source": [
    "final_granular_df = ps.sqldf(\"\"\"\n",
    "SELECT\n",
    "*\n",
    "FROM\n",
    "df a\n",
    "LEFT JOIN population_final_df b on b.index1 = a.index1\n",
    "LEFT JOIN intersections_df c on c.index1 = a.index1\n",
    "LEFT JOIN street_lights_df d on d.index1 = a.index1\n",
    "LEFT JOIN regulatory_signs_df e on e.index1 = a.index1\n",
    "LEFT JOIN stop_and_yield_signs_df f on f.index1 = a.index1\n",
    "\"\"\", locals())"
   ]
  },
  {
   "cell_type": "code",
   "execution_count": 13,
   "metadata": {},
   "outputs": [
    {
     "data": {
      "text/plain": [
       "(166850, 49)"
      ]
     },
     "execution_count": 13,
     "metadata": {},
     "output_type": "execute_result"
    }
   ],
   "source": [
    "final_granular_df.shape"
   ]
  },
  {
   "cell_type": "code",
   "execution_count": 14,
   "metadata": {},
   "outputs": [],
   "source": [
    "final_granular_df['intersection']=final_granular_df['intersection'].apply(lambda l: \"Unknown\" if l == '-' else l)\n",
    "final_granular_df['weather_1']=final_granular_df['weather_1'].apply(lambda l: \"Unknown\" if l == '-' else l)\n",
    "final_granular_df['primary_coll_factor']=final_granular_df['primary_coll_factor'].apply(lambda l: \"Unknown\" if l == '-' else l)\n",
    "final_granular_df['pcf_viol_category']=final_granular_df['pcf_viol_category'].apply(lambda l: \"Unknown\" if l == '-' else l)\n",
    "final_granular_df['pcf_viol_category']=final_granular_df['pcf_viol_category'].apply(lambda l: \"Unknown\" if l == '- ' else l)\n",
    "final_granular_df['type_of_collision']=final_granular_df['type_of_collision'].apply(lambda l: \"Unknown\" if l == '-' else l)\n",
    "final_granular_df['road_surface']=final_granular_df['road_surface'].apply(lambda l: \"Unknown\" if l == '-' else l)\n",
    "final_granular_df['road_cond_1']=final_granular_df['road_cond_1'].apply(lambda l: \"Unknown\" if l == '-' else l)\n",
    "final_granular_df['lighting']=final_granular_df['lighting'].apply(lambda l: \"Unknown\" if l == '-' else l)\n",
    "final_granular_df['control_device']=final_granular_df['control_device'].apply(lambda l: \"Unknown\" if l == '-' else l)\n",
    "\n",
    "\n"
   ]
  },
  {
   "cell_type": "code",
   "execution_count": 15,
   "metadata": {},
   "outputs": [
    {
     "name": "stdout",
     "output_type": "stream",
     "text": [
      "intersection ['Y' 'N' 'Unknown']\n",
      "weather_1 ['A' 'C' 'B' 'E' 'Unknown' 'F' 'G' 'D']\n",
      "location_type ['N' 'I' 'H' 'R']\n",
      "primary_coll_factor ['A' 'D' 'Unknown' 'C' 'B' 'E']\n",
      "pcf_viol_category ['09' '01' '03' '00' '12' '04' '05' '18' '07' '08' '10' '11' '06' '21' '17'\n",
      " '22' 'Unknown' '02' '13' '16' '15' '14' '24']\n",
      "hit_and_run ['N' 'F' 'M']\n",
      "type_of_collision ['D' 'A' 'C' 'B' 'G' 'E' 'F' 'Unknown' 'H']\n",
      "road_surface ['A' 'B' 'Unknown' 'D' 'C']\n",
      "road_cond_1 ['H' 'A' 'D' 'Unknown' 'B' 'G' 'C' 'E' 'F']\n",
      "lighting ['A' 'C' 'B' 'D' 'E' 'Unknown']\n",
      "control_device ['A' 'D' 'B' 'Unknown' 'C']\n",
      "pedestrian_accident ['N' 'Y']\n",
      "bicycle_accident ['N' 'Y']\n",
      "motorcycle_accident ['N' 'Y']\n",
      "truck_accident ['N' 'Y']\n",
      "alcohol_involved ['N' 'Y']\n"
     ]
    }
   ],
   "source": [
    "columns = final_granular_df.columns\n",
    "columns\n",
    "\n",
    "for column in columns:\n",
    "    if column != \"collision_date\" and column != \"index1\" and final_granular_df[column].dtype == \"O\":\n",
    "        print(column + \" \" + str(final_granular_df[column].unique()))"
   ]
  },
  {
   "cell_type": "code",
   "execution_count": 16,
   "metadata": {},
   "outputs": [],
   "source": [
    "final_granular_df = ps.sqldf(\"\"\"\n",
    "SELECT\n",
    "  CASE WHEN collision_time >= 0 and collision_time < 300 THEN 1 else 0 END is_12AM_3AM,\n",
    "  CASE WHEN collision_time >= 300 and collision_time < 600 THEN 1 else 0 END is_3AM_6AM,\n",
    "  CASE WHEN collision_time >= 600 and collision_time < 900 THEN 1 else 0 END is_6AM_9AM,\n",
    "  CASE WHEN collision_time >= 900 and collision_time < 1200 THEN 1 else 0 END is_9AM_12PM,\n",
    "  CASE WHEN collision_time >= 1200 and collision_time < 1500 THEN 1 else 0 END is_12PM_3PM,\n",
    "  CASE WHEN collision_time >= 1500 and collision_time < 1800 THEN 1 else 0 END is_3PM_6PM,\n",
    "  CASE WHEN collision_time >= 1800 and collision_time < 2100 THEN 1 else 0 END is_6PM_9PM,\n",
    "  CASE WHEN collision_time >= 2100 and collision_time < 2400 THEN 1 else 0 END is_9PM_12AM,\n",
    "  CASE WHEN day_of_week = 1 THEN 1 ELSE 0 END AS is_monday,\n",
    "  CASE WHEN day_of_week = 2 THEN 1 ELSE 0 END AS is_tuesday,\n",
    "  CASE WHEN day_of_week = 3 THEN 1 ELSE 0 END AS is_wednesday,\n",
    "  CASE WHEN day_of_week = 4 THEN 1 ELSE 0 END AS is_thursday,\n",
    "  CASE WHEN day_of_week = 5 THEN 1 ELSE 0 END AS is_friday,\n",
    "  CASE WHEN day_of_week = 6 THEN 1 ELSE 0 END AS is_saturday,\n",
    "  CASE WHEN day_of_week = 7 THEN 1 ELSE 0 END AS is_sunday,\n",
    "  x.*\n",
    "FROM final_granular_df x\n",
    "\n",
    "\"\"\", locals())"
   ]
  },
  {
   "cell_type": "code",
   "execution_count": 17,
   "metadata": {},
   "outputs": [],
   "source": [
    "final_granular_df.to_csv(\"a.csv\")"
   ]
  },
  {
   "cell_type": "code",
   "execution_count": 18,
   "metadata": {},
   "outputs": [],
   "source": [
    "df_testfinal2 = pd.get_dummies(final_granular_df, drop_first=True, columns = [\n",
    "'pedestrian_accident',\n",
    "'bicycle_accident',\n",
    "'motorcycle_accident',\n",
    "'truck_accident',\n",
    "'alcohol_involved'])\n",
    "\n",
    "df_testfinal2 = pd.get_dummies(final_granular_df, columns = [\n",
    "'intersection',\n",
    "'weather_1',\n",
    "'location_type',\n",
    "'primary_coll_factor',\n",
    "'pcf_viol_category',\n",
    "'hit_and_run',\n",
    "'type_of_collision',\n",
    "'road_surface',\n",
    "'road_cond_1',\n",
    "'lighting',\n",
    "'control_device'\n",
    "])"
   ]
  },
  {
   "cell_type": "code",
   "execution_count": 19,
   "metadata": {},
   "outputs": [
    {
     "data": {
      "text/plain": [
       "(166850, 129)"
      ]
     },
     "execution_count": 19,
     "metadata": {},
     "output_type": "execute_result"
    }
   ],
   "source": [
    "df_testfinal2.shape"
   ]
  },
  {
   "cell_type": "code",
   "execution_count": 20,
   "metadata": {},
   "outputs": [
    {
     "data": {
      "text/html": [
       "<div>\n",
       "<table border=\"1\" class=\"dataframe\">\n",
       "  <thead>\n",
       "    <tr style=\"text-align: right;\">\n",
       "      <th></th>\n",
       "      <th>is_12AM_3AM</th>\n",
       "      <th>is_3AM_6AM</th>\n",
       "      <th>is_6AM_9AM</th>\n",
       "      <th>is_9AM_12PM</th>\n",
       "      <th>is_12PM_3PM</th>\n",
       "      <th>is_3PM_6PM</th>\n",
       "      <th>is_6PM_9PM</th>\n",
       "      <th>is_9PM_12AM</th>\n",
       "      <th>is_monday</th>\n",
       "      <th>is_tuesday</th>\n",
       "      <th>...</th>\n",
       "      <th>lighting_B</th>\n",
       "      <th>lighting_C</th>\n",
       "      <th>lighting_D</th>\n",
       "      <th>lighting_E</th>\n",
       "      <th>lighting_Unknown</th>\n",
       "      <th>control_device_A</th>\n",
       "      <th>control_device_B</th>\n",
       "      <th>control_device_C</th>\n",
       "      <th>control_device_D</th>\n",
       "      <th>control_device_Unknown</th>\n",
       "    </tr>\n",
       "  </thead>\n",
       "  <tbody>\n",
       "    <tr>\n",
       "      <th>0</th>\n",
       "      <td>0</td>\n",
       "      <td>0</td>\n",
       "      <td>0</td>\n",
       "      <td>0</td>\n",
       "      <td>0</td>\n",
       "      <td>1</td>\n",
       "      <td>0</td>\n",
       "      <td>0</td>\n",
       "      <td>0</td>\n",
       "      <td>1</td>\n",
       "      <td>...</td>\n",
       "      <td>0</td>\n",
       "      <td>0</td>\n",
       "      <td>0</td>\n",
       "      <td>0</td>\n",
       "      <td>0</td>\n",
       "      <td>1</td>\n",
       "      <td>0</td>\n",
       "      <td>0</td>\n",
       "      <td>0</td>\n",
       "      <td>0</td>\n",
       "    </tr>\n",
       "    <tr>\n",
       "      <th>1</th>\n",
       "      <td>0</td>\n",
       "      <td>0</td>\n",
       "      <td>0</td>\n",
       "      <td>0</td>\n",
       "      <td>0</td>\n",
       "      <td>1</td>\n",
       "      <td>0</td>\n",
       "      <td>0</td>\n",
       "      <td>0</td>\n",
       "      <td>0</td>\n",
       "      <td>...</td>\n",
       "      <td>0</td>\n",
       "      <td>0</td>\n",
       "      <td>0</td>\n",
       "      <td>0</td>\n",
       "      <td>0</td>\n",
       "      <td>1</td>\n",
       "      <td>0</td>\n",
       "      <td>0</td>\n",
       "      <td>0</td>\n",
       "      <td>0</td>\n",
       "    </tr>\n",
       "    <tr>\n",
       "      <th>2</th>\n",
       "      <td>0</td>\n",
       "      <td>0</td>\n",
       "      <td>0</td>\n",
       "      <td>0</td>\n",
       "      <td>0</td>\n",
       "      <td>1</td>\n",
       "      <td>0</td>\n",
       "      <td>0</td>\n",
       "      <td>0</td>\n",
       "      <td>0</td>\n",
       "      <td>...</td>\n",
       "      <td>0</td>\n",
       "      <td>0</td>\n",
       "      <td>0</td>\n",
       "      <td>0</td>\n",
       "      <td>0</td>\n",
       "      <td>1</td>\n",
       "      <td>0</td>\n",
       "      <td>0</td>\n",
       "      <td>0</td>\n",
       "      <td>0</td>\n",
       "    </tr>\n",
       "    <tr>\n",
       "      <th>3</th>\n",
       "      <td>0</td>\n",
       "      <td>0</td>\n",
       "      <td>1</td>\n",
       "      <td>0</td>\n",
       "      <td>0</td>\n",
       "      <td>0</td>\n",
       "      <td>0</td>\n",
       "      <td>0</td>\n",
       "      <td>0</td>\n",
       "      <td>0</td>\n",
       "      <td>...</td>\n",
       "      <td>0</td>\n",
       "      <td>0</td>\n",
       "      <td>0</td>\n",
       "      <td>0</td>\n",
       "      <td>0</td>\n",
       "      <td>1</td>\n",
       "      <td>0</td>\n",
       "      <td>0</td>\n",
       "      <td>0</td>\n",
       "      <td>0</td>\n",
       "    </tr>\n",
       "    <tr>\n",
       "      <th>4</th>\n",
       "      <td>0</td>\n",
       "      <td>0</td>\n",
       "      <td>0</td>\n",
       "      <td>0</td>\n",
       "      <td>0</td>\n",
       "      <td>0</td>\n",
       "      <td>0</td>\n",
       "      <td>1</td>\n",
       "      <td>0</td>\n",
       "      <td>0</td>\n",
       "      <td>...</td>\n",
       "      <td>0</td>\n",
       "      <td>1</td>\n",
       "      <td>0</td>\n",
       "      <td>0</td>\n",
       "      <td>0</td>\n",
       "      <td>1</td>\n",
       "      <td>0</td>\n",
       "      <td>0</td>\n",
       "      <td>0</td>\n",
       "      <td>0</td>\n",
       "    </tr>\n",
       "  </tbody>\n",
       "</table>\n",
       "<p>5 rows × 129 columns</p>\n",
       "</div>"
      ],
      "text/plain": [
       "   is_12AM_3AM  is_3AM_6AM  is_6AM_9AM  is_9AM_12PM  is_12PM_3PM  is_3PM_6PM  \\\n",
       "0            0           0           0            0            0           1   \n",
       "1            0           0           0            0            0           1   \n",
       "2            0           0           0            0            0           1   \n",
       "3            0           0           1            0            0           0   \n",
       "4            0           0           0            0            0           0   \n",
       "\n",
       "   is_6PM_9PM  is_9PM_12AM  is_monday  is_tuesday           ...            \\\n",
       "0           0            0          0           1           ...             \n",
       "1           0            0          0           0           ...             \n",
       "2           0            0          0           0           ...             \n",
       "3           0            0          0           0           ...             \n",
       "4           0            1          0           0           ...             \n",
       "\n",
       "   lighting_B  lighting_C  lighting_D  lighting_E  lighting_Unknown  \\\n",
       "0           0           0           0           0                 0   \n",
       "1           0           0           0           0                 0   \n",
       "2           0           0           0           0                 0   \n",
       "3           0           0           0           0                 0   \n",
       "4           0           1           0           0                 0   \n",
       "\n",
       "   control_device_A  control_device_B control_device_C  control_device_D  \\\n",
       "0                 1                 0                0                 0   \n",
       "1                 1                 0                0                 0   \n",
       "2                 1                 0                0                 0   \n",
       "3                 1                 0                0                 0   \n",
       "4                 1                 0                0                 0   \n",
       "\n",
       "   control_device_Unknown  \n",
       "0                       0  \n",
       "1                       0  \n",
       "2                       0  \n",
       "3                       0  \n",
       "4                       0  \n",
       "\n",
       "[5 rows x 129 columns]"
      ]
     },
     "execution_count": 20,
     "metadata": {},
     "output_type": "execute_result"
    }
   ],
   "source": [
    "df_testfinal2.head()"
   ]
  },
  {
   "cell_type": "markdown",
   "metadata": {},
   "source": [
    "Causes for accidents in general\n",
    "- then pedestrial, then bicycle, then severe accidents, \n",
    "\n",
    "\n",
    "random\n",
    "- % accidents by time and weekday"
   ]
  },
  {
   "cell_type": "code",
   "execution_count": 22,
   "metadata": {},
   "outputs": [],
   "source": [
    "df2 = ps.sqldf(\"\"\"\n",
    "select \n",
    "Population,Density,Wealthy,HouseOfUnits median_age,\n",
    "intersections, total_watts,total_lightbulbs,  \n",
    "one_way_signs,speed_limit_signs,no_u_turn_signs, \n",
    "stop_sign,yield_sign,accidents\n",
    "FROM location_lookup_df a\n",
    "LEFT JOIN population_final_df b on b.index1 = a.index1\n",
    "LEFT JOIN intersections_df c on c.index1 = a.index1\n",
    "LEFT JOIN street_lights_df d on d.index1 = a.index1\n",
    "LEFT JOIN regulatory_signs_df e on e.index1 = a.index1\n",
    "LEFT JOIN stop_and_yield_signs_df f on f.index1 = a.index1\n",
    "INNER JOIN (\n",
    "    SELECT \n",
    "      index1, \n",
    "      count(*) accidents     \n",
    "    FROM df \n",
    "    GROUP BY 1\n",
    "    ) z ON z.index1 = a.index1\n",
    "\"\"\")\n"
   ]
  },
  {
   "cell_type": "code",
   "execution_count": 23,
   "metadata": {},
   "outputs": [],
   "source": [
    "#  SUM(CASE WHEN pedestrian_accident = 'Y' THEN 1 ELSE 0 END) AS pedestrian_accidents,\n",
    "#       SUM(CASE WHEN bicycle_accident = 'Y' THEN 1 ELSE 0 END) AS bicycle_accidents,\n",
    "#       SUM(CASE WHEN collision_severity IN (1,2) THEN 1 ELSE 0 END) AS severe_accidents,\n",
    "#       SUM(CASE WHEN collision_severity IN (1,2) THEN 0 ELSE 1 END) AS minor_accidents,\n",
    "#       SUM(CASE WHEN intersection_Y = 1 THEN 0 ELSE 1 END) AS intersection_accidents,\n",
    "#       SUM(CASE WHEN intersection_Y = 1 THEN 0 ELSE 1 END) AS intersection_accidents,"
   ]
  },
  {
   "cell_type": "code",
   "execution_count": 24,
   "metadata": {},
   "outputs": [
    {
     "data": {
      "text/plain": [
       "Population           35482.000000\n",
       "Density               8622.537879\n",
       "Wealthy              23714.906091\n",
       "median_age           16127.000000\n",
       "intersections          108.000000\n",
       "total_watts          33916.000000\n",
       "total_lightbulbs       391.000000\n",
       "one_way_signs            2.000000\n",
       "speed_limit_signs       15.000000\n",
       "no_u_turn_signs          0.000000\n",
       "stop_sign               90.000000\n",
       "yield_sign               0.000000\n",
       "accidents              241.000000\n",
       "Name: 0.5, dtype: float64"
      ]
     },
     "execution_count": 24,
     "metadata": {},
     "output_type": "execute_result"
    }
   ],
   "source": [
    "df2.quantile(.50)"
   ]
  },
  {
   "cell_type": "code",
   "execution_count": 25,
   "metadata": {},
   "outputs": [],
   "source": [
    "df2 = df2.fillna(df2.quantile(.50)) # optionally: replace self.medians with 0"
   ]
  },
  {
   "cell_type": "code",
   "execution_count": null,
   "metadata": {},
   "outputs": [],
   "source": [
    "df2.to_csv(\"df2.csv\")\n"
   ]
  },
  {
   "cell_type": "code",
   "execution_count": 31,
   "metadata": {},
   "outputs": [
    {
     "data": {
      "image/png": "[encoded data removed]",
      "text/plain": [
       "<matplotlib.figure.Figure at 0x11aef4fd0>"
      ]
     },
     "metadata": {},
     "output_type": "display_data"
    },
    {
     "data": {
      "image/png": "[encoded data removed]",
      "text/plain": [
       "<matplotlib.figure.Figure at 0x11854f9e8>"
      ]
     },
     "metadata": {},
     "output_type": "display_data"
    },
    {
     "data": {
      "image/png": "[encoded data removed]",
      "text/plain": [
       "<matplotlib.figure.Figure at 0x10383a6a0>"
      ]
     },
     "metadata": {},
     "output_type": "display_data"
    },
    {
     "data": {
      "image/png": "[encoded data removed]",
      "text/plain": [
       "<matplotlib.figure.Figure at 0x1189e3e80>"
      ]
     },
     "metadata": {},
     "output_type": "display_data"
    },
    {
     "data": {
      "image/png": "[encoded data removed]",
      "text/plain": [
       "<matplotlib.figure.Figure at 0x11d724e10>"
      ]
     },
     "metadata": {},
     "output_type": "display_data"
    },
    {
     "data": {
      "image/png": "[encoded data removed]",
      "text/plain": [
       "<matplotlib.figure.Figure at 0x1193092e8>"
      ]
     },
     "metadata": {},
     "output_type": "display_data"
    },
    {
     "data": {
      "image/png": "[encoded data removed]",
      "text/plain": [
       "<matplotlib.figure.Figure at 0x1176d8390>"
      ]
     },
     "metadata": {},
     "output_type": "display_data"
    }
   ],
   "source": [
    "from sklearn.model_selection import KFold\n",
    "from sklearn.model_selection import cross_val_score\n",
    "from sklearn.linear_model import LogisticRegression\n",
    "from sklearn.naive_bayes import GaussianNB\n",
    "from sklearn.neighbors import KNeighborsRegressor\n",
    "from sklearn.tree import DecisionTreeRegressor\n",
    "from sklearn.svm import SVR\n",
    "import numpy as np\n",
    "import pandas as pd\n",
    "from sklearn.linear_model import RidgeCV\n",
    "from sklearn.model_selection import train_test_split\n",
    "from sklearn.pipeline import make_pipeline, make_union\n",
    "# from tpot.builtins import StackingEstimator\n",
    "# from xgboost import XGBRegressor\n",
    "from sklearn.ensemble import RandomForestRegressor\n",
    "from sklearn.ensemble import AdaBoostRegressor\n",
    "\n",
    "\n",
    "models = []\n",
    "models.append((\"LR\",LogisticRegression()))\n",
    "models.append((\"KNN\",KNeighborsRegressor()))\n",
    "models.append((\"DT\",DecisionTreeRegressor()))\n",
    "models.append((\"SVR\",SVR()))\n",
    "models.append((\"AdaBoost\",AdaBoostRegressor(n_estimators=500, random_state=2)))\n",
    "models.append((\"RandomForestRegressor\",RandomForestRegressor(n_estimators = 1000, max_features=\"log2\", min_samples_leaf=5, criterion=\"mse\", \n",
    "                                        bootstrap = True,random_state=2)))\n",
    "#     models.append((\"XGBRegressor\",make_pipeline(\n",
    "#         StackingEstimator(estimator=RidgeCV()),\n",
    "#         XGBRegressor(learning_rate=0.1, max_depth=10, min_child_weight=13, n_estimators=100, nthread=1, subsample=0.55)\n",
    "#     )))\n",
    "\n",
    "results = []\n",
    "names = []\n",
    "for name, model in models:\n",
    "    kfold = KFold(n_splits=5, random_state=22)\n",
    "    cv_result = cross_val_score(model, df2.drop(\"accidents\",axis=1), df2[\"accidents\"], cv = kfold, scoring='neg_mean_squared_error')\n",
    "    names.append(name)\n",
    "    results.append(cv_result)\n",
    "\n",
    "#     for i in range(len(names)):\n",
    "#         print(names[i], results[i].mean())\n",
    "\n",
    "fig, ax = plt.subplots(figsize=(16, 16))\n",
    "ax = sns.boxplot(data=results)\n",
    "ax.set_xticklabels(names, rotation=30)\n",
    "#     plt.title(\"Model {} (Baseline model is {})\".format(i, baseline_mses[i]))\n",
    "plt.plot(np.linspace(-20,120,1000), [-1*90651.89015911195]*1000, 'r')\n",
    "plt.savefig('Model_{}_Results.png'.format(-1*i))\n",
    "\n",
    "\n"
   ]
  },
  {
   "cell_type": "code",
   "execution_count": 29,
   "metadata": {},
   "outputs": [
    {
     "name": "stdout",
     "output_type": "stream",
     "text": [
      "Model 1's baseline mse is 90651.89015911195\n"
     ]
    }
   ],
   "source": [
    "from sklearn.metrics import mean_squared_error\n",
    "\n",
    "y_prediction = np.zeros(df2.shape[0])\n",
    "y_prediction.fill(df2['accidents'].mean())\n",
    "\n",
    "mse = mean_squared_error(df2['accidents'], y_prediction)\n",
    "print(\"Model {}'s baseline mse is {}\".format(i, mse))"
   ]
  },
  {
   "cell_type": "code",
   "execution_count": 32,
   "metadata": {},
   "outputs": [
    {
     "name": "stdout",
     "output_type": "stream",
     "text": [
      "29854.9512061\n"
     ]
    }
   ],
   "source": [
    "from sklearn.ensemble import RandomForestRegressor\n",
    "\n",
    "my_RandomForest = RandomForestRegressor(n_estimators = 1000, max_features=\"log2\", min_samples_leaf=5, criterion=\"mse\", \n",
    "                                        bootstrap = True,random_state=2)\n",
    "\n",
    "#train the RandomForest alg by using the FIT method\n",
    "\n",
    "X_train, X_test, y_train, y_test = train_test_split(df2.drop(\"accidents\",axis=1),\n",
    "                                                    df2['accidents'],\n",
    "                                                    train_size=0.75, test_size=0.25)\n",
    "\n",
    "\n",
    "my_RandomForest.fit(X_train,y_train,sample_weight=None)\n",
    "\n",
    "#Make prediction over the trained RandomForest alg using the testing sample:\n",
    "\n",
    "y_predict = my_RandomForest.predict(X_test)\n",
    "\n",
    "# from tpot import TPOTRegressor\n",
    "from sklearn.model_selection import train_test_split\n",
    "\n",
    "\n",
    "\n",
    "# print(y_predict)\n",
    "\n",
    "# Function \"accuracy_score\" from \"sklearn.metrics\" will perform the element-to-element comparision and returns the \n",
    "# portion of correct predictions:\n",
    "from sklearn.metrics import mean_squared_error\n",
    "mse_RF = mean_squared_error(y_test, y_predict)\n",
    "print(mse_RF)"
   ]
  },
  {
   "cell_type": "code",
   "execution_count": 40,
   "metadata": {},
   "outputs": [
    {
     "name": "stdout",
     "output_type": "stream",
     "text": [
      "Feature ranking:\n",
      "1. feature 5 (0.259745)\n",
      "2. feature 6 (0.250823)\n",
      "3. feature 10 (0.128105)\n",
      "4. feature 1 (0.120895)\n",
      "5. feature 8 (0.059876)\n",
      "6. feature 4 (0.056636)\n",
      "7. feature 7 (0.046647)\n",
      "8. feature 2 (0.029912)\n",
      "9. feature 0 (0.019542)\n",
      "10. feature 9 (0.012276)\n",
      "11. feature 3 (0.011680)\n",
      "12. feature 11 (0.003864)\n"
     ]
    },
    {
     "ename": "IndexError",
     "evalue": "index 12 is out of bounds for axis 0 with size 12",
     "output_type": "error",
     "traceback": [
      "\u001b[0;31m---------------------------------------------------------------------------\u001b[0m",
      "\u001b[0;31mIndexError\u001b[0m                                Traceback (most recent call last)",
      "\u001b[0;32m<ipython-input-40-511835ceeab4>\u001b[0m in \u001b[0;36m<module>\u001b[0;34m()\u001b[0m\n\u001b[1;32m      8\u001b[0m \u001b[0;34m\u001b[0m\u001b[0m\n\u001b[1;32m      9\u001b[0m \u001b[0;32mfor\u001b[0m \u001b[0mf\u001b[0m \u001b[0;32min\u001b[0m \u001b[0mrange\u001b[0m\u001b[0;34m(\u001b[0m\u001b[0mdf2\u001b[0m\u001b[0;34m.\u001b[0m\u001b[0mshape\u001b[0m\u001b[0;34m[\u001b[0m\u001b[0;36m1\u001b[0m\u001b[0;34m]\u001b[0m\u001b[0;34m)\u001b[0m\u001b[0;34m:\u001b[0m\u001b[0;34m\u001b[0m\u001b[0m\n\u001b[0;32m---> 10\u001b[0;31m     \u001b[0mprint\u001b[0m\u001b[0;34m(\u001b[0m\u001b[0;34m\"%d. feature %d (%f)\"\u001b[0m \u001b[0;34m%\u001b[0m \u001b[0;34m(\u001b[0m\u001b[0mf\u001b[0m \u001b[0;34m+\u001b[0m \u001b[0;36m1\u001b[0m\u001b[0;34m,\u001b[0m \u001b[0mindices\u001b[0m\u001b[0;34m[\u001b[0m\u001b[0mf\u001b[0m\u001b[0;34m]\u001b[0m\u001b[0;34m,\u001b[0m \u001b[0mimportances\u001b[0m\u001b[0;34m[\u001b[0m\u001b[0mindices\u001b[0m\u001b[0;34m[\u001b[0m\u001b[0mf\u001b[0m\u001b[0;34m]\u001b[0m\u001b[0;34m]\u001b[0m\u001b[0;34m)\u001b[0m\u001b[0;34m)\u001b[0m\u001b[0;34m\u001b[0m\u001b[0m\n\u001b[0m\u001b[1;32m     11\u001b[0m \u001b[0;34m\u001b[0m\u001b[0m\n\u001b[1;32m     12\u001b[0m \u001b[0;31m# Plot the feature importances of the forest\u001b[0m\u001b[0;34m\u001b[0m\u001b[0;34m\u001b[0m\u001b[0m\n",
      "\u001b[0;31mIndexError\u001b[0m: index 12 is out of bounds for axis 0 with size 12"
     ]
    }
   ],
   "source": [
    "importances = my_RandomForest.feature_importances_\n",
    "std = np.std([tree.feature_importances_ for tree in my_RandomForest.estimators_],\n",
    "             axis=0)\n",
    "indices = np.argsort(importances)[::-1]\n",
    "\n",
    "# Print the feature ranking\n",
    "print(\"Feature ranking:\")\n",
    "\n",
    "for f in range(df2.shape[1]):\n",
    "    print(\"%d. feature %d (%f)\" % (f + 1, indices[f], importances[indices[f]]))\n",
    "\n",
    "# Plot the feature importances of the forest\n",
    "plt.figure()\n",
    "plt.title(\"Feature importances\")\n",
    "plt.bar(range(df2.shape[1]), importances[indices],\n",
    "       color=\"r\", yerr=std[indices], align=\"center\")\n",
    "plt.xticks(range(df2.shape[1]), indices)\n",
    "plt.xlim([-1, df2.shape[1]])\n",
    "plt.show()"
   ]
  },
  {
   "cell_type": "code",
   "execution_count": null,
   "metadata": {},
   "outputs": [],
   "source": []
  },
  {
   "cell_type": "code",
   "execution_count": null,
   "metadata": {},
   "outputs": [],
   "source": []
  },
  {
   "cell_type": "code",
   "execution_count": 22,
   "metadata": {},
   "outputs": [],
   "source": [
    "df_testfinal2.to_csv(\"df_testfinal2.csv\")\n"
   ]
  },
  {
   "cell_type": "markdown",
   "metadata": {},
   "source": [
    "# Aggregated Dataset\n",
    "- You can skip the code above and start here if you have this dataset"
   ]
  },
  {
   "cell_type": "code",
   "execution_count": 41,
   "metadata": {},
   "outputs": [],
   "source": [
    "df_testfinal2 = pd.read_csv(\"df_testfinal2.csv\")"
   ]
  },
  {
   "cell_type": "code",
   "execution_count": 42,
   "metadata": {},
   "outputs": [
    {
     "data": {
      "text/plain": [
       "Index(['Unnamed: 0', 'is_12AM_3AM', 'is_3AM_6AM', 'is_6AM_9AM', 'is_9AM_12PM',\n",
       "       'is_12PM_3PM', 'is_3PM_6PM', 'is_6PM_9PM', 'is_9PM_12AM', 'is_monday',\n",
       "       ...\n",
       "       'lighting_B', 'lighting_C', 'lighting_D', 'lighting_E',\n",
       "       'lighting_Unknown', 'control_device_A', 'control_device_B',\n",
       "       'control_device_C', 'control_device_D', 'control_device_Unknown'],\n",
       "      dtype='object', length=130)"
      ]
     },
     "execution_count": 42,
     "metadata": {},
     "output_type": "execute_result"
    }
   ],
   "source": [
    "df_testfinal2.columns"
   ]
  },
  {
   "cell_type": "code",
   "execution_count": 43,
   "metadata": {},
   "outputs": [],
   "source": [
    "final_aggregated_df = ps.sqldf(\"\"\"\n",
    "SELECT\n",
    "Sector, \n",
    "collision_date,\n",
    "COUNT(*) AS collisions,\n",
    "SUM(is_12AM_3AM) AS is_12AM_3AM,\n",
    "SUM(is_3AM_6AM) AS is_3AM_6AM,\n",
    "SUM(is_6AM_9AM) AS is_6AM_9AM,\n",
    "SUM(is_9AM_12PM) AS is_9AM_12PM,\n",
    "SUM(is_12PM_3PM) AS is_12PM_3PM,\n",
    "SUM(is_3PM_6PM) AS is_3PM_6PM,\n",
    "SUM(is_6PM_9PM) AS is_6PM_9PM,\n",
    "SUM(is_9PM_12AM) AS is_9PM_12AM,\n",
    "MAX(is_monday) AS is_monday,\n",
    "MAX(is_tuesday) AS is_tuesday,\n",
    "MAX(is_wednesday) AS is_wednesday,\n",
    "MAX(is_thursday) AS is_thursday,\n",
    "MAX(is_friday) AS is_friday,\n",
    "MAX(is_saturday) AS is_saturday,\n",
    "MAX(is_sunday) AS is_sunday,\n",
    "AVG(Density) AS avg_density_per_collision, \n",
    "AVG(Wealthy) AS avg_wealth_per_collision,\n",
    "AVG(intersections) AS avg_intersections_per_collision,\n",
    "AVG(total_watts) AS avg_watts_per_collision,\n",
    "AVG(total_lightbulbs) AS avg_lightbulbs_per_collision,\n",
    "AVG(one_way_signs) AS avg_one_way_signs_per_collision,\n",
    "AVG(speed_limit_signs) AS avg_speed_limit_signs_per_collision,\n",
    "AVG(no_u_turn_signs) AS avg_no_u_turn_signs_per_collision,\n",
    "AVG(stop_sign) AS avg_stop_sign_per_collision,\n",
    "AVG(yield_sign) AS avg_yield_sign_per_collision,\n",
    "SUM(CASE WHEN collision_severity IN (1,2) THEN 1 ELSE 0 END) AS high_severity,\n",
    "SUM(CASE WHEN collision_severity IN (1,2) THEN 0 ELSE 1 END) AS low_severity,\n",
    "SUM(number_killed) AS number_killed,\n",
    "SUM(number_injured) AS number_injured,\n",
    "SUM(pedestrian_accident) AS pedestrian_accident,\n",
    "SUM(bicycle_accident) AS bicycle_accident,\n",
    "SUM(motorcycle_accident) AS motorcycle_accident,\n",
    "SUM(truck_accident) AS truck_accident,\n",
    "SUM(alcohol_involved) AS alcohol_involved,\n",
    "SUM(count_ped_killed) AS count_ped_killed,\n",
    "SUM(count_ped_injured) AS count_ped_injured,\n",
    "SUM(count_bicyclist_killed) AS count_bicyclist_killed,\n",
    "SUM(count_bicyclist_injured) AS count_bicyclist_injured,\n",
    "SUM(intersection_N) AS intersection_N,\n",
    "SUM(intersection_Unknown) AS intersection_Unknown,\n",
    "SUM(intersection_Y) AS intersection_Y,\n",
    "SUM(weather_1_A) AS weather_1_A,\n",
    "SUM(weather_1_B) AS weather_1_B,\n",
    "SUM(weather_1_C) AS weather_1_C,\n",
    "SUM(weather_1_D) AS weather_1_D,\n",
    "SUM(weather_1_E) AS weather_1_E,\n",
    "SUM(weather_1_F) AS weather_1_F,\n",
    "SUM(weather_1_G) AS weather_1_G,\n",
    "SUM(weather_1_Unknown) AS weather_1_Unknown,\n",
    "SUM(location_type_H) AS location_type_H,\n",
    "SUM(location_type_I) AS location_type_I,\n",
    "SUM(location_type_N) AS location_type_N,\n",
    "SUM(location_type_R) AS location_type_R,\n",
    "SUM(primary_coll_factor_A) AS primary_coll_factor_A,\n",
    "SUM(primary_coll_factor_B) AS primary_coll_factor_B,\n",
    "SUM(primary_coll_factor_C) AS primary_coll_factor_C,\n",
    "SUM(primary_coll_factor_D) AS primary_coll_factor_D,\n",
    "SUM(primary_coll_factor_E) AS primary_coll_factor_E,\n",
    "SUM(primary_coll_factor_Unknown) AS primary_coll_factor_Unknown,\n",
    "SUM(pcf_viol_category_00) AS pcf_viol_category_00,\n",
    "SUM(pcf_viol_category_01) AS pcf_viol_category_01,\n",
    "SUM(pcf_viol_category_02) AS pcf_viol_category_02,\n",
    "SUM(pcf_viol_category_03) AS pcf_viol_category_03,\n",
    "SUM(pcf_viol_category_04) AS pcf_viol_category_04,\n",
    "SUM(pcf_viol_category_05) AS pcf_viol_category_05,\n",
    "SUM(pcf_viol_category_06) AS pcf_viol_category_06,\n",
    "SUM(pcf_viol_category_07) AS pcf_viol_category_07,\n",
    "SUM(pcf_viol_category_08) AS pcf_viol_category_08,\n",
    "SUM(pcf_viol_category_09) AS pcf_viol_category_09,\n",
    "SUM(pcf_viol_category_10) AS pcf_viol_category_10,\n",
    "SUM(pcf_viol_category_11) AS pcf_viol_category_11,\n",
    "SUM(pcf_viol_category_12) AS pcf_viol_category_12,\n",
    "SUM(pcf_viol_category_13) AS pcf_viol_category_13,\n",
    "SUM(pcf_viol_category_14) AS pcf_viol_category_14,\n",
    "SUM(pcf_viol_category_15) AS pcf_viol_category_15,\n",
    "SUM(pcf_viol_category_16) AS pcf_viol_category_16,\n",
    "SUM(pcf_viol_category_17) AS pcf_viol_category_17,\n",
    "SUM(pcf_viol_category_18) AS pcf_viol_category_18,\n",
    "SUM(pcf_viol_category_21) AS pcf_viol_category_21,\n",
    "SUM(pcf_viol_category_22) AS pcf_viol_category_22,\n",
    "SUM(pcf_viol_category_24) AS pcf_viol_category_24,\n",
    "SUM(pcf_viol_category_Unknown) AS pcf_viol_category_Unknown,\n",
    "SUM(hit_and_run_F) AS hit_and_run_F,\n",
    "SUM(hit_and_run_M) AS hit_and_run_M,\n",
    "SUM(hit_and_run_N) AS hit_and_run_N,\n",
    "SUM(type_of_collision_A) AS type_of_collision_A,\n",
    "SUM(type_of_collision_B) AS type_of_collision_B,\n",
    "SUM(type_of_collision_C) AS type_of_collision_C,\n",
    "SUM(type_of_collision_D) AS type_of_collision_D,\n",
    "SUM(type_of_collision_E) AS type_of_collision_E,\n",
    "SUM(type_of_collision_F) AS type_of_collision_F,\n",
    "SUM(type_of_collision_G) AS type_of_collision_G,\n",
    "SUM(type_of_collision_H) AS type_of_collision_H,\n",
    "SUM(type_of_collision_Unknown) AS type_of_collision_Unknown,\n",
    "SUM(road_surface_A) AS road_surface_A,\n",
    "SUM(road_surface_B) AS road_surface_B,\n",
    "SUM(road_surface_C) AS road_surface_C,\n",
    "SUM(road_surface_D) AS road_surface_D,\n",
    "SUM(road_surface_Unknown) AS road_surface_Unknown,\n",
    "SUM(road_cond_1_A) AS road_cond_1_A,\n",
    "SUM(road_cond_1_B) AS road_cond_1_B,\n",
    "SUM(road_cond_1_C) AS road_cond_1_C,\n",
    "SUM(road_cond_1_D) AS road_cond_1_D,\n",
    "SUM(road_cond_1_E) AS road_cond_1_E,\n",
    "SUM(road_cond_1_F) AS road_cond_1_F,\n",
    "SUM(road_cond_1_G) AS road_cond_1_G,\n",
    "SUM(road_cond_1_H) AS road_cond_1_H,\n",
    "SUM(road_cond_1_Unknown) AS road_cond_1_Unknown,\n",
    "SUM(lighting_A) AS lighting_A,\n",
    "SUM(lighting_B) AS lighting_B,\n",
    "SUM(lighting_C) AS lighting_C,\n",
    "SUM(lighting_D) AS lighting_D,\n",
    "SUM(lighting_E) AS lighting_E,\n",
    "SUM(lighting_Unknown) AS lighting_Unknown,\n",
    "SUM(control_device_A) AS control_device_A,\n",
    "SUM(control_device_B) AS control_device_B,\n",
    "SUM(control_device_C) AS control_device_C,\n",
    "SUM(control_device_D) AS control_device_D,\n",
    "SUM(control_device_Unknown) AS control_device_Unknown\n",
    "FROM df_testfinal2\n",
    "GROUP BY 1,2\n",
    "ORDER BY 1,2\n",
    "\n",
    "\"\"\", locals())\n",
    "final_aggregated_df.to_csv(\"final_aggregated_df.csv\")"
   ]
  },
  {
   "cell_type": "code",
   "execution_count": null,
   "metadata": {},
   "outputs": [],
   "source": []
  },
  {
   "cell_type": "code",
   "execution_count": null,
   "metadata": {},
   "outputs": [],
   "source": []
  }
 ],
 "metadata": {
  "kernelspec": {
   "display_name": "TestProject",
   "language": "python",
   "name": "testproject"
  }
 },
 "nbformat": 4,
 "nbformat_minor": 2
}
