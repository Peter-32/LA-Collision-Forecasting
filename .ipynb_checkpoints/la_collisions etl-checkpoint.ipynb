{
 "cells": [
  {
   "cell_type": "code",
   "execution_count": 1,
   "metadata": {},
   "outputs": [],
   "source": [
    "import pandas as pd\n",
    "import seaborn as sns\n",
    "import pandasql as ps\n",
    "import numpy as np\n",
    "import pandas as pd\n",
    "import matplotlib as mpl\n",
    "import matplotlib.pyplot as plt"
   ]
  },
  {
   "cell_type": "code",
   "execution_count": 2,
   "metadata": {},
   "outputs": [
    {
     "name": "stderr",
     "output_type": "stream",
     "text": [
      "/Users/cheryljose/Documents/Projects/TestProject/venv/lib/python3.6/site-packages/IPython/core/interactiveshell.py:2785: DtypeWarning: Columns (37,62) have mixed types. Specify dtype option on import or set low_memory=False.\n",
      "  interactivity=interactivity, compiler=compiler, result=result)\n"
     ]
    }
   ],
   "source": [
    "df = pd.read_csv(\"data/data.csv\")"
   ]
  },
  {
   "cell_type": "code",
   "execution_count": 3,
   "metadata": {},
   "outputs": [],
   "source": [
    "df = df[[\"X\", \"Y\", \"collision_date\", \"collision_time\", \"day_of_week\", \"intersection\", \"weather_1\", \"location_type\", \"collision_severity\", \"number_killed\", \"number_injured\", \"party_count\", \"primary_coll_factor\", \"pcf_viol_category\", \"hit_and_run\", \"type_of_collision\", \"road_surface\", \"road_cond_1\", \"lighting\", \"control_device\", \"pedestrian_accident\", \"bicycle_accident\", \"motorcycle_accident\", \"truck_accident\", \"alcohol_involved\", \"count_ped_killed\", \"count_ped_injured\", \"count_bicyclist_killed\", \"count_bicyclist_injured\"]]\n"
   ]
  },
  {
   "cell_type": "markdown",
   "metadata": {},
   "source": [
    "Fix missing Values"
   ]
  },
  {
   "cell_type": "code",
   "execution_count": 4,
   "metadata": {},
   "outputs": [],
   "source": [
    "df['location_type']=df['location_type'].fillna('N')\n",
    "\n",
    "df['pedestrian_accident']=df['pedestrian_accident'].fillna('N')\n",
    "\n",
    "df['bicycle_accident']=df['bicycle_accident'].fillna('N')\n",
    "\n",
    "df['motorcycle_accident']=df['motorcycle_accident'].fillna('N')\n",
    "\n",
    "df['truck_accident']=df['truck_accident'].fillna('N')\n",
    "df['alcohol_involved']=df['alcohol_involved'].fillna('N')"
   ]
  },
  {
   "cell_type": "markdown",
   "metadata": {},
   "source": [
    "Drop Duplicates"
   ]
  },
  {
   "cell_type": "code",
   "execution_count": 5,
   "metadata": {},
   "outputs": [
    {
     "data": {
      "text/plain": [
       "'rows before: 171533, rows after: 171522, duplicate rows: 11'"
      ]
     },
     "execution_count": 5,
     "metadata": {},
     "output_type": "execute_result"
    }
   ],
   "source": [
    "rows_before = df.shape[0]\n",
    "\n",
    "df = df.drop_duplicates()\n",
    "\n",
    "\"\"\"rows before: {}, rows after: {}, duplicate rows: {}\"\"\". \\\n",
    "format(rows_before, df.shape[0], rows_before - df.shape[0])"
   ]
  },
  {
   "cell_type": "markdown",
   "metadata": {},
   "source": [
    "Drop Rows without Geo Location"
   ]
  },
  {
   "cell_type": "code",
   "execution_count": 6,
   "metadata": {},
   "outputs": [
    {
     "data": {
      "text/plain": [
       "'rows before: 171522, rows after: 169515, rows dropped: 2007'"
      ]
     },
     "execution_count": 6,
     "metadata": {},
     "output_type": "execute_result"
    }
   ],
   "source": [
    "ps.sqldf(\"select ROUND(X, 0), ROUND(Y, 0), count(*) from df group by 1,2 order by 1 desc,2 desc\", locals())\n",
    "\n",
    "ps.sqldf(\"select * from df where ROUND(X, 0) = 0 or ROUND(Y, 0) = 0\", locals())\n",
    "\n",
    "rows_before = df.shape[0]\n",
    "df = ps.sqldf(\"select * from df where ROUND(X, 0) != 0 and ROUND(Y, 0) != 0\", locals())\n",
    "\n",
    "\"\"\"rows before: {}, rows after: {}, rows dropped: {}\"\"\". \\\n",
    "format(rows_before, df.shape[0], rows_before - df.shape[0])"
   ]
  },
  {
   "cell_type": "markdown",
   "metadata": {},
   "source": [
    "Get the Grid"
   ]
  },
  {
   "cell_type": "code",
   "execution_count": 7,
   "metadata": {},
   "outputs": [],
   "source": [
    "df_1 = ps.sqldf(\"\"\"\n",
    "SELECT\n",
    "1 AS sector,\n",
    "-118.66 AS left,\n",
    "-118.50 AS right,\n",
    "34.32 AS up,\n",
    "34.14 AS down\n",
    "UNION ALL\n",
    "SELECT\n",
    "2 AS sector,\n",
    "-118.50 AS left,\n",
    "-118.34 AS right,\n",
    "34.32 AS up,\n",
    "34.14 AS down         \n",
    "UNION ALL\n",
    "SELECT\n",
    "3 AS sector,\n",
    "-118.36 AS left,\n",
    "-118.14 AS right,\n",
    "34.14 AS up,\n",
    "34.05 AS down\n",
    "UNION ALL\n",
    "SELECT\n",
    "4 AS sector,\n",
    "-118.50 AS left,\n",
    "-118.36 AS right,\n",
    "34.14 AS up,\n",
    "33.91 AS down \n",
    "UNION ALL\n",
    "SELECT\n",
    "5 AS sector,\n",
    "-118.36 AS left,\n",
    "-118.28 AS right,\n",
    "34.05 AS up,\n",
    "33.915 AS down\n",
    "UNION ALL\n",
    "SELECT\n",
    "6 AS sector,\n",
    "-118.28 AS left,\n",
    "-118.13 AS right,\n",
    "34.05 AS up,\n",
    "33.915 AS down\n",
    "UNION ALL\n",
    "SELECT\n",
    "7 AS sector,\n",
    "-118.325 AS left,\n",
    "-118.238 AS right,\n",
    "33.915 AS up,\n",
    "33.7 AS down\n",
    "\n",
    "         \"\"\", locals())\n",
    "\n",
    "\n",
    "location_lookup_df = ps.sqldf(\"\"\"\n",
    "\n",
    "SELECT\n",
    "z2.*,\n",
    "new_left + (new_right - new_left)/2 AS center_x,\n",
    "new_down + (new_up - new_down)/2 AS center_y\n",
    "FROM\n",
    "    (SELECT\n",
    "      sector,\n",
    "      (delta_x*row1) + left AS new_left,\n",
    "      (delta_x*(row1+1)) + left AS new_right,\n",
    "      (delta_y*row2) + down AS new_down,\n",
    "      (delta_y*(row2+1)) + down AS new_up,\n",
    "      x.*,\n",
    "      y.*,\n",
    "      z.*\n",
    "\n",
    "    FROM\n",
    "        (SELECT\n",
    "          sector,\n",
    "          (right - left) / 10 delta_x,\n",
    "          (up - down) / 10 delta_y,\n",
    "          left,\n",
    "          down,\n",
    "          right,\n",
    "          up\n",
    "        FROM df_1\n",
    "        ) x\n",
    "    CROSS JOIN\n",
    "        (\n",
    "        SELECT 0 as row1 UNION ALL\n",
    "        SELECT 1 as row1 UNION ALL\n",
    "        SELECT 2 as row1 UNION ALL\n",
    "        SELECT 3 as row1 UNION ALL\n",
    "        SELECT 4 as row1 UNION ALL\n",
    "        SELECT 5 as row1 UNION ALL\n",
    "        SELECT 6 as row1 UNION ALL\n",
    "        SELECT 7 as row1 UNION ALL\n",
    "        SELECT 8 as row1 UNION ALL\n",
    "        SELECT 9 as row1\n",
    "        ) y \n",
    "        CROSS JOIN\n",
    "        (\n",
    "        SELECT 0 as row2 UNION ALL\n",
    "        SELECT 1 as row2 UNION ALL\n",
    "        SELECT 2 as row2 UNION ALL\n",
    "        SELECT 3 as row2 UNION ALL\n",
    "        SELECT 4 as row2 UNION ALL\n",
    "        SELECT 5 as row2 UNION ALL\n",
    "        SELECT 6 as row2 UNION ALL\n",
    "        SELECT 7 as row2 UNION ALL\n",
    "        SELECT 8 as row2 UNION ALL\n",
    "        SELECT 9 as row2\n",
    "        ) z\n",
    "    ) z2\n",
    "\"\"\", locals())\n",
    "location_lookup_df['index1'] = location_lookup_df.index\n"
   ]
  },
  {
   "cell_type": "markdown",
   "metadata": {},
   "source": [
    "Load datasets"
   ]
  },
  {
   "cell_type": "code",
   "execution_count": 8,
   "metadata": {},
   "outputs": [],
   "source": [
    "dfA = pd.read_csv(\"data/2010_Census_Populations_by_Zip_Code.csv\")\n",
    "dfB = pd.read_csv(\"data/Intersections.csv\")\n",
    "dfC = pd.read_csv(\"data/Regulatory_Signs.csv\")\n",
    "dfD = pd.read_csv(\"data/Street_Lights.csv\")\n",
    "dfE = pd.read_csv(\"data/Stop_and_Yield_Signs.csv\")\n",
    "# dfF = pd.read_csv(\"data/Walkability_Index_Score_2012.csv\")"
   ]
  },
  {
   "cell_type": "code",
   "execution_count": 9,
   "metadata": {},
   "outputs": [],
   "source": [
    "df = ps.sqldf(\"\"\"\n",
    "select \n",
    "a.*, b.index1, sector\n",
    "from df a\n",
    "INNER JOIN\n",
    "location_lookup_df b\n",
    " ON a.X >= new_left AND a.X < new_right\n",
    "AND a.Y >= new_down AND a.Y < new_up\n",
    "\"\"\", locals())"
   ]
  },
  {
   "cell_type": "code",
   "execution_count": 10,
   "metadata": {},
   "outputs": [],
   "source": [
    "from uszipcode import ZipcodeSearchEngine\n",
    "search = ZipcodeSearchEngine()\n",
    "# zipcode = search.by_zipcode(90001)\n",
    "res = search.by_city(city=\"Los Angeles\", returns=0)\n",
    "search.export_to_csv(res, \"result.csv\")\n",
    "dfAnew = pd.read_csv(\"data/result.csv\")\n",
    "dfA.columns = dfA.columns.str.strip().str.lower().str.replace(' ', '_')\n",
    "dfAcombined = ps.sqldf(\"\"\"\n",
    "SELECT Population, Density, Wealthy, HouseOfUnits, Latitude, Longitude, median_age\n",
    "    from dfAnew a\n",
    "    LEFT JOIN\n",
    "    dfA b ON\n",
    "    a.Zipcode = b.zip_code\n",
    "\"\"\", locals())\n",
    "population_intermediate_df = ps.sqldf(\"\"\"\n",
    "select \n",
    "a.*,\n",
    "b.*,\n",
    "(((center_x - Longitude)*(center_x - Longitude)) + ((center_y - Latitude)*(center_y - Latitude))) AS distance\n",
    "from location_lookup_df a\n",
    "CROSS JOIN\n",
    "dfAcombined b\n",
    "\"\"\", locals())\n",
    "population_final_df = ps.sqldf(\"\"\"\n",
    "select \n",
    "a.index1, Population, Density, Wealthy, HouseOfUnits, median_age\n",
    "from population_intermediate_df a\n",
    "INNER JOIN\n",
    "(select index1, min(distance) AS min_distance from population_intermediate_df group by 1) b\n",
    "ON a.index1 = b.index1 and\n",
    "   a.distance = b.min_distance\n",
    "group by 1\n",
    "order by 1\n",
    "\"\"\", locals())"
   ]
  },
  {
   "cell_type": "code",
   "execution_count": 11,
   "metadata": {},
   "outputs": [],
   "source": [
    "intersections_df = ps.sqldf(\"\"\"\n",
    "select\n",
    "index1, count(*) AS intersections\n",
    "FROM\n",
    "    (select index1, LAT, LON\n",
    "    from dfB a\n",
    "    INNER JOIN\n",
    "    location_lookup_df b\n",
    "     ON a.LON >= new_left AND a.LON < new_right\n",
    "    AND a.LAT >= new_down AND a.LAT < new_up\n",
    "    ) x\n",
    "group by 1 \n",
    "order by 1\n",
    "\"\"\", locals())\n",
    "\n",
    "street_lights_df = ps.sqldf(\"\"\"\n",
    "SELECT\n",
    "  index1,\n",
    "  SUM(total_watts) AS total_watts,\n",
    "  SUM(total_lightbulbs) AS total_lightbulbs\n",
    "  \n",
    "FROM\n",
    "(select index1, \n",
    "CASE WHEN TRIM(IFNULL(LAMPA,'')) = '' THEN 0 ELSE SUBSTR(LAMPA, 1, instr(LAMPA,\"W\")) END +\n",
    "CASE WHEN TRIM(IFNULL(LAMPB,'')) = '' THEN 0 ELSE SUBSTR(LAMPB, 1, instr(LAMPB,\"W\")) END +\n",
    "CASE WHEN TRIM(IFNULL(LAMPC,'')) = '' THEN 0 ELSE SUBSTR(LAMPC, 1, instr(LAMPC,\"W\")) END +\n",
    "CASE WHEN TRIM(IFNULL(LAMPD,'')) = '' THEN 0 ELSE SUBSTR(LAMPD, 1, instr(LAMPD,\"W\")) END +\n",
    "CASE WHEN TRIM(IFNULL(LAMPE,'')) = '' THEN 0 ELSE SUBSTR(LAMPE, 1, instr(LAMPE,\"W\")) END +\n",
    "CASE WHEN TRIM(IFNULL(LAMPF,'')) = '' THEN 0 ELSE SUBSTR(LAMPF, 1, instr(LAMPF,\"W\")) END AS total_watts,\n",
    "CASE WHEN TRIM(IFNULL(LAMPA,'')) = '' THEN 0 ELSE 1 END +\n",
    "CASE WHEN TRIM(IFNULL(LAMPB,'')) = '' THEN 0 ELSE 1 END +\n",
    "CASE WHEN TRIM(IFNULL(LAMPC,'')) = '' THEN 0 ELSE 1 END +\n",
    "CASE WHEN TRIM(IFNULL(LAMPD,'')) = '' THEN 0 ELSE 1 END +\n",
    "CASE WHEN TRIM(IFNULL(LAMPE,'')) = '' THEN 0 ELSE 1 END +\n",
    "CASE WHEN TRIM(IFNULL(LAMPF,'')) = '' THEN 0 ELSE 1 END AS total_lightbulbs\n",
    "from dfD a\n",
    "INNER JOIN\n",
    "location_lookup_df b\n",
    " ON a.X >= new_left AND a.X < new_right\n",
    "AND a.Y >= new_down AND a.Y < new_up\n",
    ") x\n",
    "GROUP BY 1\n",
    "ORDER BY 1\n",
    "\"\"\", locals())\n",
    "\n",
    "regulatory_signs_df = ps.sqldf(\"\"\"\n",
    "SELECT\n",
    "  index1,\n",
    "  SUM(one_way_sign) AS one_way_signs,\n",
    "  SUM(speed_limit_sign) AS speed_limit_signs,\n",
    "  SUM(no_u_turn_sign) AS no_u_turn_signs\n",
    "FROM\n",
    "(select index1,\n",
    "CASE WHEN lower(tooltip) like '%one way%' THEN 1 ELSE 0 END AS one_way_sign,\n",
    "CASE WHEN lower(tooltip) like '%speed%' THEN 1 ELSE 0 END AS speed_limit_sign,\n",
    "CASE WHEN lower(tooltip) like '%no u turn%' THEN 1 ELSE 0 END AS no_u_turn_sign\n",
    "from dfC a\n",
    "INNER JOIN\n",
    "location_lookup_df b\n",
    " ON a.X >= new_left AND a.X < new_right\n",
    "AND a.Y >= new_down AND a.Y < new_up\n",
    ") x\n",
    "GROUP BY 1\n",
    "ORDER BY 1\n",
    "\"\"\", locals())\n",
    "\n",
    "stop_and_yield_signs_df = ps.sqldf(\"\"\"\n",
    "SELECT\n",
    "  index1,\n",
    "  SUM(stop_sign) AS stop_sign,\n",
    "  SUM(yield_sign) AS yield_sign\n",
    "FROM\n",
    "(select index1,\n",
    "    CASE WHEN lower(tooltip) like '%stop%' THEN 1 ELSE 0 END AS stop_sign,\n",
    "    CASE WHEN lower(tooltip) like '%yield%' THEN 1 ELSE 0 END AS yield_sign\n",
    "    from dfE a\n",
    "    INNER JOIN\n",
    "    location_lookup_df b\n",
    "     ON a.X >= new_left AND a.X < new_right\n",
    "    AND a.Y >= new_down AND a.Y < new_up\n",
    "    ) x\n",
    "GROUP BY 1\n",
    "ORDER BY 1\n",
    "\"\"\", locals())"
   ]
  },
  {
   "cell_type": "code",
   "execution_count": 12,
   "metadata": {},
   "outputs": [],
   "source": [
    "final_granular_df = ps.sqldf(\"\"\"\n",
    "SELECT\n",
    "*\n",
    "FROM\n",
    "df a\n",
    "LEFT JOIN population_final_df b on b.index1 = a.index1\n",
    "LEFT JOIN intersections_df c on c.index1 = a.index1\n",
    "LEFT JOIN street_lights_df d on d.index1 = a.index1\n",
    "LEFT JOIN regulatory_signs_df e on e.index1 = a.index1\n",
    "LEFT JOIN stop_and_yield_signs_df f on f.index1 = a.index1\n",
    "\"\"\", locals())"
   ]
  },
  {
   "cell_type": "code",
   "execution_count": 13,
   "metadata": {},
   "outputs": [
    {
     "data": {
      "text/plain": [
       "(166850, 49)"
      ]
     },
     "execution_count": 13,
     "metadata": {},
     "output_type": "execute_result"
    }
   ],
   "source": [
    "final_granular_df.shape"
   ]
  },
  {
   "cell_type": "code",
   "execution_count": 21,
   "metadata": {},
   "outputs": [
    {
     "data": {
      "text/plain": [
       "dtype('O')"
      ]
     },
     "execution_count": 21,
     "metadata": {},
     "output_type": "execute_result"
    }
   ],
   "source": [
    " final_granular_df['pcf_viol_category'].dtype"
   ]
  },
  {
   "cell_type": "code",
   "execution_count": 26,
   "metadata": {},
   "outputs": [
    {
     "name": "stdout",
     "output_type": "stream",
     "text": [
      "X\n",
      "Y\n",
      "collision_date\n",
      "collision_time\n",
      "day_of_week\n",
      "intersection\n",
      "intersection ['Y' 'N' '-']\n",
      "weather_1\n",
      "weather_1 ['A' 'C' 'B' 'E' '-' 'F' 'G' 'D']\n",
      "location_type\n",
      "location_type ['N' 'I' 'H' 'R']\n",
      "collision_severity\n",
      "number_killed\n",
      "number_injured\n",
      "party_count\n",
      "primary_coll_factor\n",
      "primary_coll_factor ['A' 'D' '-' 'C' 'B' 'E']\n",
      "pcf_viol_category\n",
      "pcf_viol_category ['09' '01' '03' '00' '12' '04' '05' '18' '07' '08' '10' '11' '06' '21' '17'\n",
      " '22' '- ' '02' '13' '16' '15' '14' '24']\n",
      "hit_and_run\n",
      "hit_and_run ['N' 'F' 'M']\n",
      "type_of_collision\n",
      "type_of_collision ['D' 'A' 'C' 'B' 'G' 'E' 'F' '-' 'H']\n",
      "road_surface\n",
      "road_surface ['A' 'B' '-' 'D' 'C']\n",
      "road_cond_1\n",
      "road_cond_1 ['H' 'A' 'D' '-' 'B' 'G' 'C' 'E' 'F']\n",
      "lighting\n",
      "lighting ['A' 'C' 'B' 'D' 'E' '-']\n",
      "control_device\n",
      "control_device ['A' 'D' 'B' '-' 'C']\n",
      "pedestrian_accident\n",
      "pedestrian_accident ['N' 'Y']\n",
      "bicycle_accident\n",
      "bicycle_accident ['N' 'Y']\n",
      "motorcycle_accident\n",
      "motorcycle_accident ['N' 'Y']\n",
      "truck_accident\n",
      "truck_accident ['N' 'Y']\n",
      "alcohol_involved\n",
      "alcohol_involved ['N' 'Y']\n",
      "count_ped_killed\n",
      "count_ped_injured\n",
      "count_bicyclist_killed\n",
      "count_bicyclist_injured\n",
      "index1\n"
     ]
    },
    {
     "ename": "AttributeError",
     "evalue": "'DataFrame' object has no attribute 'dtype'",
     "output_type": "error",
     "traceback": [
      "\u001b[0;31m---------------------------------------------------------------------------\u001b[0m",
      "\u001b[0;31mAttributeError\u001b[0m                            Traceback (most recent call last)",
      "\u001b[0;32m<ipython-input-26-9d2ab662b287>\u001b[0m in \u001b[0;36m<module>\u001b[0;34m()\u001b[0m\n\u001b[1;32m      4\u001b[0m \u001b[0;32mfor\u001b[0m \u001b[0mcolumn\u001b[0m \u001b[0;32min\u001b[0m \u001b[0mcolumns\u001b[0m\u001b[0;34m:\u001b[0m\u001b[0;34m\u001b[0m\u001b[0m\n\u001b[1;32m      5\u001b[0m     \u001b[0mprint\u001b[0m\u001b[0;34m(\u001b[0m\u001b[0mcolumn\u001b[0m\u001b[0;34m)\u001b[0m\u001b[0;34m\u001b[0m\u001b[0m\n\u001b[0;32m----> 6\u001b[0;31m     \u001b[0;32mif\u001b[0m \u001b[0mcolumn\u001b[0m \u001b[0;34m!=\u001b[0m \u001b[0;34m\"collision_date\"\u001b[0m \u001b[0;32mand\u001b[0m \u001b[0mfinal_granular_df\u001b[0m\u001b[0;34m[\u001b[0m\u001b[0mcolumn\u001b[0m\u001b[0;34m]\u001b[0m\u001b[0;34m.\u001b[0m\u001b[0mdtype\u001b[0m \u001b[0;34m==\u001b[0m \u001b[0;34m\"O\"\u001b[0m\u001b[0;34m:\u001b[0m\u001b[0;34m\u001b[0m\u001b[0m\n\u001b[0m\u001b[1;32m      7\u001b[0m         \u001b[0mprint\u001b[0m\u001b[0;34m(\u001b[0m\u001b[0mcolumn\u001b[0m \u001b[0;34m+\u001b[0m \u001b[0;34m\" \"\u001b[0m \u001b[0;34m+\u001b[0m \u001b[0mstr\u001b[0m\u001b[0;34m(\u001b[0m\u001b[0mfinal_granular_df\u001b[0m\u001b[0;34m[\u001b[0m\u001b[0mcolumn\u001b[0m\u001b[0;34m]\u001b[0m\u001b[0;34m.\u001b[0m\u001b[0munique\u001b[0m\u001b[0;34m(\u001b[0m\u001b[0;34m)\u001b[0m\u001b[0;34m)\u001b[0m\u001b[0;34m)\u001b[0m\u001b[0;34m\u001b[0m\u001b[0m\n",
      "\u001b[0;32m~/Documents/Projects/TestProject/venv/lib/python3.6/site-packages/pandas/core/generic.py\u001b[0m in \u001b[0;36m__getattr__\u001b[0;34m(self, name)\u001b[0m\n\u001b[1;32m   2742\u001b[0m             \u001b[0;32mif\u001b[0m \u001b[0mname\u001b[0m \u001b[0;32min\u001b[0m \u001b[0mself\u001b[0m\u001b[0;34m.\u001b[0m\u001b[0m_info_axis\u001b[0m\u001b[0;34m:\u001b[0m\u001b[0;34m\u001b[0m\u001b[0m\n\u001b[1;32m   2743\u001b[0m                 \u001b[0;32mreturn\u001b[0m \u001b[0mself\u001b[0m\u001b[0;34m[\u001b[0m\u001b[0mname\u001b[0m\u001b[0;34m]\u001b[0m\u001b[0;34m\u001b[0m\u001b[0m\n\u001b[0;32m-> 2744\u001b[0;31m             \u001b[0;32mreturn\u001b[0m \u001b[0mobject\u001b[0m\u001b[0;34m.\u001b[0m\u001b[0m__getattribute__\u001b[0m\u001b[0;34m(\u001b[0m\u001b[0mself\u001b[0m\u001b[0;34m,\u001b[0m \u001b[0mname\u001b[0m\u001b[0;34m)\u001b[0m\u001b[0;34m\u001b[0m\u001b[0m\n\u001b[0m\u001b[1;32m   2745\u001b[0m \u001b[0;34m\u001b[0m\u001b[0m\n\u001b[1;32m   2746\u001b[0m     \u001b[0;32mdef\u001b[0m \u001b[0m__setattr__\u001b[0m\u001b[0;34m(\u001b[0m\u001b[0mself\u001b[0m\u001b[0;34m,\u001b[0m \u001b[0mname\u001b[0m\u001b[0;34m,\u001b[0m \u001b[0mvalue\u001b[0m\u001b[0;34m)\u001b[0m\u001b[0;34m:\u001b[0m\u001b[0;34m\u001b[0m\u001b[0m\n",
      "\u001b[0;31mAttributeError\u001b[0m: 'DataFrame' object has no attribute 'dtype'"
     ]
    }
   ],
   "source": [
    "columns = final_granular_df.columns\n",
    "columns\n",
    "\n",
    "for column in columns:\n",
    "    print(column)\n",
    "    if column != \"collision_date\" and column != \"index1\" and final_granular_df[column].dtype == \"O\":\n",
    "        print(column + \" \" + str(final_granular_df[column].unique()))"
   ]
  },
  {
   "cell_type": "code",
   "execution_count": 14,
   "metadata": {},
   "outputs": [
    {
     "ename": "PandaSQLException",
     "evalue": "(sqlite3.OperationalError) near \"FROM\": syntax error [SQL: \"\\nSELECT\\n  X,\\n  Y,\\n  collision_date,\\n  CASE WHEN collision_time >= 0 and collision_time < 300 THEN 1 else 0 END is_12AM_3AM,\\n  CASE WHEN collision_time >= 300 and collision_time < 600 THEN 1 else 0 END is_3AM_6AM,\\n  CASE WHEN collision_time >= 600 and collision_time < 900 THEN 1 else 0 END is_6AM_9AM,\\n  CASE WHEN collision_time >= 900 and collision_time < 1200 THEN 1 else 0 END is_9AM_12PM,\\n  CASE WHEN collision_time >= 1200 and collision_time < 1500 THEN 1 else 0 END is_12PM_3PM,\\n  CASE WHEN collision_time >= 1500 and collision_time < 1800 THEN 1 else 0 END is_3PM_6PM,\\n  CASE WHEN collision_time >= 1800 and collision_time < 2100 THEN 1 else 0 END is_6PM_9PM,\\n  CASE WHEN collision_time >= 2100 and collision_time < 2400 THEN 1 else 0 END is_9PM_12AM,\\n  CASE WHEN day_of_week = 1 THEN 1 ELSE 0 END AS is_monday,\\n  CASE WHEN day_of_week = 2 THEN 1 ELSE 0 END AS is_tuesday,\\n  CASE WHEN day_of_week = 3 THEN 1 ELSE 0 END AS is_wednesday,\\n  CASE WHEN day_of_week = 4 THEN 1 ELSE 0 END AS is_thursday,\\n  CASE WHEN day_of_week = 5 THEN 1 ELSE 0 END AS is_friday,\\n  CASE WHEN day_of_week = 6 THEN 1 ELSE 0 END AS is_saturday,\\n  CASE WHEN day_of_week = 7 THEN 1 ELSE 0 END AS is_sunday,\\n  CASE WHEN intersection = 'Y' THEN 1 ELSE 0 END AS is_intersection,\\n  \\n\\n\\nFROM final_granular_df\\n\\n\"] (Background on this error at: http://sqlalche.me/e/e3q8)",
     "output_type": "error",
     "traceback": [
      "\u001b[0;31m---------------------------------------------------------------------------\u001b[0m",
      "\u001b[0;31mOperationalError\u001b[0m                          Traceback (most recent call last)",
      "\u001b[0;32m~/Documents/Projects/TestProject/venv/lib/python3.6/site-packages/sqlalchemy/engine/base.py\u001b[0m in \u001b[0;36m_execute_context\u001b[0;34m(self, dialect, constructor, statement, parameters, *args)\u001b[0m\n\u001b[1;32m   1192\u001b[0m                         \u001b[0mparameters\u001b[0m\u001b[0;34m,\u001b[0m\u001b[0;34m\u001b[0m\u001b[0m\n\u001b[0;32m-> 1193\u001b[0;31m                         context)\n\u001b[0m\u001b[1;32m   1194\u001b[0m         \u001b[0;32mexcept\u001b[0m \u001b[0mBaseException\u001b[0m \u001b[0;32mas\u001b[0m \u001b[0me\u001b[0m\u001b[0;34m:\u001b[0m\u001b[0;34m\u001b[0m\u001b[0m\n",
      "\u001b[0;32m~/Documents/Projects/TestProject/venv/lib/python3.6/site-packages/sqlalchemy/engine/default.py\u001b[0m in \u001b[0;36mdo_execute\u001b[0;34m(self, cursor, statement, parameters, context)\u001b[0m\n\u001b[1;32m    508\u001b[0m     \u001b[0;32mdef\u001b[0m \u001b[0mdo_execute\u001b[0m\u001b[0;34m(\u001b[0m\u001b[0mself\u001b[0m\u001b[0;34m,\u001b[0m \u001b[0mcursor\u001b[0m\u001b[0;34m,\u001b[0m \u001b[0mstatement\u001b[0m\u001b[0;34m,\u001b[0m \u001b[0mparameters\u001b[0m\u001b[0;34m,\u001b[0m \u001b[0mcontext\u001b[0m\u001b[0;34m=\u001b[0m\u001b[0;32mNone\u001b[0m\u001b[0;34m)\u001b[0m\u001b[0;34m:\u001b[0m\u001b[0;34m\u001b[0m\u001b[0m\n\u001b[0;32m--> 509\u001b[0;31m         \u001b[0mcursor\u001b[0m\u001b[0;34m.\u001b[0m\u001b[0mexecute\u001b[0m\u001b[0;34m(\u001b[0m\u001b[0mstatement\u001b[0m\u001b[0;34m,\u001b[0m \u001b[0mparameters\u001b[0m\u001b[0;34m)\u001b[0m\u001b[0;34m\u001b[0m\u001b[0m\n\u001b[0m\u001b[1;32m    510\u001b[0m \u001b[0;34m\u001b[0m\u001b[0m\n",
      "\u001b[0;31mOperationalError\u001b[0m: near \"FROM\": syntax error",
      "\nThe above exception was the direct cause of the following exception:\n",
      "\u001b[0;31mOperationalError\u001b[0m                          Traceback (most recent call last)",
      "\u001b[0;32m~/Documents/Projects/TestProject/venv/lib/python3.6/site-packages/pandasql/sqldf.py\u001b[0m in \u001b[0;36m__call__\u001b[0;34m(self, query, env)\u001b[0m\n\u001b[1;32m     60\u001b[0m             \u001b[0;32mtry\u001b[0m\u001b[0;34m:\u001b[0m\u001b[0;34m\u001b[0m\u001b[0m\n\u001b[0;32m---> 61\u001b[0;31m                 \u001b[0mresult\u001b[0m \u001b[0;34m=\u001b[0m \u001b[0mread_sql\u001b[0m\u001b[0;34m(\u001b[0m\u001b[0mquery\u001b[0m\u001b[0;34m,\u001b[0m \u001b[0mconn\u001b[0m\u001b[0;34m)\u001b[0m\u001b[0;34m\u001b[0m\u001b[0m\n\u001b[0m\u001b[1;32m     62\u001b[0m             \u001b[0;32mexcept\u001b[0m \u001b[0mDatabaseError\u001b[0m \u001b[0;32mas\u001b[0m \u001b[0mex\u001b[0m\u001b[0;34m:\u001b[0m\u001b[0;34m\u001b[0m\u001b[0m\n",
      "\u001b[0;32m~/Documents/Projects/TestProject/venv/lib/python3.6/site-packages/pandas/io/sql.py\u001b[0m in \u001b[0;36mread_sql\u001b[0;34m(sql, con, index_col, coerce_float, params, parse_dates, columns, chunksize)\u001b[0m\n\u001b[1;32m    414\u001b[0m             \u001b[0mcoerce_float\u001b[0m\u001b[0;34m=\u001b[0m\u001b[0mcoerce_float\u001b[0m\u001b[0;34m,\u001b[0m \u001b[0mparse_dates\u001b[0m\u001b[0;34m=\u001b[0m\u001b[0mparse_dates\u001b[0m\u001b[0;34m,\u001b[0m\u001b[0;34m\u001b[0m\u001b[0m\n\u001b[0;32m--> 415\u001b[0;31m             chunksize=chunksize)\n\u001b[0m\u001b[1;32m    416\u001b[0m \u001b[0;34m\u001b[0m\u001b[0m\n",
      "\u001b[0;32m~/Documents/Projects/TestProject/venv/lib/python3.6/site-packages/pandas/io/sql.py\u001b[0m in \u001b[0;36mread_query\u001b[0;34m(self, sql, index_col, coerce_float, parse_dates, params, chunksize)\u001b[0m\n\u001b[1;32m   1083\u001b[0m \u001b[0;34m\u001b[0m\u001b[0m\n\u001b[0;32m-> 1084\u001b[0;31m         \u001b[0mresult\u001b[0m \u001b[0;34m=\u001b[0m \u001b[0mself\u001b[0m\u001b[0;34m.\u001b[0m\u001b[0mexecute\u001b[0m\u001b[0;34m(\u001b[0m\u001b[0;34m*\u001b[0m\u001b[0margs\u001b[0m\u001b[0;34m)\u001b[0m\u001b[0;34m\u001b[0m\u001b[0m\n\u001b[0m\u001b[1;32m   1085\u001b[0m         \u001b[0mcolumns\u001b[0m \u001b[0;34m=\u001b[0m \u001b[0mresult\u001b[0m\u001b[0;34m.\u001b[0m\u001b[0mkeys\u001b[0m\u001b[0;34m(\u001b[0m\u001b[0;34m)\u001b[0m\u001b[0;34m\u001b[0m\u001b[0m\n",
      "\u001b[0;32m~/Documents/Projects/TestProject/venv/lib/python3.6/site-packages/pandas/io/sql.py\u001b[0m in \u001b[0;36mexecute\u001b[0;34m(self, *args, **kwargs)\u001b[0m\n\u001b[1;32m    974\u001b[0m         \u001b[0;34m\"\"\"Simple passthrough to SQLAlchemy connectable\"\"\"\u001b[0m\u001b[0;34m\u001b[0m\u001b[0m\n\u001b[0;32m--> 975\u001b[0;31m         \u001b[0;32mreturn\u001b[0m \u001b[0mself\u001b[0m\u001b[0;34m.\u001b[0m\u001b[0mconnectable\u001b[0m\u001b[0;34m.\u001b[0m\u001b[0mexecute\u001b[0m\u001b[0;34m(\u001b[0m\u001b[0;34m*\u001b[0m\u001b[0margs\u001b[0m\u001b[0;34m,\u001b[0m \u001b[0;34m**\u001b[0m\u001b[0mkwargs\u001b[0m\u001b[0;34m)\u001b[0m\u001b[0;34m\u001b[0m\u001b[0m\n\u001b[0m\u001b[1;32m    976\u001b[0m \u001b[0;34m\u001b[0m\u001b[0m\n",
      "\u001b[0;32m~/Documents/Projects/TestProject/venv/lib/python3.6/site-packages/sqlalchemy/engine/base.py\u001b[0m in \u001b[0;36mexecute\u001b[0;34m(self, object, *multiparams, **params)\u001b[0m\n\u001b[1;32m    941\u001b[0m         \u001b[0;32mif\u001b[0m \u001b[0misinstance\u001b[0m\u001b[0;34m(\u001b[0m\u001b[0mobject\u001b[0m\u001b[0;34m,\u001b[0m \u001b[0mutil\u001b[0m\u001b[0;34m.\u001b[0m\u001b[0mstring_types\u001b[0m\u001b[0;34m[\u001b[0m\u001b[0;36m0\u001b[0m\u001b[0;34m]\u001b[0m\u001b[0;34m)\u001b[0m\u001b[0;34m:\u001b[0m\u001b[0;34m\u001b[0m\u001b[0m\n\u001b[0;32m--> 942\u001b[0;31m             \u001b[0;32mreturn\u001b[0m \u001b[0mself\u001b[0m\u001b[0;34m.\u001b[0m\u001b[0m_execute_text\u001b[0m\u001b[0;34m(\u001b[0m\u001b[0mobject\u001b[0m\u001b[0;34m,\u001b[0m \u001b[0mmultiparams\u001b[0m\u001b[0;34m,\u001b[0m \u001b[0mparams\u001b[0m\u001b[0;34m)\u001b[0m\u001b[0;34m\u001b[0m\u001b[0m\n\u001b[0m\u001b[1;32m    943\u001b[0m         \u001b[0;32mtry\u001b[0m\u001b[0;34m:\u001b[0m\u001b[0;34m\u001b[0m\u001b[0m\n",
      "\u001b[0;32m~/Documents/Projects/TestProject/venv/lib/python3.6/site-packages/sqlalchemy/engine/base.py\u001b[0m in \u001b[0;36m_execute_text\u001b[0;34m(self, statement, multiparams, params)\u001b[0m\n\u001b[1;32m   1103\u001b[0m             \u001b[0mparameters\u001b[0m\u001b[0;34m,\u001b[0m\u001b[0;34m\u001b[0m\u001b[0m\n\u001b[0;32m-> 1104\u001b[0;31m             \u001b[0mstatement\u001b[0m\u001b[0;34m,\u001b[0m \u001b[0mparameters\u001b[0m\u001b[0;34m\u001b[0m\u001b[0m\n\u001b[0m\u001b[1;32m   1105\u001b[0m         )\n",
      "\u001b[0;32m~/Documents/Projects/TestProject/venv/lib/python3.6/site-packages/sqlalchemy/engine/base.py\u001b[0m in \u001b[0;36m_execute_context\u001b[0;34m(self, dialect, constructor, statement, parameters, *args)\u001b[0m\n\u001b[1;32m   1199\u001b[0m                 \u001b[0mcursor\u001b[0m\u001b[0;34m,\u001b[0m\u001b[0;34m\u001b[0m\u001b[0m\n\u001b[0;32m-> 1200\u001b[0;31m                 context)\n\u001b[0m\u001b[1;32m   1201\u001b[0m \u001b[0;34m\u001b[0m\u001b[0m\n",
      "\u001b[0;32m~/Documents/Projects/TestProject/venv/lib/python3.6/site-packages/sqlalchemy/engine/base.py\u001b[0m in \u001b[0;36m_handle_dbapi_exception\u001b[0;34m(self, e, statement, parameters, cursor, context)\u001b[0m\n\u001b[1;32m   1412\u001b[0m                     \u001b[0msqlalchemy_exception\u001b[0m\u001b[0;34m,\u001b[0m\u001b[0;34m\u001b[0m\u001b[0m\n\u001b[0;32m-> 1413\u001b[0;31m                     \u001b[0mexc_info\u001b[0m\u001b[0;34m\u001b[0m\u001b[0m\n\u001b[0m\u001b[1;32m   1414\u001b[0m                 )\n",
      "\u001b[0;32m~/Documents/Projects/TestProject/venv/lib/python3.6/site-packages/sqlalchemy/util/compat.py\u001b[0m in \u001b[0;36mraise_from_cause\u001b[0;34m(exception, exc_info)\u001b[0m\n\u001b[1;32m    264\u001b[0m     \u001b[0mcause\u001b[0m \u001b[0;34m=\u001b[0m \u001b[0mexc_value\u001b[0m \u001b[0;32mif\u001b[0m \u001b[0mexc_value\u001b[0m \u001b[0;32mis\u001b[0m \u001b[0;32mnot\u001b[0m \u001b[0mexception\u001b[0m \u001b[0;32melse\u001b[0m \u001b[0;32mNone\u001b[0m\u001b[0;34m\u001b[0m\u001b[0m\n\u001b[0;32m--> 265\u001b[0;31m     \u001b[0mreraise\u001b[0m\u001b[0;34m(\u001b[0m\u001b[0mtype\u001b[0m\u001b[0;34m(\u001b[0m\u001b[0mexception\u001b[0m\u001b[0;34m)\u001b[0m\u001b[0;34m,\u001b[0m \u001b[0mexception\u001b[0m\u001b[0;34m,\u001b[0m \u001b[0mtb\u001b[0m\u001b[0;34m=\u001b[0m\u001b[0mexc_tb\u001b[0m\u001b[0;34m,\u001b[0m \u001b[0mcause\u001b[0m\u001b[0;34m=\u001b[0m\u001b[0mcause\u001b[0m\u001b[0;34m)\u001b[0m\u001b[0;34m\u001b[0m\u001b[0m\n\u001b[0m\u001b[1;32m    266\u001b[0m \u001b[0;34m\u001b[0m\u001b[0m\n",
      "\u001b[0;32m~/Documents/Projects/TestProject/venv/lib/python3.6/site-packages/sqlalchemy/util/compat.py\u001b[0m in \u001b[0;36mreraise\u001b[0;34m(tp, value, tb, cause)\u001b[0m\n\u001b[1;32m    247\u001b[0m         \u001b[0;32mif\u001b[0m \u001b[0mvalue\u001b[0m\u001b[0;34m.\u001b[0m\u001b[0m__traceback__\u001b[0m \u001b[0;32mis\u001b[0m \u001b[0;32mnot\u001b[0m \u001b[0mtb\u001b[0m\u001b[0;34m:\u001b[0m\u001b[0;34m\u001b[0m\u001b[0m\n\u001b[0;32m--> 248\u001b[0;31m             \u001b[0;32mraise\u001b[0m \u001b[0mvalue\u001b[0m\u001b[0;34m.\u001b[0m\u001b[0mwith_traceback\u001b[0m\u001b[0;34m(\u001b[0m\u001b[0mtb\u001b[0m\u001b[0;34m)\u001b[0m\u001b[0;34m\u001b[0m\u001b[0m\n\u001b[0m\u001b[1;32m    249\u001b[0m         \u001b[0;32mraise\u001b[0m \u001b[0mvalue\u001b[0m\u001b[0;34m\u001b[0m\u001b[0m\n",
      "\u001b[0;32m~/Documents/Projects/TestProject/venv/lib/python3.6/site-packages/sqlalchemy/engine/base.py\u001b[0m in \u001b[0;36m_execute_context\u001b[0;34m(self, dialect, constructor, statement, parameters, *args)\u001b[0m\n\u001b[1;32m   1192\u001b[0m                         \u001b[0mparameters\u001b[0m\u001b[0;34m,\u001b[0m\u001b[0;34m\u001b[0m\u001b[0m\n\u001b[0;32m-> 1193\u001b[0;31m                         context)\n\u001b[0m\u001b[1;32m   1194\u001b[0m         \u001b[0;32mexcept\u001b[0m \u001b[0mBaseException\u001b[0m \u001b[0;32mas\u001b[0m \u001b[0me\u001b[0m\u001b[0;34m:\u001b[0m\u001b[0;34m\u001b[0m\u001b[0m\n",
      "\u001b[0;32m~/Documents/Projects/TestProject/venv/lib/python3.6/site-packages/sqlalchemy/engine/default.py\u001b[0m in \u001b[0;36mdo_execute\u001b[0;34m(self, cursor, statement, parameters, context)\u001b[0m\n\u001b[1;32m    508\u001b[0m     \u001b[0;32mdef\u001b[0m \u001b[0mdo_execute\u001b[0m\u001b[0;34m(\u001b[0m\u001b[0mself\u001b[0m\u001b[0;34m,\u001b[0m \u001b[0mcursor\u001b[0m\u001b[0;34m,\u001b[0m \u001b[0mstatement\u001b[0m\u001b[0;34m,\u001b[0m \u001b[0mparameters\u001b[0m\u001b[0;34m,\u001b[0m \u001b[0mcontext\u001b[0m\u001b[0;34m=\u001b[0m\u001b[0;32mNone\u001b[0m\u001b[0;34m)\u001b[0m\u001b[0;34m:\u001b[0m\u001b[0;34m\u001b[0m\u001b[0m\n\u001b[0;32m--> 509\u001b[0;31m         \u001b[0mcursor\u001b[0m\u001b[0;34m.\u001b[0m\u001b[0mexecute\u001b[0m\u001b[0;34m(\u001b[0m\u001b[0mstatement\u001b[0m\u001b[0;34m,\u001b[0m \u001b[0mparameters\u001b[0m\u001b[0;34m)\u001b[0m\u001b[0;34m\u001b[0m\u001b[0m\n\u001b[0m\u001b[1;32m    510\u001b[0m \u001b[0;34m\u001b[0m\u001b[0m\n",
      "\u001b[0;31mOperationalError\u001b[0m: (sqlite3.OperationalError) near \"FROM\": syntax error [SQL: \"\\nSELECT\\n  X,\\n  Y,\\n  collision_date,\\n  CASE WHEN collision_time >= 0 and collision_time < 300 THEN 1 else 0 END is_12AM_3AM,\\n  CASE WHEN collision_time >= 300 and collision_time < 600 THEN 1 else 0 END is_3AM_6AM,\\n  CASE WHEN collision_time >= 600 and collision_time < 900 THEN 1 else 0 END is_6AM_9AM,\\n  CASE WHEN collision_time >= 900 and collision_time < 1200 THEN 1 else 0 END is_9AM_12PM,\\n  CASE WHEN collision_time >= 1200 and collision_time < 1500 THEN 1 else 0 END is_12PM_3PM,\\n  CASE WHEN collision_time >= 1500 and collision_time < 1800 THEN 1 else 0 END is_3PM_6PM,\\n  CASE WHEN collision_time >= 1800 and collision_time < 2100 THEN 1 else 0 END is_6PM_9PM,\\n  CASE WHEN collision_time >= 2100 and collision_time < 2400 THEN 1 else 0 END is_9PM_12AM,\\n  CASE WHEN day_of_week = 1 THEN 1 ELSE 0 END AS is_monday,\\n  CASE WHEN day_of_week = 2 THEN 1 ELSE 0 END AS is_tuesday,\\n  CASE WHEN day_of_week = 3 THEN 1 ELSE 0 END AS is_wednesday,\\n  CASE WHEN day_of_week = 4 THEN 1 ELSE 0 END AS is_thursday,\\n  CASE WHEN day_of_week = 5 THEN 1 ELSE 0 END AS is_friday,\\n  CASE WHEN day_of_week = 6 THEN 1 ELSE 0 END AS is_saturday,\\n  CASE WHEN day_of_week = 7 THEN 1 ELSE 0 END AS is_sunday,\\n  CASE WHEN intersection = 'Y' THEN 1 ELSE 0 END AS is_intersection,\\n  \\n\\n\\nFROM final_granular_df\\n\\n\"] (Background on this error at: http://sqlalche.me/e/e3q8)",
      "\nDuring handling of the above exception, another exception occurred:\n",
      "\u001b[0;31mPandaSQLException\u001b[0m                         Traceback (most recent call last)",
      "\u001b[0;32m<ipython-input-14-0f456bd0932c>\u001b[0m in \u001b[0;36m<module>\u001b[0;34m()\u001b[0m\n\u001b[1;32m     25\u001b[0m \u001b[0mFROM\u001b[0m \u001b[0mfinal_granular_df\u001b[0m\u001b[0;34m\u001b[0m\u001b[0m\n\u001b[1;32m     26\u001b[0m \u001b[0;34m\u001b[0m\u001b[0m\n\u001b[0;32m---> 27\u001b[0;31m \"\"\", locals())\n\u001b[0m",
      "\u001b[0;32m~/Documents/Projects/TestProject/venv/lib/python3.6/site-packages/pandasql/sqldf.py\u001b[0m in \u001b[0;36msqldf\u001b[0;34m(query, env, db_uri)\u001b[0m\n\u001b[1;32m    154\u001b[0m     \u001b[0;34m>>\u001b[0m\u001b[0;34m>\u001b[0m \u001b[0msqldf\u001b[0m\u001b[0;34m(\u001b[0m\u001b[0;34m\"select avg(x) from df;\"\u001b[0m\u001b[0;34m,\u001b[0m \u001b[0mlocals\u001b[0m\u001b[0;34m(\u001b[0m\u001b[0;34m)\u001b[0m\u001b[0;34m)\u001b[0m\u001b[0;34m\u001b[0m\u001b[0m\n\u001b[1;32m    155\u001b[0m     \"\"\"\n\u001b[0;32m--> 156\u001b[0;31m     \u001b[0;32mreturn\u001b[0m \u001b[0mPandaSQL\u001b[0m\u001b[0;34m(\u001b[0m\u001b[0mdb_uri\u001b[0m\u001b[0;34m)\u001b[0m\u001b[0;34m(\u001b[0m\u001b[0mquery\u001b[0m\u001b[0;34m,\u001b[0m \u001b[0menv\u001b[0m\u001b[0;34m)\u001b[0m\u001b[0;34m\u001b[0m\u001b[0m\n\u001b[0m",
      "\u001b[0;32m~/Documents/Projects/TestProject/venv/lib/python3.6/site-packages/pandasql/sqldf.py\u001b[0m in \u001b[0;36m__call__\u001b[0;34m(self, query, env)\u001b[0m\n\u001b[1;32m     61\u001b[0m                 \u001b[0mresult\u001b[0m \u001b[0;34m=\u001b[0m \u001b[0mread_sql\u001b[0m\u001b[0;34m(\u001b[0m\u001b[0mquery\u001b[0m\u001b[0;34m,\u001b[0m \u001b[0mconn\u001b[0m\u001b[0;34m)\u001b[0m\u001b[0;34m\u001b[0m\u001b[0m\n\u001b[1;32m     62\u001b[0m             \u001b[0;32mexcept\u001b[0m \u001b[0mDatabaseError\u001b[0m \u001b[0;32mas\u001b[0m \u001b[0mex\u001b[0m\u001b[0;34m:\u001b[0m\u001b[0;34m\u001b[0m\u001b[0m\n\u001b[0;32m---> 63\u001b[0;31m                 \u001b[0;32mraise\u001b[0m \u001b[0mPandaSQLException\u001b[0m\u001b[0;34m(\u001b[0m\u001b[0mex\u001b[0m\u001b[0;34m)\u001b[0m\u001b[0;34m\u001b[0m\u001b[0m\n\u001b[0m\u001b[1;32m     64\u001b[0m             \u001b[0;32mexcept\u001b[0m \u001b[0mResourceClosedError\u001b[0m\u001b[0;34m:\u001b[0m\u001b[0;34m\u001b[0m\u001b[0m\n\u001b[1;32m     65\u001b[0m                 \u001b[0;31m# query returns nothing\u001b[0m\u001b[0;34m\u001b[0m\u001b[0;34m\u001b[0m\u001b[0m\n",
      "\u001b[0;31mPandaSQLException\u001b[0m: (sqlite3.OperationalError) near \"FROM\": syntax error [SQL: \"\\nSELECT\\n  X,\\n  Y,\\n  collision_date,\\n  CASE WHEN collision_time >= 0 and collision_time < 300 THEN 1 else 0 END is_12AM_3AM,\\n  CASE WHEN collision_time >= 300 and collision_time < 600 THEN 1 else 0 END is_3AM_6AM,\\n  CASE WHEN collision_time >= 600 and collision_time < 900 THEN 1 else 0 END is_6AM_9AM,\\n  CASE WHEN collision_time >= 900 and collision_time < 1200 THEN 1 else 0 END is_9AM_12PM,\\n  CASE WHEN collision_time >= 1200 and collision_time < 1500 THEN 1 else 0 END is_12PM_3PM,\\n  CASE WHEN collision_time >= 1500 and collision_time < 1800 THEN 1 else 0 END is_3PM_6PM,\\n  CASE WHEN collision_time >= 1800 and collision_time < 2100 THEN 1 else 0 END is_6PM_9PM,\\n  CASE WHEN collision_time >= 2100 and collision_time < 2400 THEN 1 else 0 END is_9PM_12AM,\\n  CASE WHEN day_of_week = 1 THEN 1 ELSE 0 END AS is_monday,\\n  CASE WHEN day_of_week = 2 THEN 1 ELSE 0 END AS is_tuesday,\\n  CASE WHEN day_of_week = 3 THEN 1 ELSE 0 END AS is_wednesday,\\n  CASE WHEN day_of_week = 4 THEN 1 ELSE 0 END AS is_thursday,\\n  CASE WHEN day_of_week = 5 THEN 1 ELSE 0 END AS is_friday,\\n  CASE WHEN day_of_week = 6 THEN 1 ELSE 0 END AS is_saturday,\\n  CASE WHEN day_of_week = 7 THEN 1 ELSE 0 END AS is_sunday,\\n  CASE WHEN intersection = 'Y' THEN 1 ELSE 0 END AS is_intersection,\\n  \\n\\n\\nFROM final_granular_df\\n\\n\"] (Background on this error at: http://sqlalche.me/e/e3q8)"
     ]
    }
   ],
   "source": [
    "ps.sqldf(\"\"\"\n",
    "SELECT\n",
    "  X,\n",
    "  Y,\n",
    "  collision_date,\n",
    "  CASE WHEN collision_time >= 0 and collision_time < 300 THEN 1 else 0 END is_12AM_3AM,\n",
    "  CASE WHEN collision_time >= 300 and collision_time < 600 THEN 1 else 0 END is_3AM_6AM,\n",
    "  CASE WHEN collision_time >= 600 and collision_time < 900 THEN 1 else 0 END is_6AM_9AM,\n",
    "  CASE WHEN collision_time >= 900 and collision_time < 1200 THEN 1 else 0 END is_9AM_12PM,\n",
    "  CASE WHEN collision_time >= 1200 and collision_time < 1500 THEN 1 else 0 END is_12PM_3PM,\n",
    "  CASE WHEN collision_time >= 1500 and collision_time < 1800 THEN 1 else 0 END is_3PM_6PM,\n",
    "  CASE WHEN collision_time >= 1800 and collision_time < 2100 THEN 1 else 0 END is_6PM_9PM,\n",
    "  CASE WHEN collision_time >= 2100 and collision_time < 2400 THEN 1 else 0 END is_9PM_12AM,\n",
    "  CASE WHEN day_of_week = 1 THEN 1 ELSE 0 END AS is_monday,\n",
    "  CASE WHEN day_of_week = 2 THEN 1 ELSE 0 END AS is_tuesday,\n",
    "  CASE WHEN day_of_week = 3 THEN 1 ELSE 0 END AS is_wednesday,\n",
    "  CASE WHEN day_of_week = 4 THEN 1 ELSE 0 END AS is_thursday,\n",
    "  CASE WHEN day_of_week = 5 THEN 1 ELSE 0 END AS is_friday,\n",
    "  CASE WHEN day_of_week = 6 THEN 1 ELSE 0 END AS is_saturday,\n",
    "  CASE WHEN day_of_week = 7 THEN 1 ELSE 0 END AS is_sunday,\n",
    "  CASE WHEN intersection = 'Y' THEN 1 ELSE 0 END AS is_intersection,\n",
    "  \n",
    "\n",
    "\n",
    "FROM final_granular_df\n",
    "\n",
    "\"\"\", locals())"
   ]
  },
  {
   "cell_type": "code",
   "execution_count": null,
   "metadata": {},
   "outputs": [],
   "source": []
  },
  {
   "cell_type": "code",
   "execution_count": 15,
   "metadata": {},
   "outputs": [],
   "source": [
    "final_granular_df.to_csv(\"a.csv\")"
   ]
  },
  {
   "cell_type": "code",
   "execution_count": 16,
   "metadata": {},
   "outputs": [],
   "source": [
    "df_testfinal = pd.get_dummies(final_granular_df)"
   ]
  },
  {
   "cell_type": "code",
   "execution_count": 18,
   "metadata": {},
   "outputs": [],
   "source": [
    "#df_testfinal.head()"
   ]
  },
  {
   "cell_type": "code",
   "execution_count": 19,
   "metadata": {},
   "outputs": [],
   "source": [
    "df_testfinal.to_csv(\"TestFinal.csv\")"
   ]
  },
  {
   "cell_type": "code",
   "execution_count": null,
   "metadata": {},
   "outputs": [],
   "source": [
    "df_testfinal2 = pd.get_dummies(final_granular_df, drop_first=True)"
   ]
  },
  {
   "cell_type": "code",
   "execution_count": null,
   "metadata": {},
   "outputs": [],
   "source": [
    "final_aggregated_df = ps.sqldf(\"\"\"\n",
    "SELECT\n",
    "  collision_date,\n",
    "  SUM(CASE WHEN collision_time))\n",
    "\"\"\", locals())"
   ]
  }
 ],
 "metadata": {
  "kernelspec": {
   "display_name": "TestProject",
   "language": "python",
   "name": "testproject"
  },
  "language_info": {
   "codemirror_mode": {
    "name": "ipython",
    "version": 3
   },
   "file_extension": ".py",
   "mimetype": "text/x-python",
   "name": "python",
   "nbconvert_exporter": "python",
   "pygments_lexer": "ipython3",
   "version": "3.6.6"
  }
 },
 "nbformat": 4,
 "nbformat_minor": 2
}
