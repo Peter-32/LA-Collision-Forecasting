{
 "cells": [
  {
   "cell_type": "markdown",
   "metadata": {},
   "source": [
    "### Imports"
   ]
  },
  {
   "cell_type": "code",
   "execution_count": 1,
   "metadata": {},
   "outputs": [],
   "source": [
    "import pandas as pd\n",
    "import seaborn as sns\n",
    "import pandasql as ps\n",
    "import numpy as np\n",
    "import pandas as pd\n",
    "import matplotlib as mpl\n",
    "import matplotlib.pyplot as plt"
   ]
  },
  {
   "cell_type": "markdown",
   "metadata": {},
   "source": [
    "### Read"
   ]
  },
  {
   "cell_type": "code",
   "execution_count": 2,
   "metadata": {},
   "outputs": [],
   "source": [
    "df = pd.read_csv(\"final_aggregated_df.csv\")"
   ]
  },
  {
   "cell_type": "markdown",
   "metadata": {},
   "source": [
    "### Check Data"
   ]
  },
  {
   "cell_type": "code",
   "execution_count": 3,
   "metadata": {},
   "outputs": [
    {
     "data": {
      "text/plain": [
       "(12104, 123)"
      ]
     },
     "execution_count": 3,
     "metadata": {},
     "output_type": "execute_result"
    }
   ],
   "source": [
    "df.shape"
   ]
  },
  {
   "cell_type": "code",
   "execution_count": 4,
   "metadata": {},
   "outputs": [
    {
     "data": {
      "text/html": [
       "<div>\n",
       "<table border=\"1\" class=\"dataframe\">\n",
       "  <thead>\n",
       "    <tr style=\"text-align: right;\">\n",
       "      <th></th>\n",
       "      <th>count(*)</th>\n",
       "      <th>count(distinct collision_date)</th>\n",
       "      <th>min(collision_date)</th>\n",
       "      <th>max(collision_date)</th>\n",
       "    </tr>\n",
       "  </thead>\n",
       "  <tbody>\n",
       "    <tr>\n",
       "      <th>0</th>\n",
       "      <td>12104</td>\n",
       "      <td>1823</td>\n",
       "      <td>2012-01-01T00:00:00.000Z</td>\n",
       "      <td>2016-12-31T00:00:00.000Z</td>\n",
       "    </tr>\n",
       "  </tbody>\n",
       "</table>\n",
       "</div>"
      ],
      "text/plain": [
       "   count(*)  count(distinct collision_date)       min(collision_date)  \\\n",
       "0     12104                            1823  2012-01-01T00:00:00.000Z   \n",
       "\n",
       "        max(collision_date)  \n",
       "0  2016-12-31T00:00:00.000Z  "
      ]
     },
     "execution_count": 4,
     "metadata": {},
     "output_type": "execute_result"
    }
   ],
   "source": [
    "ps.sqldf(\"select count(*), count(distinct collision_date), min(collision_date), max(collision_date) from df\", locals())"
   ]
  },
  {
   "cell_type": "markdown",
   "metadata": {},
   "source": [
    "### Set Index"
   ]
  },
  {
   "cell_type": "code",
   "execution_count": 5,
   "metadata": {},
   "outputs": [],
   "source": [
    "df=df.set_index(['collision_date','sector'])"
   ]
  },
  {
   "cell_type": "code",
   "execution_count": 6,
   "metadata": {},
   "outputs": [
    {
     "data": {
      "text/html": [
       "<div>\n",
       "<table border=\"1\" class=\"dataframe\">\n",
       "  <thead>\n",
       "    <tr style=\"text-align: right;\">\n",
       "      <th></th>\n",
       "      <th></th>\n",
       "      <th>Unnamed: 0</th>\n",
       "      <th>collisions</th>\n",
       "      <th>is_12AM_3AM</th>\n",
       "      <th>is_3AM_6AM</th>\n",
       "      <th>is_6AM_9AM</th>\n",
       "      <th>is_9AM_12PM</th>\n",
       "      <th>is_12PM_3PM</th>\n",
       "      <th>is_3PM_6PM</th>\n",
       "      <th>is_6PM_9PM</th>\n",
       "      <th>is_9PM_12AM</th>\n",
       "      <th>...</th>\n",
       "      <th>lighting_B</th>\n",
       "      <th>lighting_C</th>\n",
       "      <th>lighting_D</th>\n",
       "      <th>lighting_E</th>\n",
       "      <th>lighting_Unknown</th>\n",
       "      <th>control_device_A</th>\n",
       "      <th>control_device_B</th>\n",
       "      <th>control_device_C</th>\n",
       "      <th>control_device_D</th>\n",
       "      <th>control_device_Unknown</th>\n",
       "    </tr>\n",
       "    <tr>\n",
       "      <th>collision_date</th>\n",
       "      <th>sector</th>\n",
       "      <th></th>\n",
       "      <th></th>\n",
       "      <th></th>\n",
       "      <th></th>\n",
       "      <th></th>\n",
       "      <th></th>\n",
       "      <th></th>\n",
       "      <th></th>\n",
       "      <th></th>\n",
       "      <th></th>\n",
       "      <th></th>\n",
       "      <th></th>\n",
       "      <th></th>\n",
       "      <th></th>\n",
       "      <th></th>\n",
       "      <th></th>\n",
       "      <th></th>\n",
       "      <th></th>\n",
       "      <th></th>\n",
       "      <th></th>\n",
       "      <th></th>\n",
       "    </tr>\n",
       "  </thead>\n",
       "  <tbody>\n",
       "    <tr>\n",
       "      <th>2012-01-01T00:00:00.000Z</th>\n",
       "      <th>1</th>\n",
       "      <td>0</td>\n",
       "      <td>4</td>\n",
       "      <td>1</td>\n",
       "      <td>0</td>\n",
       "      <td>0</td>\n",
       "      <td>0</td>\n",
       "      <td>1</td>\n",
       "      <td>2</td>\n",
       "      <td>0</td>\n",
       "      <td>0</td>\n",
       "      <td>...</td>\n",
       "      <td>1</td>\n",
       "      <td>1</td>\n",
       "      <td>0</td>\n",
       "      <td>0</td>\n",
       "      <td>0</td>\n",
       "      <td>1</td>\n",
       "      <td>0</td>\n",
       "      <td>0</td>\n",
       "      <td>3</td>\n",
       "      <td>0</td>\n",
       "    </tr>\n",
       "    <tr>\n",
       "      <th>2012-01-02T00:00:00.000Z</th>\n",
       "      <th>1</th>\n",
       "      <td>1</td>\n",
       "      <td>6</td>\n",
       "      <td>0</td>\n",
       "      <td>2</td>\n",
       "      <td>0</td>\n",
       "      <td>0</td>\n",
       "      <td>1</td>\n",
       "      <td>2</td>\n",
       "      <td>1</td>\n",
       "      <td>0</td>\n",
       "      <td>...</td>\n",
       "      <td>0</td>\n",
       "      <td>2</td>\n",
       "      <td>1</td>\n",
       "      <td>0</td>\n",
       "      <td>0</td>\n",
       "      <td>2</td>\n",
       "      <td>0</td>\n",
       "      <td>0</td>\n",
       "      <td>4</td>\n",
       "      <td>0</td>\n",
       "    </tr>\n",
       "    <tr>\n",
       "      <th>2012-01-03T00:00:00.000Z</th>\n",
       "      <th>1</th>\n",
       "      <td>2</td>\n",
       "      <td>6</td>\n",
       "      <td>0</td>\n",
       "      <td>0</td>\n",
       "      <td>0</td>\n",
       "      <td>1</td>\n",
       "      <td>0</td>\n",
       "      <td>3</td>\n",
       "      <td>1</td>\n",
       "      <td>1</td>\n",
       "      <td>...</td>\n",
       "      <td>1</td>\n",
       "      <td>2</td>\n",
       "      <td>1</td>\n",
       "      <td>0</td>\n",
       "      <td>0</td>\n",
       "      <td>2</td>\n",
       "      <td>0</td>\n",
       "      <td>0</td>\n",
       "      <td>4</td>\n",
       "      <td>0</td>\n",
       "    </tr>\n",
       "    <tr>\n",
       "      <th>2012-01-04T00:00:00.000Z</th>\n",
       "      <th>1</th>\n",
       "      <td>3</td>\n",
       "      <td>5</td>\n",
       "      <td>1</td>\n",
       "      <td>1</td>\n",
       "      <td>0</td>\n",
       "      <td>0</td>\n",
       "      <td>1</td>\n",
       "      <td>1</td>\n",
       "      <td>0</td>\n",
       "      <td>1</td>\n",
       "      <td>...</td>\n",
       "      <td>0</td>\n",
       "      <td>2</td>\n",
       "      <td>1</td>\n",
       "      <td>0</td>\n",
       "      <td>0</td>\n",
       "      <td>1</td>\n",
       "      <td>0</td>\n",
       "      <td>0</td>\n",
       "      <td>4</td>\n",
       "      <td>0</td>\n",
       "    </tr>\n",
       "    <tr>\n",
       "      <th>2012-01-05T00:00:00.000Z</th>\n",
       "      <th>1</th>\n",
       "      <td>4</td>\n",
       "      <td>13</td>\n",
       "      <td>1</td>\n",
       "      <td>0</td>\n",
       "      <td>1</td>\n",
       "      <td>2</td>\n",
       "      <td>4</td>\n",
       "      <td>2</td>\n",
       "      <td>2</td>\n",
       "      <td>1</td>\n",
       "      <td>...</td>\n",
       "      <td>0</td>\n",
       "      <td>4</td>\n",
       "      <td>0</td>\n",
       "      <td>0</td>\n",
       "      <td>0</td>\n",
       "      <td>4</td>\n",
       "      <td>0</td>\n",
       "      <td>0</td>\n",
       "      <td>9</td>\n",
       "      <td>0</td>\n",
       "    </tr>\n",
       "  </tbody>\n",
       "</table>\n",
       "<p>5 rows × 121 columns</p>\n",
       "</div>"
      ],
      "text/plain": [
       "                                 Unnamed: 0  collisions  is_12AM_3AM  \\\n",
       "collision_date           sector                                        \n",
       "2012-01-01T00:00:00.000Z 1                0           4            1   \n",
       "2012-01-02T00:00:00.000Z 1                1           6            0   \n",
       "2012-01-03T00:00:00.000Z 1                2           6            0   \n",
       "2012-01-04T00:00:00.000Z 1                3           5            1   \n",
       "2012-01-05T00:00:00.000Z 1                4          13            1   \n",
       "\n",
       "                                 is_3AM_6AM  is_6AM_9AM  is_9AM_12PM  \\\n",
       "collision_date           sector                                        \n",
       "2012-01-01T00:00:00.000Z 1                0           0            0   \n",
       "2012-01-02T00:00:00.000Z 1                2           0            0   \n",
       "2012-01-03T00:00:00.000Z 1                0           0            1   \n",
       "2012-01-04T00:00:00.000Z 1                1           0            0   \n",
       "2012-01-05T00:00:00.000Z 1                0           1            2   \n",
       "\n",
       "                                 is_12PM_3PM  is_3PM_6PM  is_6PM_9PM  \\\n",
       "collision_date           sector                                        \n",
       "2012-01-01T00:00:00.000Z 1                 1           2           0   \n",
       "2012-01-02T00:00:00.000Z 1                 1           2           1   \n",
       "2012-01-03T00:00:00.000Z 1                 0           3           1   \n",
       "2012-01-04T00:00:00.000Z 1                 1           1           0   \n",
       "2012-01-05T00:00:00.000Z 1                 4           2           2   \n",
       "\n",
       "                                 is_9PM_12AM           ...            \\\n",
       "collision_date           sector                        ...             \n",
       "2012-01-01T00:00:00.000Z 1                 0           ...             \n",
       "2012-01-02T00:00:00.000Z 1                 0           ...             \n",
       "2012-01-03T00:00:00.000Z 1                 1           ...             \n",
       "2012-01-04T00:00:00.000Z 1                 1           ...             \n",
       "2012-01-05T00:00:00.000Z 1                 1           ...             \n",
       "\n",
       "                                 lighting_B  lighting_C  lighting_D  \\\n",
       "collision_date           sector                                       \n",
       "2012-01-01T00:00:00.000Z 1                1           1           0   \n",
       "2012-01-02T00:00:00.000Z 1                0           2           1   \n",
       "2012-01-03T00:00:00.000Z 1                1           2           1   \n",
       "2012-01-04T00:00:00.000Z 1                0           2           1   \n",
       "2012-01-05T00:00:00.000Z 1                0           4           0   \n",
       "\n",
       "                                 lighting_E  lighting_Unknown  \\\n",
       "collision_date           sector                                 \n",
       "2012-01-01T00:00:00.000Z 1                0                 0   \n",
       "2012-01-02T00:00:00.000Z 1                0                 0   \n",
       "2012-01-03T00:00:00.000Z 1                0                 0   \n",
       "2012-01-04T00:00:00.000Z 1                0                 0   \n",
       "2012-01-05T00:00:00.000Z 1                0                 0   \n",
       "\n",
       "                                 control_device_A  control_device_B  \\\n",
       "collision_date           sector                                       \n",
       "2012-01-01T00:00:00.000Z 1                      1                 0   \n",
       "2012-01-02T00:00:00.000Z 1                      2                 0   \n",
       "2012-01-03T00:00:00.000Z 1                      2                 0   \n",
       "2012-01-04T00:00:00.000Z 1                      1                 0   \n",
       "2012-01-05T00:00:00.000Z 1                      4                 0   \n",
       "\n",
       "                                 control_device_C  control_device_D  \\\n",
       "collision_date           sector                                       \n",
       "2012-01-01T00:00:00.000Z 1                      0                 3   \n",
       "2012-01-02T00:00:00.000Z 1                      0                 4   \n",
       "2012-01-03T00:00:00.000Z 1                      0                 4   \n",
       "2012-01-04T00:00:00.000Z 1                      0                 4   \n",
       "2012-01-05T00:00:00.000Z 1                      0                 9   \n",
       "\n",
       "                                 control_device_Unknown  \n",
       "collision_date           sector                          \n",
       "2012-01-01T00:00:00.000Z 1                            0  \n",
       "2012-01-02T00:00:00.000Z 1                            0  \n",
       "2012-01-03T00:00:00.000Z 1                            0  \n",
       "2012-01-04T00:00:00.000Z 1                            0  \n",
       "2012-01-05T00:00:00.000Z 1                            0  \n",
       "\n",
       "[5 rows x 121 columns]"
      ]
     },
     "execution_count": 6,
     "metadata": {},
     "output_type": "execute_result"
    }
   ],
   "source": [
    "df.head()"
   ]
  },
  {
   "cell_type": "markdown",
   "metadata": {},
   "source": [
    "### Sector 1\n",
    "\n",
    "There are seven models, one for each sector.  The "
   ]
  },
  {
   "cell_type": "code",
   "execution_count": 7,
   "metadata": {},
   "outputs": [],
   "source": [
    "sector1_df = ps.sqldf(\"select * from df where sector = 1 \", locals())\n"
   ]
  },
  {
   "cell_type": "code",
   "execution_count": 8,
   "metadata": {},
   "outputs": [
    {
     "data": {
      "text/plain": [
       "(1720, 123)"
      ]
     },
     "execution_count": 8,
     "metadata": {},
     "output_type": "execute_result"
    }
   ],
   "source": [
    "sector1_df.shape"
   ]
  },
  {
   "cell_type": "markdown",
   "metadata": {},
   "source": [
    "### Get collisions_tomorrow\n",
    "\n",
    "This is used as the target variable.  Shift the data by one.  Drop the row with an na that results from the shift."
   ]
  },
  {
   "cell_type": "code",
   "execution_count": 9,
   "metadata": {},
   "outputs": [],
   "source": [
    "sector1_df['collisions_tomorrow'] = sector1_df['collisions'].shift(-1)\n",
    "sector1_df = sector1_df.dropna()\n",
    " "
   ]
  },
  {
   "cell_type": "code",
   "execution_count": 10,
   "metadata": {},
   "outputs": [
    {
     "data": {
      "text/plain": [
       "(1719, 124)"
      ]
     },
     "execution_count": 10,
     "metadata": {},
     "output_type": "execute_result"
    }
   ],
   "source": [
    "sector1_df.shape"
   ]
  },
  {
   "cell_type": "code",
   "execution_count": 11,
   "metadata": {},
   "outputs": [
    {
     "data": {
      "text/html": [
       "<div>\n",
       "<table border=\"1\" class=\"dataframe\">\n",
       "  <thead>\n",
       "    <tr style=\"text-align: right;\">\n",
       "      <th></th>\n",
       "      <th>collisions</th>\n",
       "      <th>collisions_tomorrow</th>\n",
       "    </tr>\n",
       "  </thead>\n",
       "  <tbody>\n",
       "    <tr>\n",
       "      <th>0</th>\n",
       "      <td>4</td>\n",
       "      <td>6.0</td>\n",
       "    </tr>\n",
       "    <tr>\n",
       "      <th>1</th>\n",
       "      <td>6</td>\n",
       "      <td>6.0</td>\n",
       "    </tr>\n",
       "    <tr>\n",
       "      <th>2</th>\n",
       "      <td>6</td>\n",
       "      <td>5.0</td>\n",
       "    </tr>\n",
       "    <tr>\n",
       "      <th>3</th>\n",
       "      <td>5</td>\n",
       "      <td>13.0</td>\n",
       "    </tr>\n",
       "    <tr>\n",
       "      <th>4</th>\n",
       "      <td>13</td>\n",
       "      <td>9.0</td>\n",
       "    </tr>\n",
       "  </tbody>\n",
       "</table>\n",
       "</div>"
      ],
      "text/plain": [
       "   collisions  collisions_tomorrow\n",
       "0           4                  6.0\n",
       "1           6                  6.0\n",
       "2           6                  5.0\n",
       "3           5                 13.0\n",
       "4          13                  9.0"
      ]
     },
     "execution_count": 11,
     "metadata": {},
     "output_type": "execute_result"
    }
   ],
   "source": [
    "sector1_df[['collisions', 'collisions_tomorrow']].head()"
   ]
  },
  {
   "cell_type": "markdown",
   "metadata": {},
   "source": [
    "### ACF and PACF"
   ]
  },
  {
   "cell_type": "code",
   "execution_count": 12,
   "metadata": {},
   "outputs": [],
   "source": [
    "from statsmodels.graphics.tsaplots import plot_acf, plot_pacf"
   ]
  },
  {
   "cell_type": "code",
   "execution_count": 13,
   "metadata": {},
   "outputs": [
    {
     "data": {
      "image/png": "[encoded data removed]",
      "text/plain": [
       "<matplotlib.figure.Figure at 0x1151e7780>"
      ]
     },
     "metadata": {},
     "output_type": "display_data"
    }
   ],
   "source": [
    "lag = range(0,31)\n",
    "df_acf = []\n",
    "for l in lag:\n",
    "    df_acf.append(sector1_df['collisions_tomorrow'].autocorr(l))\n",
    "plt.figure(figsize=(5.5, 5.5))\n",
    "plt.plot(df_acf, marker='.', color='b')\n",
    "plt.title('Autocorrelation function for DJIA')\n",
    "plt.xlabel('Lag in terms of number of trading days')\n",
    "plt.ylabel('Autocorrelation function')\n",
    "plt.savefig('acf.png', format='png', dpi=300)"
   ]
  },
  {
   "cell_type": "code",
   "execution_count": 14,
   "metadata": {},
   "outputs": [
    {
     "data": {
      "text/plain": [
       "<matplotlib.figure.Figure at 0x1151c5c50>"
      ]
     },
     "metadata": {},
     "output_type": "display_data"
    },
    {
     "data": {
      "image/png": "[encoded data removed]",
      "text/plain": [
       "<matplotlib.figure.Figure at 0x1151c5d30>"
      ]
     },
     "metadata": {},
     "output_type": "display_data"
    }
   ],
   "source": [
    "#Plot autocorrelation and confidence intervals using the plot_acf function\n",
    "plt.figure(figsize=(5.5, 5.5))\n",
    "plot_acf(sector1_df['collisions_tomorrow'], lags=20)\n",
    "plt.savefig('acf_ci.png', format='png', dpi=300)"
   ]
  },
  {
   "cell_type": "code",
   "execution_count": 15,
   "metadata": {},
   "outputs": [
    {
     "data": {
      "text/plain": [
       "<matplotlib.figure.Figure at 0x1152b9908>"
      ]
     },
     "metadata": {},
     "output_type": "display_data"
    },
    {
     "data": {
      "image/png": "[encoded data removed]",
      "text/plain": [
       "<matplotlib.figure.Figure at 0x1152b95c0>"
      ]
     },
     "metadata": {},
     "output_type": "display_data"
    }
   ],
   "source": [
    "#Plot autocorrelation and confidence intervals using the plot_acf function\n",
    "plt.figure(figsize=(5.5, 5.5))\n",
    "plot_pacf(sector1_df['collisions_tomorrow'], lags=20)\n",
    "plt.savefig('acf_ci.png', format='png', dpi=300)"
   ]
  },
  {
   "cell_type": "markdown",
   "metadata": {},
   "source": [
    "##### Observations\n",
    "\n",
    "- Based on the PACF, I will include lag 10 of all features"
   ]
  },
  {
   "cell_type": "markdown",
   "metadata": {},
   "source": [
    "### Get X and y"
   ]
  },
  {
   "cell_type": "code",
   "execution_count": 16,
   "metadata": {},
   "outputs": [],
   "source": [
    "X=sector1_df.drop(['collisions_tomorrow','sector','collision_date'], axis = 1).values\n",
    "y = sector1_df['collisions_tomorrow'].values\n"
   ]
  },
  {
   "cell_type": "code",
   "execution_count": 17,
   "metadata": {},
   "outputs": [
    {
     "name": "stdout",
     "output_type": "stream",
     "text": [
      "[[  0.00000000e+00   4.00000000e+00   1.00000000e+00 ...,   0.00000000e+00\n",
      "    3.00000000e+00   0.00000000e+00]\n",
      " [  1.00000000e+00   6.00000000e+00   0.00000000e+00 ...,   0.00000000e+00\n",
      "    4.00000000e+00   0.00000000e+00]\n",
      " [  2.00000000e+00   6.00000000e+00   0.00000000e+00 ...,   0.00000000e+00\n",
      "    4.00000000e+00   0.00000000e+00]\n",
      " ..., \n",
      " [  1.71600000e+03   1.00000000e+00   0.00000000e+00 ...,   0.00000000e+00\n",
      "    0.00000000e+00   0.00000000e+00]\n",
      " [  1.71700000e+03   3.00000000e+00   0.00000000e+00 ...,   0.00000000e+00\n",
      "    2.00000000e+00   0.00000000e+00]\n",
      " [  1.71800000e+03   1.00000000e+00   1.00000000e+00 ...,   0.00000000e+00\n",
      "    1.00000000e+00   0.00000000e+00]]\n",
      "[ 6.  6.  5. ...,  3.  1.  1.]\n"
     ]
    }
   ],
   "source": [
    "print(X)\n",
    "print(y)\n"
   ]
  },
  {
   "cell_type": "markdown",
   "metadata": {},
   "source": [
    "### Check X and y"
   ]
  },
  {
   "cell_type": "code",
   "execution_count": 18,
   "metadata": {},
   "outputs": [
    {
     "name": "stdout",
     "output_type": "stream",
     "text": [
      "\n",
      "X\n",
      "=\n",
      "Any infinity?  False\n",
      "Are all finite?  True\n",
      "Any NaN?  False\n",
      "\n",
      "y\n",
      "=\n",
      "Any infinity?  False\n",
      "Are all finite?  True\n",
      "Any NaN?  False\n",
      "\n"
     ]
    }
   ],
   "source": [
    "print(\n",
    "\"\"\"\n",
    "X\n",
    "=\n",
    "Any infinity?  {}\n",
    "Are all finite?  {}\n",
    "Any NaN?  {}\n",
    "\"\"\".format(np.isinf(X).any(),\n",
    "            np.isfinite(X).all(),\n",
    "            np.isnan(X).any()))\n",
    "\n",
    "print(\n",
    "\"\"\"y\n",
    "=\n",
    "Any infinity?  {}\n",
    "Are all finite?  {}\n",
    "Any NaN?  {}\n",
    "\"\"\".format(np.isinf(y).any(),\n",
    "            np.isfinite(y).all(),\n",
    "            np.isnan(y).any()))"
   ]
  },
  {
   "cell_type": "markdown",
   "metadata": {},
   "source": [
    "### Decide if I Should Use NMSE or R^2"
   ]
  },
  {
   "cell_type": "markdown",
   "metadata": {},
   "source": [
    "### Decide Which Models will be used"
   ]
  },
  {
   "cell_type": "markdown",
   "metadata": {},
   "source": [
    "### Decide Which Hyperparameters to Tune for Each Model"
   ]
  },
  {
   "cell_type": "markdown",
   "metadata": {},
   "source": [
    "### Create 10 lags\n"
   ]
  },
  {
   "cell_type": "markdown",
   "metadata": {},
   "source": [
    "### Create 5 components SSA"
   ]
  },
  {
   "cell_type": "markdown",
   "metadata": {},
   "source": [
    "### Data Splits\n",
    "- train & validation & test set splits found"
   ]
  },
  {
   "cell_type": "markdown",
   "metadata": {},
   "source": [
    "### Do Feature selection, anything allowed\n",
    "\n",
    "- Best [900, 300, 100, 30] variables used\n",
    "- Only choose the features once\n",
    "- Run this cell and those below when you decide to change the # of features to use"
   ]
  },
  {
   "cell_type": "code",
   "execution_count": 184,
   "metadata": {},
   "outputs": [],
   "source": [
    "features_to_select = 100"
   ]
  },
  {
   "cell_type": "markdown",
   "metadata": {},
   "source": [
    "### Do PCA to choose Number of Components\n",
    "\n",
    "- Analyze plot to determine how many components to use.  Expected to be around 20 or 50."
   ]
  },
  {
   "cell_type": "markdown",
   "metadata": {},
   "source": [
    "### First Main Loop (Forecast one day ahead)\n",
    "- Loop over the train set, and increase it by one on each iteration using the validation set\n",
    "- Forecast one day ahead using the validation set\n",
    "- Normalize the train set and next validation record\n",
    "- Apply PCA on train set and next validation record\n",
    "- Run many models with different hyperparameters and store their scores in a dictionary (Excluding deep learning) (Include XGBoost)\n",
    "- Be sure to include a baseline model\n",
    "- Use the scoring value decided above"
   ]
  },
  {
   "cell_type": "markdown",
   "metadata": {},
   "source": [
    "### Check the Results of All Models\n",
    "- Use sns.boxplot\n",
    "- Move on after trying the best [900, 300, 100, 30] features"
   ]
  },
  {
   "cell_type": "markdown",
   "metadata": {},
   "source": [
    "### Second Main Loop\n",
    "- Same as before, but now focus on a select few models and use more hyperparameter combinations (including deep learning)\n"
   ]
  },
  {
   "cell_type": "markdown",
   "metadata": {},
   "source": [
    "### Check the Results of All Models\n",
    "- Use sns.boxplot"
   ]
  },
  {
   "cell_type": "markdown",
   "metadata": {},
   "source": [
    "### Third Main Loop\n",
    "- Same as before, but now focus on certain models and hyperparameters and add bagging\n"
   ]
  },
  {
   "cell_type": "markdown",
   "metadata": {},
   "source": [
    "### Check the Results of All Models\n",
    "- Use sns.boxplot\n",
    "- Decide which ones to use in the ensemble"
   ]
  },
  {
   "cell_type": "markdown",
   "metadata": {},
   "source": [
    "### Make an Ensemble Using the Best Models\n",
    "\n",
    "- The best model should have the most impact the prediction"
   ]
  },
  {
   "cell_type": "code",
   "execution_count": null,
   "metadata": {},
   "outputs": [],
   "source": []
  },
  {
   "cell_type": "code",
   "execution_count": null,
   "metadata": {},
   "outputs": [],
   "source": []
  },
  {
   "cell_type": "code",
   "execution_count": null,
   "metadata": {},
   "outputs": [],
   "source": []
  },
  {
   "cell_type": "code",
   "execution_count": null,
   "metadata": {},
   "outputs": [],
   "source": []
  },
  {
   "cell_type": "code",
   "execution_count": null,
   "metadata": {},
   "outputs": [],
   "source": []
  },
  {
   "cell_type": "code",
   "execution_count": null,
   "metadata": {},
   "outputs": [],
   "source": []
  },
  {
   "cell_type": "markdown",
   "metadata": {},
   "source": [
    "### Train/Test Split"
   ]
  },
  {
   "cell_type": "code",
   "execution_count": 19,
   "metadata": {},
   "outputs": [
    {
     "name": "stdout",
     "output_type": "stream",
     "text": [
      "(1375, 121)\n",
      "(1375,)\n",
      "(344, 121)\n",
      "(344,)\n"
     ]
    }
   ],
   "source": [
    "from sklearn.model_selection import train_test_split\n",
    "# Randomly splitting the original dataset into training set and testing set:\n",
    "X_train, X_test, y_train, y_test = train_test_split(X, y, test_size=0.2, random_state=2)\n",
    "\n",
    "# print the size of the traning set:\n",
    "print(X_train.shape)\n",
    "print(y_train.shape)\n",
    "\n",
    "# print the size of the testing set:\n",
    "print(X_test.shape)\n",
    "print(y_test.shape)"
   ]
  },
  {
   "cell_type": "code",
   "execution_count": 20,
   "metadata": {},
   "outputs": [
    {
     "name": "stdout",
     "output_type": "stream",
     "text": [
      "[[  0.00000000e+00   4.00000000e+00   1.00000000e+00 ...,   0.00000000e+00\n",
      "    3.00000000e+00   0.00000000e+00]\n",
      " [  1.00000000e+00   6.00000000e+00   0.00000000e+00 ...,   0.00000000e+00\n",
      "    4.00000000e+00   0.00000000e+00]\n",
      " [  2.00000000e+00   6.00000000e+00   0.00000000e+00 ...,   0.00000000e+00\n",
      "    4.00000000e+00   0.00000000e+00]\n",
      " ..., \n",
      " [  1.71600000e+03   1.00000000e+00   0.00000000e+00 ...,   0.00000000e+00\n",
      "    0.00000000e+00   0.00000000e+00]\n",
      " [  1.71700000e+03   3.00000000e+00   0.00000000e+00 ...,   0.00000000e+00\n",
      "    2.00000000e+00   0.00000000e+00]\n",
      " [  1.71800000e+03   1.00000000e+00   1.00000000e+00 ...,   0.00000000e+00\n",
      "    1.00000000e+00   0.00000000e+00]]\n"
     ]
    }
   ],
   "source": [
    "(print(X))"
   ]
  },
  {
   "cell_type": "markdown",
   "metadata": {},
   "source": [
    "### Standard Scaler"
   ]
  },
  {
   "cell_type": "code",
   "execution_count": 21,
   "metadata": {},
   "outputs": [],
   "source": [
    "from sklearn.preprocessing import StandardScaler\n",
    "scaler = StandardScaler()\n",
    "rescaledX_train = scaler.fit_transform(X_train)"
   ]
  },
  {
   "cell_type": "code",
   "execution_count": 22,
   "metadata": {},
   "outputs": [],
   "source": [
    "rescaledX_test = scaler.transform(X_test)"
   ]
  },
  {
   "cell_type": "code",
   "execution_count": 23,
   "metadata": {},
   "outputs": [
    {
     "name": "stdout",
     "output_type": "stream",
     "text": [
      "[[ -0.13870359  -1.35087114   0.54570204 ...,  -0.07153292  -1.44980388\n",
      "   -0.21404323]\n",
      " [ -0.41210601   0.60022951   0.54570204 ...,  -0.07153292   0.77754845\n",
      "   -0.21404323]\n",
      " [ -0.06174587  -0.79341381  -0.67834413 ...,  13.97957694  -1.00433342\n",
      "   -0.21404323]\n",
      " ..., \n",
      " [ -0.73613852   0.60022951  -0.67834413 ...,  -0.07153292   0.33207798\n",
      "    4.38454182]\n",
      " [ -0.66728161   1.71514417  -0.67834413 ...,  -0.07153292   1.66848939\n",
      "   -0.21404323]\n",
      " [  0.67947849   2.83005882  -0.67834413 ...,  -0.07153292   1.66848939\n",
      "   -0.21404323]]\n"
     ]
    }
   ],
   "source": [
    "print(rescaledX_train)"
   ]
  },
  {
   "cell_type": "code",
   "execution_count": 24,
   "metadata": {},
   "outputs": [
    {
     "name": "stdout",
     "output_type": "stream",
     "text": [
      "[[ 1.56651747  0.32150084  0.54570204 ..., -0.07153292 -0.11339248\n",
      "  -0.21404323]\n",
      " [ 1.61309715 -1.6295998   0.54570204 ..., -0.07153292 -1.44980388\n",
      "  -0.21404323]\n",
      " [ 0.93667929  0.87895817 -0.67834413 ..., -0.07153292  2.55943032\n",
      "  -0.21404323]\n",
      " ..., \n",
      " [ 1.19590529  1.99387283  0.54570204 ..., -0.07153292 -0.11339248\n",
      "  -0.21404323]\n",
      " [-0.70576047  0.04277218 -0.67834413 ..., -0.07153292  0.33207798\n",
      "  -0.21404323]\n",
      " [-1.18168321 -0.51468515  0.54570204 ..., -0.07153292  0.33207798\n",
      "  -0.21404323]]\n"
     ]
    }
   ],
   "source": [
    "print(rescaledX_test)"
   ]
  },
  {
   "cell_type": "markdown",
   "metadata": {},
   "source": [
    "### PCA"
   ]
  },
  {
   "cell_type": "code",
   "execution_count": 25,
   "metadata": {},
   "outputs": [],
   "source": [
    "from sklearn.decomposition import PCA"
   ]
  },
  {
   "cell_type": "code",
   "execution_count": 26,
   "metadata": {},
   "outputs": [
    {
     "name": "stdout",
     "output_type": "stream",
     "text": [
      "<bound method NDFrame.head of                 0            1           2          3          4          5   \\\n",
      "0     11216.851121     1.534600  -99.723142  21.993568 -17.877875  28.475651   \n",
      "1     -3618.245789  -226.079700   42.447026 -12.153970   8.897935  -3.392446   \n",
      "2        50.652407   -30.179966    1.167893   0.794466 -10.571413  19.373907   \n",
      "3     -6145.223668  -848.860173   -8.525315  14.913895   7.498793   0.734590   \n",
      "4     -3130.889592  -417.041677  -21.043748 -32.637624  -7.488778 -10.642031   \n",
      "5      1554.731050   -22.776034  -25.818766  -7.432981   3.193946  -9.169384   \n",
      "6      1272.479257    73.453005   25.825648  -5.572972   0.576911   1.769631   \n",
      "7     -5170.863509  -332.768810  -29.281083   0.837711  -2.612550   1.893621   \n",
      "8      5122.332693   116.491943  -28.066824  13.848105  -8.297608  -7.453431   \n",
      "9       958.111503   250.496780   10.717777   1.002141   2.271215   5.070558   \n",
      "10    -3859.247834   496.438551   -7.951122   2.104560  26.238658  -5.815613   \n",
      "11    -5856.470347  -149.036756   -4.265164  29.180150   6.181229 -13.019146   \n",
      "12     4556.893562  -376.055553   10.439067   4.908719  -6.247182   9.086941   \n",
      "13     2712.232639   430.456060  -19.961887  -6.030598  18.706490  -8.569630   \n",
      "14    -1206.787268   481.988470    2.285691  -7.383594  17.194510   1.198415   \n",
      "15     8541.222539  -488.172882  -85.606980   2.162994   0.409194   3.317540   \n",
      "16     5398.473832   362.216547  -31.333414  -8.219469 -12.882024   0.685889   \n",
      "17   -30085.410540   665.743132  -67.845157  24.821257 -18.434029  11.610078   \n",
      "18    -5564.073118  -381.225677    9.061159  13.202998   9.201718 -11.114709   \n",
      "19    12963.110482  -303.580663  -23.716406  -0.138919   9.678379   8.459181   \n",
      "20     1525.936200   355.051296   -5.066890  24.407897  16.240659   8.738981   \n",
      "21    -4684.521123   504.293422  -17.448717  31.236083  13.368618   9.739494   \n",
      "22     -707.987366  -246.912377   29.447087  23.395711   6.687391   2.413186   \n",
      "23    -3614.648551  -174.056169   20.712269   6.329567   5.299317  -3.592357   \n",
      "24   -10507.280183   -34.084907   12.284654  -9.812259   0.750504   3.667059   \n",
      "25     1854.617609   639.115059  -30.978472  42.759157  -5.943282 -12.800119   \n",
      "26    35634.218928  1040.972640 -104.792119  56.747634 -26.090493  21.204949   \n",
      "27     2759.471388   442.739892   45.660399   3.966895   8.892286   5.740495   \n",
      "28     1168.459055  -538.213313   76.752005   4.052759  -8.171782 -13.205017   \n",
      "29     -592.097719  -303.190451  -26.055545   1.534395 -12.294971   6.459103   \n",
      "...            ...          ...         ...        ...        ...        ...   \n",
      "1345     72.253714  -805.045696  -31.875924  20.375932   5.429876  12.426345   \n",
      "1346 -11842.344068   -55.408821    5.420286 -12.813175  -0.268626 -13.573568   \n",
      "1347   9708.153925   142.100213  -11.024469 -30.466646  -9.245875  14.545499   \n",
      "1348    -69.827328   -84.919872  -24.575532  17.149705   2.407977   3.969190   \n",
      "1349  -4075.292978   244.082011   -6.868283   4.698641  -1.040848 -14.727083   \n",
      "1350  -7465.530917   315.925200   -3.920342   1.689561  22.327479   1.977126   \n",
      "1351   4334.231085  -150.451370   61.959638 -20.539056 -10.524116 -18.233356   \n",
      "1352   7723.233285    -3.284473   31.017073 -13.395699  -6.021129 -20.364974   \n",
      "1353   -176.574586   794.415430   15.759579 -27.686902 -25.525040 -14.354247   \n",
      "1354   4659.112394  -703.421904    4.854270   5.509168  14.008663   0.035109   \n",
      "1355   2471.094288  -437.069446  -39.192931  15.963742 -15.766983   0.238082   \n",
      "1356  -2562.200713  -142.473054  -58.688207  21.256715  -4.685436 -12.782809   \n",
      "1357  -2172.395855   440.957771  -19.785095  -7.391929 -12.937916  -5.942611   \n",
      "1358   1134.395056   -18.410543   45.381764  23.301721   6.850610   9.506317   \n",
      "1359  -2508.512077   198.853491   35.109252  11.739122 -13.603659  -2.376644   \n",
      "1360   2070.621645  -118.570209   -4.821785   3.839145   0.825438  11.899575   \n",
      "1361  -8698.371836  -323.783017  -44.441423  26.662743  -2.020980   8.790072   \n",
      "1362   -100.293905  -250.121097   26.187969   5.670481   3.708577  -6.528747   \n",
      "1363  -7168.456840  -468.236612  -10.670371  31.147833  -7.906131  -4.374232   \n",
      "1364   4692.425675  -153.208005   41.684781 -14.086881   9.543415 -14.203009   \n",
      "1365  -2196.921364   416.811950  -16.852829  10.895929   0.018835  -1.248086   \n",
      "1366   2614.292044  -480.181914   -6.919031  -3.531100   3.309483   8.956325   \n",
      "1367   -604.950610   238.746491  -30.638961   7.876480   1.745470  -3.470186   \n",
      "1368  -7908.163401  -439.860344    6.493243   1.364798  -1.697529   2.687232   \n",
      "1369  -3585.193826  -579.882853   -4.568995 -16.706836 -12.028528   0.960434   \n",
      "1370  -1341.883730   693.142904    0.531147  -6.172795  -7.018525   9.803544   \n",
      "1371    867.705617   756.948823  -23.808274  10.422650  -4.504750  -0.655420   \n",
      "1372  -2329.082764  -378.033236   39.430664  23.465081   7.989062  -8.140103   \n",
      "1373  -7587.467362  -376.852665  -14.697727  -9.479942  22.741830  -0.025226   \n",
      "1374   2062.503987   348.396428   32.449829  -1.904265  30.753941  -8.633012   \n",
      "\n",
      "            6         7         8         9     ...           40        41  \\\n",
      "0     1.627714  5.845838 -5.971556  0.255675    ...     0.399049 -0.152123   \n",
      "1    -2.753288 -0.154985 -3.667877  3.655061    ...    -0.293431  0.426053   \n",
      "2    -0.119258 -1.250502  2.222723 -0.646591    ...     0.340161 -0.146888   \n",
      "3     1.476259 -2.487001  0.067514 -1.657787    ...     0.543105 -0.168838   \n",
      "4    -3.129957 -1.570091  1.308521 -0.098891    ...    -0.716222  0.143090   \n",
      "5    -5.037950  0.521575 -0.579461  2.217705    ...     0.183626  0.317189   \n",
      "6     1.452021 -1.537703 -1.545920  2.940432    ...    -0.518074  0.637237   \n",
      "7    -0.441868  0.934273 -0.640666 -1.350034    ...    -0.567366  0.249640   \n",
      "8    -1.499553 -3.220710  6.332024  0.692220    ...     0.030657 -0.197727   \n",
      "9    -2.413316  1.201690 -1.642751  1.568729    ...    -0.301418 -0.618725   \n",
      "10   -5.942670  0.294924 -1.905066 -5.903584    ...     0.089166  0.672888   \n",
      "11    0.321155  0.002261 -3.488403  3.581719    ...     0.264988  0.735748   \n",
      "12   -0.361575 -1.851019 -0.162794  0.768183    ...     0.204676 -0.401481   \n",
      "13   -0.048386 -0.832741 -2.276111  0.876627    ...     0.271469 -0.553391   \n",
      "14    0.578889  0.458390 -3.783323 -3.699591    ...    -0.099244 -0.064462   \n",
      "15   -5.141389  0.790139  2.607514 -0.224148    ...     0.092998 -0.460395   \n",
      "16   -0.465762 -3.135111  3.013002  2.019173    ...     0.621502  0.409921   \n",
      "17   -0.078861  1.829670 -5.079648 -0.022250    ...     0.461558 -0.122300   \n",
      "18    7.000082 -1.003899  2.376629 -0.478521    ...     0.953699  0.524478   \n",
      "19    7.122705 -2.989616  1.706070 -3.145648    ...     0.761878 -0.794039   \n",
      "20   -3.769336 -0.793762  0.028706  3.185493    ...    -0.875104  0.703198   \n",
      "21   -6.243224  1.716027 -1.036867  0.778468    ...    -0.217009 -0.419480   \n",
      "22    1.329180 -2.505130 -1.708832 -0.075217    ...    -0.083884 -0.351550   \n",
      "23    4.726453 -0.304356 -0.490719  0.522459    ...     0.187506  0.055651   \n",
      "24    6.040608 -3.450140  5.255109 -3.990558    ...     0.246698  0.328304   \n",
      "25    1.177261 -0.517919 -2.362397  3.718781    ...    -0.360866 -0.929575   \n",
      "26   -3.429535 -3.512771  9.105260 -0.119671    ...    -0.010303 -0.134407   \n",
      "27   -0.949746 -2.363564  2.377680 -2.092796    ...     1.510130 -0.256234   \n",
      "28   -2.927089 -1.554833  2.021923 -0.258713    ...    -0.258836 -0.501164   \n",
      "29   -2.655868  2.412600 -1.316128 -3.809861    ...     0.004492  0.146782   \n",
      "...        ...       ...       ...       ...    ...          ...       ...   \n",
      "1345 -2.139046  3.020706 -4.049060 -1.447919    ...     0.293911 -0.189167   \n",
      "1346 -0.295631 -2.528820  2.132912  2.418149    ...    -0.124278 -0.464672   \n",
      "1347  4.573230 -0.475364  0.425662  2.299139    ...     0.482420  0.062835   \n",
      "1348 -2.233437  0.631143 -2.261472 -0.894071    ...     0.460241  0.441482   \n",
      "1349  0.239602  1.207459 -5.713189 -1.714451    ...    -0.434830 -0.684110   \n",
      "1350 -5.659850  3.109992  1.388706 -0.067221    ...    -0.111769  0.686537   \n",
      "1351  0.220120 -1.290300  2.212671 -1.639167    ...     0.019079  0.148996   \n",
      "1352  0.237036  1.498141 -1.206290  1.008900    ...     0.238181 -0.268154   \n",
      "1353  0.586467  1.261011 -4.440218 -0.873287    ...    -0.102401  0.029674   \n",
      "1354  4.361604 -3.952499 -0.611282 -3.002748    ...    -0.651510  0.552664   \n",
      "1355 -1.534049  0.189446  4.101666 -1.156408    ...    -0.082765 -0.236982   \n",
      "1356  3.587998 -2.638884 -0.265013  0.721574    ...    -0.461103  0.171939   \n",
      "1357  2.523455 -0.971941 -1.816349 -2.565918    ...     1.491321  0.210660   \n",
      "1358 -0.905781  0.456756 -3.602098 -1.759474    ...     0.165194 -0.181988   \n",
      "1359 -4.646889  2.090193 -0.398873 -0.493205    ...     0.333129 -0.380237   \n",
      "1360  3.705198 -0.430134 -0.339370 -2.726505    ...     0.420439  0.749352   \n",
      "1361  1.487547  0.305428 -0.661236 -2.131750    ...     0.599682  0.055478   \n",
      "1362  0.243633 -4.001624  0.338642 -1.561164    ...    -0.162135 -0.362212   \n",
      "1363  0.436074 -0.486088  2.448465 -0.602391    ...     0.379675  0.219720   \n",
      "1364  0.708937 -1.350087  1.758241 -3.851509    ...     0.059163 -0.514757   \n",
      "1365  2.845347 -4.053566  1.896949  3.711895    ...    -0.339594  0.728020   \n",
      "1366  6.372041  1.634913  0.282975  2.696952    ...    -0.347653 -0.004513   \n",
      "1367 -2.861052 -1.000412  3.157296 -1.947094    ...     0.181950 -0.245198   \n",
      "1368 -0.066103 -0.659574 -1.389909 -0.464072    ...     0.131493  0.121679   \n",
      "1369 -3.493777 -0.231582  0.714755 -1.380268    ...     0.020536 -0.392856   \n",
      "1370  3.428798  3.672369  4.179108 -1.115085    ...     0.322504 -0.870350   \n",
      "1371 -2.005387  1.172458  0.104261  3.841336    ...     0.234053  0.333277   \n",
      "1372 -0.155344 -4.702656  2.498629 -1.762802    ...    -0.140903  0.543253   \n",
      "1373 -3.909905 -0.873494 -1.078488 -1.571000    ...     0.109976 -0.460835   \n",
      "1374 -2.146420  7.523588  6.216579 -0.120066    ...    -0.557521  0.393237   \n",
      "\n",
      "            42        43        44        45        46        47        48  \\\n",
      "0     0.053099 -0.155403  0.117225 -0.455391  0.038820 -0.102614 -0.089984   \n",
      "1    -0.698818 -0.222706 -0.177214  0.120118 -0.179804  0.346480 -0.362508   \n",
      "2    -0.199051  0.132544  0.101311  0.566691  0.376315  0.214866 -0.080505   \n",
      "3    -0.242836 -0.568661 -0.191994 -0.093060 -0.034199 -0.141698 -0.225012   \n",
      "4    -0.208315 -0.035373 -0.066619  0.067157  0.154330 -0.300222 -0.127823   \n",
      "5     0.137770 -0.245664  0.559381  0.075980 -0.253808  0.323622  0.903341   \n",
      "6    -0.739384 -0.336453  0.087240 -0.408403 -0.035263  0.324412  0.898728   \n",
      "7     1.263359  0.534322 -0.200331 -0.008391 -0.746018 -0.684183 -0.462950   \n",
      "8    -0.176081 -0.419833  0.351289 -0.029625 -0.058118 -0.226160 -0.438805   \n",
      "9     0.129437  0.394246 -0.379893 -0.067587 -0.257674  0.380945 -0.544908   \n",
      "10    0.419987 -0.256249  0.245790 -0.050420 -0.627109  0.061304  0.663752   \n",
      "11    0.564662  0.378472  0.109147  0.947461 -0.162274  0.385089 -0.225030   \n",
      "12    0.343923  0.334589 -0.212860 -0.088244  0.082121 -0.231010 -0.050097   \n",
      "13   -0.702903 -0.329648  0.521183 -0.531414  0.585850 -0.175857 -0.363016   \n",
      "14   -0.271053 -0.046374 -0.182202  0.356951 -0.331587  0.519322 -0.276082   \n",
      "15   -0.338600 -0.334170 -0.118964  0.263805  0.251575  0.416949 -0.116967   \n",
      "16    0.393796 -0.242328 -0.047214  0.094431 -0.110210  0.564742 -0.383738   \n",
      "17   -0.258320  0.146053 -0.017870  0.040078  0.232813 -0.371715 -0.012438   \n",
      "18   -0.296384 -0.346206  0.125851 -0.501482 -0.233595 -0.281599 -0.001684   \n",
      "19    0.228096  0.084907  0.128946 -0.219119  0.132281 -0.207629 -0.356637   \n",
      "20    0.217401 -0.466593  0.341752  0.058742 -0.566015 -0.023998  0.657296   \n",
      "21    0.000296  0.755330 -0.748538 -0.307613  0.108578 -0.466942 -0.148465   \n",
      "22   -0.302253 -0.125985 -0.178185  0.250224  0.519518  0.510462  0.987219   \n",
      "23    1.065437 -0.023281  0.223053  0.056819 -0.845596 -0.064970  0.647716   \n",
      "24   -0.040878  0.153620 -0.103973  0.219981  0.245564 -0.531655  0.229601   \n",
      "25    0.329719  0.433755 -0.108576 -0.010789 -0.110388  0.227685 -0.357688   \n",
      "26    0.070289 -0.115150 -0.166615  0.074880  0.042458  0.283949 -0.099116   \n",
      "27    0.136236 -0.295583  0.065251  0.011164  0.102362  0.070975 -0.104773   \n",
      "28    0.360700  0.552994 -0.143811 -0.115967  0.121042 -0.390372 -0.209406   \n",
      "29   -0.081755 -0.201702 -0.278324 -0.098353  0.238194 -0.206116  0.042014   \n",
      "...        ...       ...       ...       ...       ...       ...       ...   \n",
      "1345 -0.168212  0.056009  0.008068  0.278570 -0.587280  0.531524 -0.463062   \n",
      "1346 -0.112191  0.359054 -0.053391  0.275311 -0.561894 -0.021733 -0.230788   \n",
      "1347 -0.343680 -0.186195 -0.084446  0.002771 -0.100802  0.229964 -0.334222   \n",
      "1348 -0.579280  0.498606 -0.265922  0.533426 -0.241816  0.424028 -0.194237   \n",
      "1349  0.451945 -0.083677 -0.174968 -0.615533  0.428505 -0.400407  0.191441   \n",
      "1350  0.255353 -0.209798  0.225390  0.187195 -0.345427 -0.345982 -0.495373   \n",
      "1351  0.152665  0.310362  0.149324  0.594789 -0.770655  0.275920 -0.143491   \n",
      "1352 -0.321649 -0.002828 -0.131059  0.366080  0.979210  0.494652 -0.052420   \n",
      "1353  0.005800 -0.006066  0.096377  0.126752  0.048135  0.267860 -0.004566   \n",
      "1354 -0.575587  0.184561 -0.476754 -0.397270 -0.250356  0.068434  0.843278   \n",
      "1355 -0.015931  0.137359  0.481664  0.337118  0.221820  0.257595  0.997712   \n",
      "1356 -0.204185  0.238055  0.174769  0.237661 -0.169018  0.347364 -0.466465   \n",
      "1357  0.719411 -0.133833  0.039340 -0.046304 -0.181799  0.713965 -0.409319   \n",
      "1358 -0.114097 -0.075678  0.023391  0.684297  0.123612  0.051070  0.796677   \n",
      "1359  0.162323 -0.092994  0.161532  0.196179  0.156600  0.429893 -0.166897   \n",
      "1360  0.263416  0.035198 -0.016409 -0.226993  0.214276 -0.011355  0.067137   \n",
      "1361 -0.003994 -0.018917 -0.063884 -0.245049 -0.178844 -0.379442  0.086106   \n",
      "1362  1.104679 -0.116258 -0.282938 -0.608497  0.096051  0.368415  0.887817   \n",
      "1363 -0.358102  0.427038  0.347717 -0.559049 -0.053926 -0.349699  0.239979   \n",
      "1364  0.209189  0.328971 -0.184349  0.240026  0.164014  0.743132 -0.266071   \n",
      "1365 -0.461705 -0.517565  0.100112 -0.645526  0.116912 -0.523414  0.059077   \n",
      "1366  0.492218  0.405841 -0.720291 -0.470611  0.347154 -0.358561 -0.078491   \n",
      "1367 -0.048110 -0.025630  0.289774  0.465134 -0.239675  0.289230 -0.350447   \n",
      "1368 -0.253304 -0.145497 -0.269389 -0.615970  0.635037  0.007184  0.001058   \n",
      "1369 -0.157220 -0.911507  0.115578  0.114222 -0.324254  0.140084  0.766774   \n",
      "1370 -0.234392  0.554518 -0.009688 -0.036778 -0.171296 -0.315145 -0.135812   \n",
      "1371  0.767957 -0.518002 -0.110658 -0.582774  0.036441  0.356772  0.726115   \n",
      "1372  0.844823 -0.162491  0.197191  0.790336  0.499423 -0.270321 -0.166929   \n",
      "1373 -0.435738 -0.254297  0.332919  1.014268 -0.222716  0.447775 -0.584591   \n",
      "1374  0.819943 -0.842784 -0.956100 -0.024973 -0.065202  0.634154 -0.808928   \n",
      "\n",
      "            49  \n",
      "0    -0.026847  \n",
      "1     0.606131  \n",
      "2    -0.425867  \n",
      "3    -0.198012  \n",
      "4    -0.094059  \n",
      "5    -0.235574  \n",
      "6    -0.047782  \n",
      "7    -0.215270  \n",
      "8     0.112082  \n",
      "9     0.511366  \n",
      "10   -0.125255  \n",
      "11    0.459261  \n",
      "12   -0.300858  \n",
      "13    0.248919  \n",
      "14    0.375545  \n",
      "15   -0.455656  \n",
      "16    0.665175  \n",
      "17   -0.186949  \n",
      "18    0.535880  \n",
      "19    0.030835  \n",
      "20   -0.042776  \n",
      "21   -0.098090  \n",
      "22    0.157642  \n",
      "23   -0.013880  \n",
      "24    0.628124  \n",
      "25   -0.418451  \n",
      "26   -0.265834  \n",
      "27   -0.417281  \n",
      "28   -0.084452  \n",
      "29   -0.042650  \n",
      "...        ...  \n",
      "1345  0.328776  \n",
      "1346 -0.555426  \n",
      "1347 -0.447619  \n",
      "1348  0.235040  \n",
      "1349  0.634728  \n",
      "1350 -0.330456  \n",
      "1351 -0.650318  \n",
      "1352 -0.155291  \n",
      "1353 -0.518692  \n",
      "1354 -0.045581  \n",
      "1355  0.138091  \n",
      "1356  0.491375  \n",
      "1357  0.531796  \n",
      "1358 -0.038611  \n",
      "1359 -0.605463  \n",
      "1360 -0.111946  \n",
      "1361  0.385778  \n",
      "1362 -0.003228  \n",
      "1363  0.480023  \n",
      "1364  0.477887  \n",
      "1365  0.608863  \n",
      "1366 -0.194181  \n",
      "1367 -0.536880  \n",
      "1368  0.020551  \n",
      "1369  0.106113  \n",
      "1370  0.009467  \n",
      "1371  0.088558  \n",
      "1372 -0.220561  \n",
      "1373  0.638380  \n",
      "1374  0.027402  \n",
      "\n",
      "[1375 rows x 50 columns]>\n"
     ]
    }
   ],
   "source": [
    "# reduce dimensions. Use PCA\n",
    "pca = PCA(n_components=50)\n",
    "# train the algorithim\n",
    "pca.fit(X_train)\n",
    "# transform the vector for training set\n",
    "X_transform = pca.fit_transform(X_train)\n",
    "\n",
    "# put it into a dataframe\n",
    "X_transform = pd.DataFrame(X_transform)\n",
    "print (X_transform.head)"
   ]
  },
  {
   "cell_type": "code",
   "execution_count": 27,
   "metadata": {},
   "outputs": [
    {
     "data": {
      "text/html": [
       "<div>\n",
       "<table border=\"1\" class=\"dataframe\">\n",
       "  <thead>\n",
       "    <tr style=\"text-align: right;\">\n",
       "      <th></th>\n",
       "      <th>0</th>\n",
       "      <th>1</th>\n",
       "      <th>2</th>\n",
       "      <th>3</th>\n",
       "      <th>4</th>\n",
       "      <th>5</th>\n",
       "      <th>6</th>\n",
       "      <th>7</th>\n",
       "      <th>8</th>\n",
       "      <th>9</th>\n",
       "      <th>...</th>\n",
       "      <th>40</th>\n",
       "      <th>41</th>\n",
       "      <th>42</th>\n",
       "      <th>43</th>\n",
       "      <th>44</th>\n",
       "      <th>45</th>\n",
       "      <th>46</th>\n",
       "      <th>47</th>\n",
       "      <th>48</th>\n",
       "      <th>49</th>\n",
       "    </tr>\n",
       "  </thead>\n",
       "  <tbody>\n",
       "    <tr>\n",
       "      <th>0</th>\n",
       "      <td>-398.502485</td>\n",
       "      <td>771.037758</td>\n",
       "      <td>-25.748645</td>\n",
       "      <td>1.010627</td>\n",
       "      <td>1.302192</td>\n",
       "      <td>29.001578</td>\n",
       "      <td>2.625534</td>\n",
       "      <td>-0.237242</td>\n",
       "      <td>-3.945198</td>\n",
       "      <td>0.108836</td>\n",
       "      <td>...</td>\n",
       "      <td>0.065574</td>\n",
       "      <td>0.074294</td>\n",
       "      <td>0.449686</td>\n",
       "      <td>-0.533552</td>\n",
       "      <td>0.286576</td>\n",
       "      <td>0.389368</td>\n",
       "      <td>0.114344</td>\n",
       "      <td>-0.367597</td>\n",
       "      <td>0.132230</td>\n",
       "      <td>0.591831</td>\n",
       "    </tr>\n",
       "    <tr>\n",
       "      <th>1</th>\n",
       "      <td>8459.075970</td>\n",
       "      <td>849.318333</td>\n",
       "      <td>58.290867</td>\n",
       "      <td>-9.256005</td>\n",
       "      <td>-20.869299</td>\n",
       "      <td>-17.388177</td>\n",
       "      <td>3.904694</td>\n",
       "      <td>0.967230</td>\n",
       "      <td>-4.981477</td>\n",
       "      <td>-1.466490</td>\n",
       "      <td>...</td>\n",
       "      <td>0.009098</td>\n",
       "      <td>0.131652</td>\n",
       "      <td>-0.053450</td>\n",
       "      <td>-0.093885</td>\n",
       "      <td>-0.027824</td>\n",
       "      <td>-0.265577</td>\n",
       "      <td>0.068364</td>\n",
       "      <td>-0.137540</td>\n",
       "      <td>0.009691</td>\n",
       "      <td>-0.247092</td>\n",
       "    </tr>\n",
       "    <tr>\n",
       "      <th>2</th>\n",
       "      <td>-1085.004860</td>\n",
       "      <td>455.749166</td>\n",
       "      <td>-30.560691</td>\n",
       "      <td>-5.518640</td>\n",
       "      <td>9.288197</td>\n",
       "      <td>5.284026</td>\n",
       "      <td>4.598316</td>\n",
       "      <td>-1.649749</td>\n",
       "      <td>-2.528319</td>\n",
       "      <td>0.944348</td>\n",
       "      <td>...</td>\n",
       "      <td>0.445085</td>\n",
       "      <td>-1.433631</td>\n",
       "      <td>0.694850</td>\n",
       "      <td>0.680987</td>\n",
       "      <td>-0.032830</td>\n",
       "      <td>-0.288857</td>\n",
       "      <td>-0.263660</td>\n",
       "      <td>-0.512901</td>\n",
       "      <td>-0.508940</td>\n",
       "      <td>-0.056635</td>\n",
       "    </tr>\n",
       "    <tr>\n",
       "      <th>3</th>\n",
       "      <td>-1223.399464</td>\n",
       "      <td>133.866773</td>\n",
       "      <td>63.334282</td>\n",
       "      <td>7.125151</td>\n",
       "      <td>-3.909572</td>\n",
       "      <td>8.163414</td>\n",
       "      <td>1.565866</td>\n",
       "      <td>0.717707</td>\n",
       "      <td>-4.254855</td>\n",
       "      <td>-1.634255</td>\n",
       "      <td>...</td>\n",
       "      <td>-0.654211</td>\n",
       "      <td>0.117747</td>\n",
       "      <td>-0.255753</td>\n",
       "      <td>-0.198954</td>\n",
       "      <td>0.078697</td>\n",
       "      <td>0.379183</td>\n",
       "      <td>-0.310513</td>\n",
       "      <td>-0.324711</td>\n",
       "      <td>-0.141304</td>\n",
       "      <td>-0.275387</td>\n",
       "    </tr>\n",
       "    <tr>\n",
       "      <th>4</th>\n",
       "      <td>4342.506467</td>\n",
       "      <td>110.617256</td>\n",
       "      <td>23.669449</td>\n",
       "      <td>-1.403116</td>\n",
       "      <td>2.854951</td>\n",
       "      <td>-7.810777</td>\n",
       "      <td>2.683527</td>\n",
       "      <td>-0.244601</td>\n",
       "      <td>-2.935955</td>\n",
       "      <td>-0.112920</td>\n",
       "      <td>...</td>\n",
       "      <td>0.790040</td>\n",
       "      <td>0.346418</td>\n",
       "      <td>-0.265291</td>\n",
       "      <td>0.286276</td>\n",
       "      <td>-0.415577</td>\n",
       "      <td>0.386875</td>\n",
       "      <td>0.025848</td>\n",
       "      <td>0.535691</td>\n",
       "      <td>-0.374416</td>\n",
       "      <td>0.625577</td>\n",
       "    </tr>\n",
       "  </tbody>\n",
       "</table>\n",
       "<p>5 rows × 50 columns</p>\n",
       "</div>"
      ],
      "text/plain": [
       "            0           1          2         3          4          5   \\\n",
       "0  -398.502485  771.037758 -25.748645  1.010627   1.302192  29.001578   \n",
       "1  8459.075970  849.318333  58.290867 -9.256005 -20.869299 -17.388177   \n",
       "2 -1085.004860  455.749166 -30.560691 -5.518640   9.288197   5.284026   \n",
       "3 -1223.399464  133.866773  63.334282  7.125151  -3.909572   8.163414   \n",
       "4  4342.506467  110.617256  23.669449 -1.403116   2.854951  -7.810777   \n",
       "\n",
       "         6         7         8         9     ...           40        41  \\\n",
       "0  2.625534 -0.237242 -3.945198  0.108836    ...     0.065574  0.074294   \n",
       "1  3.904694  0.967230 -4.981477 -1.466490    ...     0.009098  0.131652   \n",
       "2  4.598316 -1.649749 -2.528319  0.944348    ...     0.445085 -1.433631   \n",
       "3  1.565866  0.717707 -4.254855 -1.634255    ...    -0.654211  0.117747   \n",
       "4  2.683527 -0.244601 -2.935955 -0.112920    ...     0.790040  0.346418   \n",
       "\n",
       "         42        43        44        45        46        47        48  \\\n",
       "0  0.449686 -0.533552  0.286576  0.389368  0.114344 -0.367597  0.132230   \n",
       "1 -0.053450 -0.093885 -0.027824 -0.265577  0.068364 -0.137540  0.009691   \n",
       "2  0.694850  0.680987 -0.032830 -0.288857 -0.263660 -0.512901 -0.508940   \n",
       "3 -0.255753 -0.198954  0.078697  0.379183 -0.310513 -0.324711 -0.141304   \n",
       "4 -0.265291  0.286276 -0.415577  0.386875  0.025848  0.535691 -0.374416   \n",
       "\n",
       "         49  \n",
       "0  0.591831  \n",
       "1 -0.247092  \n",
       "2 -0.056635  \n",
       "3 -0.275387  \n",
       "4  0.625577  \n",
       "\n",
       "[5 rows x 50 columns]"
      ]
     },
     "execution_count": 27,
     "metadata": {},
     "output_type": "execute_result"
    }
   ],
   "source": [
    "# transform the vector for testing set\n",
    "X_transform_test = pca.transform(X_test)\n",
    "# put it into a dataframe\n",
    "X_transform_test = pd.DataFrame(X_transform_test)\n",
    "\n",
    "X_transform_test.head()"
   ]
  },
  {
   "cell_type": "markdown",
   "metadata": {},
   "source": [
    "### Baseline"
   ]
  },
  {
   "cell_type": "code",
   "execution_count": 78,
   "metadata": {},
   "outputs": [
    {
     "name": "stdout",
     "output_type": "stream",
     "text": [
      "13.5955502153\n"
     ]
    }
   ],
   "source": [
    "y_prediction = np.zeros(len(y_test))\n",
    "y_prediction.fill(y.mean())\n",
    "\n",
    "mse = metrics.mean_squared_error(y_test, y_prediction)\n",
    "print(mse)"
   ]
  },
  {
   "cell_type": "markdown",
   "metadata": {},
   "source": [
    "##### Observations\n",
    "- The baseline to beat is about 13.60 mse"
   ]
  },
  {
   "cell_type": "code",
   "execution_count": 28,
   "metadata": {},
   "outputs": [],
   "source": [
    "# The following line will import LinearRegression \"Class\"\n",
    "\n",
    "from sklearn.linear_model import LinearRegression"
   ]
  },
  {
   "cell_type": "code",
   "execution_count": 29,
   "metadata": {},
   "outputs": [
    {
     "name": "stderr",
     "output_type": "stream",
     "text": [
      "/Users/cheryljose/Documents/Projects/TestProject/venv/lib/python3.6/site-packages/scipy/linalg/basic.py:1018: RuntimeWarning: internal gelsd driver lwork query error, required iwork dimension not returned. This is likely the result of LAPACK bug 0038, fixed in LAPACK 3.2.2 (released July 21, 2010). Falling back to 'gelss' driver.\n",
      "  warnings.warn(mesg, RuntimeWarning)\n"
     ]
    },
    {
     "data": {
      "text/plain": [
       "LinearRegression(copy_X=True, fit_intercept=True, n_jobs=1, normalize=False)"
      ]
     },
     "execution_count": 29,
     "metadata": {},
     "output_type": "execute_result"
    }
   ],
   "source": [
    "# In the following line, \"my_linreg\" is instantiated as an \"object\" of LinearRegression \"class\". \n",
    "\n",
    "my_linreg = LinearRegression()\n",
    "\n",
    "# fitting the model to the training data:\n",
    "my_linreg.fit(X_transform, y_train)"
   ]
  },
  {
   "cell_type": "code",
   "execution_count": 30,
   "metadata": {},
   "outputs": [
    {
     "name": "stdout",
     "output_type": "stream",
     "text": [
      "8.85163636364\n",
      "[  7.10349573e-05   1.92482435e-04   1.01138032e-03   3.06545571e-03\n",
      "   7.17492537e-02  -4.78469705e-04  -1.46639931e-02  -1.78733031e-02\n",
      "   8.49412469e-02   6.91672202e-02   3.34418078e-03   7.45593971e-02\n",
      "  -7.77721950e-02  -5.12103831e-02   1.06509757e-02   5.23465766e-02\n",
      "  -1.09428743e-02   1.08289486e-01  -6.59802347e-02  -5.37412408e-02\n",
      "  -1.12121257e-01   1.00695201e-01  -2.80676123e-02  -4.59734156e-02\n",
      "  -1.17669203e-01   8.45630281e-02   8.20163015e-02   1.46003151e-01\n",
      "   1.06170197e-01   5.32316953e-02  -1.99008287e-01   1.26649062e-01\n",
      "   6.04328558e-02   2.08242487e-02  -1.60888182e-01   7.34155787e-02\n",
      "  -8.13940396e-02  -1.86216642e-02   1.49898766e-02  -1.90770005e-01\n",
      "  -1.18484330e-01   2.62718881e-01   6.10635310e-02  -3.72099246e-01\n",
      "  -1.31358280e-01   3.05054399e-01   6.26117613e-01   2.92019754e-01\n",
      "  -8.37745916e-01  -9.42850667e-01]\n"
     ]
    }
   ],
   "source": [
    "# printing Theta0 using attribute \"intercept_\":\n",
    "print(my_linreg.intercept_)\n",
    "\n",
    "# printing [Theta1, Theta2, Theta3, Theta4, Theta5, Theta6, Theta7] using attribute \"coef_\":\n",
    "print(my_linreg.coef_)"
   ]
  },
  {
   "cell_type": "code",
   "execution_count": 31,
   "metadata": {},
   "outputs": [
    {
     "name": "stdout",
     "output_type": "stream",
     "text": [
      "[  7.76479085   7.36413679   8.10306387   9.07296517   8.39062123\n",
      "  10.75175983   9.37507922   7.63756686   9.33013514   8.30648606\n",
      "  10.29487359   9.07853318  11.86113366  10.63948618  11.1968178\n",
      "   9.83970058   9.72612462  10.0471118    9.32332054  10.13780049\n",
      "   7.82589577   8.70023736   8.04873847   8.87417694   9.91076421\n",
      "  10.43000427   7.99175477   8.15329811  10.67498818   7.11914897\n",
      "  11.441171     6.34193892   8.40318907   8.89659625   8.58346388\n",
      "   8.96586156  10.30069763  10.34281399   8.28664019   9.09083836\n",
      "   9.01023713   9.11160513   7.89472502  10.52709328   7.79675363\n",
      "   7.7787677   10.72318885   7.42028829   8.35642514   9.96192266\n",
      "   8.30741084   7.01951122   9.94328063   7.4717144    7.36913495\n",
      "   9.55213911   8.6637443    9.19587643   9.25485434  10.15216691\n",
      "   7.28760885   8.31594209   9.98408971   8.1221162    7.75858313\n",
      "   9.38744298   8.54118272   8.20973692  10.31449981   9.64707157\n",
      "   8.55968439   7.94681238  10.20969986   5.91764689   9.82366487\n",
      "   7.99644904   6.83003263   7.81261982   8.00039741   8.45186559\n",
      "   7.72342903   9.94761658  10.34217418  10.70586042   9.25104987\n",
      "   8.31539425   9.08300869   6.10858861  10.17372642   7.73454496\n",
      "   8.5739947    5.33678043  10.4586693    6.87503566   7.68392144\n",
      "  10.71268409   8.5401371    9.90181211   9.41216766  10.04649368\n",
      "   9.15214513  10.8859342    8.12267052   6.92328966   9.51637296\n",
      "  10.11979288  10.23459926   9.58894071   8.6496707    7.91411637\n",
      "  11.12927126  10.14517712   8.1023851    7.61270373  10.61019989\n",
      "   7.68622954  11.82519639   8.46252291   8.51142386  10.46334366\n",
      "   9.39598077   6.6711945    8.90781865   8.22910961   9.00838915\n",
      "   9.66044979   8.29318963   8.62603485   8.93111861   8.36448615\n",
      "   8.32588921   8.15015224   6.29273397   9.7656619    8.83838423\n",
      "   8.42042302   7.68946652  10.11554712   6.78137166  10.74915175\n",
      "   9.22569917   9.30934917   7.83775305   9.48846325   9.92305649\n",
      "   7.66848009   8.89403194   8.94568423   9.81987313   8.55714257\n",
      "   9.69256549   8.42127389   8.08174776  10.10820903   8.9550361\n",
      "   8.01974293   8.10794755   9.99227451  11.319679     9.08210782\n",
      "  10.8475796   10.03550262   7.65327961   9.01900066   9.16904768\n",
      "  10.00198923   8.5128299   11.21183113   9.69792365   9.87971719\n",
      "   8.44542687   8.30678884  10.17380812   8.46963125  10.66561312\n",
      "  11.15546449   7.70691031   8.24171457   8.66273799  10.35973075\n",
      "   9.28950129   9.41446405   8.10446833   7.53474226   9.55821316\n",
      "  10.32210338   9.47403365   7.84737877   9.02994302  12.03508156\n",
      "   9.47395377   6.89844429   8.21367615   9.09390195   7.14618312\n",
      "   7.46719067   8.84766143   7.77322045   8.62664009  10.29576014\n",
      "   9.39604946   9.00515996  11.03728425   7.99429297  10.0537665\n",
      "   8.12325377   7.84977784   9.6043977    7.43123626   6.66587451\n",
      "  10.61657987   9.76091233   8.98222085   8.90983011  10.39325847\n",
      "   9.56466747   9.75833371   6.07446671   5.92700559  10.54687198\n",
      "   5.96485075   9.2967578    9.53130543   8.70516998   9.02906692\n",
      "   9.52500637   8.66472181   8.3849733    9.10878406   8.23264863\n",
      "   9.06382712   8.89823352   8.1401251   10.11730916   9.25435419\n",
      "  10.31278011   8.06234368   6.2417478   12.35961662   9.38710432\n",
      "   9.8562776   11.84154442   9.32348449   9.07607575   8.07502119\n",
      "   5.55468129   9.88368049   8.25717634   8.10013099  10.14281824\n",
      "  10.72840753   8.91301434   9.58274435  11.46522483   9.11852067\n",
      "   8.02912016  10.69156438   8.35202906   9.44657664   8.34437131\n",
      "   7.48367498   8.38184735   8.6674031    9.66568993  10.8722447\n",
      "   7.34427812   8.6770154   11.49181272   9.23401387   9.16766448\n",
      "   9.28598108   6.64261859   9.87226794   9.69064137   6.7629708\n",
      "   6.69885804   8.64209978   6.60354953   8.87756797   9.4631371\n",
      "   6.77073475   8.16114071   7.58009924   8.65325109   8.65731453\n",
      "   7.83098797  10.33307444  12.38039664   9.50642224   9.4002245\n",
      "   9.86845304   8.82723458   7.44345549   7.76242679   7.46675997\n",
      "   6.96405436   9.13713763  10.95593105   8.37475932   9.84013794\n",
      "   8.07294704  10.24436931   8.01042756   7.36186597  10.68221851\n",
      "  10.20589833   7.24815989   6.41999362  12.06070649   8.98472517\n",
      "  11.66408704   8.90331119   8.79321497   9.37142566  10.01952275\n",
      "   7.22542331   6.62777963   7.37053767   9.90305609  10.41488349\n",
      "   8.74424427   7.25578819   9.33381143   7.82193515   9.74050806\n",
      "   8.85777423  10.42580745  10.235838     7.43091685   9.17046789\n",
      "  10.19397443  10.34102422   7.80311023   7.95656428   8.16356005\n",
      "   8.15623743  11.39697612   8.75680011   9.7951937    8.1161765\n",
      "   8.94813461  10.38873127   9.19729789   8.22538311]\n"
     ]
    }
   ],
   "source": [
    " # make predictions on the testing set\n",
    "y_prediction = my_linreg.predict(X_transform_test)\n",
    "\n",
    "print(y_prediction)"
   ]
  },
  {
   "cell_type": "code",
   "execution_count": 34,
   "metadata": {},
   "outputs": [
    {
     "name": "stdout",
     "output_type": "stream",
     "text": [
      "3.71848491365\n",
      "13.8271300531\n"
     ]
    }
   ],
   "source": [
    "from sklearn import metrics\n",
    "import numpy as np\n",
    "\n",
    "# Calculating \"Mean Square Error\" (MSE):\n",
    "mse = metrics.mean_squared_error(y_test, y_prediction)\n",
    "\n",
    "# Using numpy sqrt function to take the square root and calculate \"Root Mean Square Error\" (RMSE)\n",
    "rmse = np.sqrt(mse)\n",
    "\n",
    "print(rmse)\n",
    "print(mse)"
   ]
  },
  {
   "cell_type": "code",
   "execution_count": 35,
   "metadata": {},
   "outputs": [
    {
     "name": "stderr",
     "output_type": "stream",
     "text": [
      "/Users/cheryljose/Documents/Projects/TestProject/venv/lib/python3.6/site-packages/sklearn/cross_validation.py:44: DeprecationWarning: This module was deprecated in version 0.18 in favor of the model_selection module into which all the refactored classes and functions are moved. Also note that the interface of the new CV iterators are different from that of this module. This module will be removed in 0.20.\n",
      "  \"This module will be removed in 0.20.\", DeprecationWarning)\n"
     ]
    }
   ],
   "source": [
    "# importing the method:\n",
    "from sklearn.cross_validation import cross_val_score"
   ]
  },
  {
   "cell_type": "code",
   "execution_count": 37,
   "metadata": {},
   "outputs": [
    {
     "name": "stdout",
     "output_type": "stream",
     "text": [
      "[-13.26663865  -9.82290726 -10.91790285 -10.53854313 -13.13762094\n",
      " -11.48888447 -14.99071914 -12.45559804 -13.55938134 -40.28473915]\n"
     ]
    }
   ],
   "source": [
    "# Applying 10-fold cross validation with \"linear regression\":\n",
    " \n",
    "mse_list = cross_val_score(my_linreg, X, y, cv=10, scoring='neg_mean_squared_error')\n",
    "\n",
    "print(mse_list)"
   ]
  },
  {
   "cell_type": "code",
   "execution_count": 183,
   "metadata": {},
   "outputs": [
    {
     "name": "stdout",
     "output_type": "stream",
     "text": [
      "LR -18.1447272727\n",
      "NB -23.9512727273\n",
      "KNN -14.3908654545\n",
      "DT -23.6043636364\n",
      "SVR -13.1309348482\n"
     ]
    },
    {
     "data": {
      "text/plain": [
       "[<matplotlib.text.Text at 0x1150b6828>,\n",
       " <matplotlib.text.Text at 0x1161544e0>,\n",
       " <matplotlib.text.Text at 0x119d03400>,\n",
       " <matplotlib.text.Text at 0x119cd90f0>,\n",
       " <matplotlib.text.Text at 0x115fac2e8>]"
      ]
     },
     "execution_count": 183,
     "metadata": {},
     "output_type": "execute_result"
    },
    {
     "data": {
      "image/png": "[encoded data removed]",
      "text/plain": [
       "<matplotlib.figure.Figure at 0x11508b940>"
      ]
     },
     "metadata": {},
     "output_type": "display_data"
    }
   ],
   "source": [
    "from sklearn.model_selection import KFold\n",
    "from sklearn.model_selection import cross_val_score\n",
    "from sklearn.linear_model import LogisticRegression\n",
    "from sklearn.naive_bayes import GaussianNB\n",
    "from sklearn.neighbors import KNeighborsRegressor\n",
    "from sklearn.tree import DecisionTreeRegressor\n",
    "from sklearn.svm import SVR\n",
    "models = []\n",
    "models.append((\"LR\",LogisticRegression()))\n",
    "models.append((\"NB\",GaussianNB()))\n",
    "models.append((\"KNN\",KNeighborsRegressor()))\n",
    "models.append((\"DT\",DecisionTreeRegressor()))\n",
    "models.append((\"SVR\",SVR()))\n",
    "results = []\n",
    "names = []\n",
    "for name,model in models:\n",
    "    kfold = KFold(n_splits=5, random_state=22)\n",
    "    cv_result = cross_val_score(model,X_transform,y_train, cv = kfold, scoring='neg_mean_squared_error')\n",
    "    names.append(name)\n",
    "    results.append(cv_result)\n",
    "for i in range(len(names)):\n",
    "    print(names[i],results[i].mean())\n",
    "ax = sns.boxplot(data=results)\n",
    "ax.set_xticklabels(names)"
   ]
  },
  {
   "cell_type": "code",
   "execution_count": 60,
   "metadata": {},
   "outputs": [],
   "source": [
    "from sklearn.ensemble import RandomForestRegressor\n",
    "\n",
    "my_RandomForest = RandomForestRegressor(n_estimators = 700,  bootstrap = True,random_state=2)"
   ]
  },
  {
   "cell_type": "code",
   "execution_count": 61,
   "metadata": {},
   "outputs": [
    {
     "data": {
      "text/plain": [
       "RandomForestRegressor(bootstrap=True, criterion='mse', max_depth=None,\n",
       "           max_features='auto', max_leaf_nodes=None,\n",
       "           min_impurity_split=1e-07, min_samples_leaf=1,\n",
       "           min_samples_split=2, min_weight_fraction_leaf=0.0,\n",
       "           n_estimators=700, n_jobs=1, oob_score=False, random_state=2,\n",
       "           verbose=0, warm_start=False)"
      ]
     },
     "execution_count": 61,
     "metadata": {},
     "output_type": "execute_result"
    }
   ],
   "source": [
    "#train the RandomForest alg by using the FIT method\n",
    "\n",
    "my_RandomForest.fit(X_transform,y_train,sample_weight=None)"
   ]
  },
  {
   "cell_type": "code",
   "execution_count": 62,
   "metadata": {},
   "outputs": [
    {
     "name": "stdout",
     "output_type": "stream",
     "text": [
      "[  8.48428571   4.96142857   9.21714286   8.9          9.24857143\n",
      "  10.14142857   8.01714286   8.54571429   8.56571429   9.43142857\n",
      "   9.50714286   8.58142857  10.96571429   9.34428571   8.90857143\n",
      "   9.70285714   9.97         9.59285714   8.19285714   8.81142857\n",
      "   8.36714286   9.72571429   8.99714286   9.17571429  10.47142857\n",
      "   9.16428571   8.01714286   7.39714286   9.47142857   9.06285714\n",
      "  12.48428571   2.14142857   9.01142857   4.07714286   8.78428571\n",
      "   9.89142857   8.23571429  10.50428571   9.23142857   8.50142857\n",
      "   9.29285714   9.06428571   8.64         9.28142857   7.98         8.07571429\n",
      "   8.69142857   8.34142857   9.01857143   8.52285714   2.47571429   7.54\n",
      "   9.98571429   4.47857143   8.89         8.61857143   9.68714286\n",
      "   8.64857143  10.30428571   8.52428571   8.27         8.15428571\n",
      "   8.95714286   9.43714286   9.17142857   9.18142857   8.32142857   8.98\n",
      "   9.73857143   9.32285714   9.36142857   8.87857143   9.07571429\n",
      "   8.51857143   8.68714286   8.66428571   8.49571429   9.26142857   8.6\n",
      "   8.53         3.88714286   9.13        10.22714286  10.84         9.17714286\n",
      "   9.90142857   9.66571429   1.31         8.46142857   9.19714286\n",
      "   4.96714286   3.30428571   9.94         2.51428571   9.19857143\n",
      "  10.83142857   9.26142857   8.62714286   9.78         9.07285714\n",
      "   8.23571429  10.42428571   9.41714286   8.70857143   9.75857143\n",
      "  10.18142857   9.72428571   9.11714286   8.85714286   9.34857143\n",
      "  10.61428571   9.97428571   9.32571429   7.46285714   9.49         8.11285714\n",
      "  10.12428571   8.91714286   8.86571429   9.06142857   9.78714286\n",
      "   6.99857143   9.91142857   8.43285714   8.24857143   9.62571429\n",
      "   8.94714286   8.59285714   8.48571429   9.76428571   9.57285714\n",
      "   4.78142857   1.71285714   7.09142857   8.16714286   8.98714286\n",
      "   8.74285714   9.23428571   8.37857143  10.23142857  10.44428571\n",
      "   8.43285714   8.31         9.02714286  10.21428571   1.88428571\n",
      "   9.48857143   9.12         9.60857143   9.17571429   9.74428571\n",
      "   9.75857143  10.23571429   9.73714286   9.79571429   8.45142857\n",
      "   9.42285714   9.49        11.42         9.58571429   8.56714286\n",
      "   9.74428571   8.02857143   9.92285714   7.71571429   9.64857143\n",
      "   9.49285714  10.33428571   8.61142857  10.15714286   9.30571429\n",
      "   9.00428571  10.03285714   8.96857143  11.23857143  11.05142857\n",
      "   8.25428571   8.38142857  10.36142857   9.63571429   9.41714286\n",
      "   8.57142857   7.91857143   4.00857143   9.70571429   9.88142857\n",
      "   9.81428571   8.46142857   8.66428571  10.59285714   9.71428571\n",
      "   7.50142857   8.47857143   9.31714286   7.56571429   8.34428571\n",
      "   9.16142857   9.03714286   9.18857143  10.11571429  11.21714286\n",
      "   9.62428571  11.83142857   8.41571429   8.49142857   9.62857143\n",
      "   8.24428571   9.27         9.57285714   4.04857143   8.83         9.29\n",
      "   7.99571429   9.17285714  10.21142857   9.99         9.42571429\n",
      "   2.34285714   2.75         9.91142857   7.81857143  10.37857143\n",
      "  10.06142857   8.09428571   7.59714286   9.88         9.06857143\n",
      "   8.39142857  10.01         7.93285714   9.97428571   9.98857143\n",
      "   7.22857143  10.42714286   9.69714286  10.36         9.54857143\n",
      "   8.88428571  10.68        10.89285714   9.43428571  10.22428571\n",
      "   8.60285714   9.56142857   8.19857143   3.56285714  10.76285714\n",
      "   8.78714286   8.90571429   9.07857143  10.98142857   9.28571429\n",
      "   8.65428571   9.35428571   9.89285714   8.54714286   9.83428571   7.66\n",
      "   8.54142857   9.54         7.60428571   8.12285714   8.96714286\n",
      "   9.16571429   9.55142857   9.24285714   7.95428571   9.47428571\n",
      "   9.70571429   9.56         8.59857143   1.22428571   9.76857143\n",
      "   8.64857143   7.50285714   7.16428571   9.56428571   8.51571429\n",
      "   9.17857143   9.70571429   8.93         8.56571429   9.03         9.86142857\n",
      "   8.80285714   7.66857143  10.71571429  10.60428571   8.40714286\n",
      "   8.64714286   9.11285714   8.63285714   2.88714286   9.62         9.34714286\n",
      "   9.03571429  10.90571429  10.67714286   8.85142857   9.68714286\n",
      "   9.13142857  10.63285714   8.55428571   8.83857143   8.65         7.92142857\n",
      "   7.24857143   8.99428571   8.54428571   9.31142857  10.67285714\n",
      "   8.50857143   9.32571429  10.38714286   3.75857143   7.40571429\n",
      "   8.07428571   8.52857143   9.34857143   9.88714286   8.84         8.07714286\n",
      "   9.69         8.14142857   8.87142857   9.22142857   9.58         8.85142857\n",
      "   8.02428571   9.21285714  10.01285714  10.00571429   8.38857143\n",
      "   7.82285714   8.47857143   8.61428571  10.80428571   9.51428571\n",
      "  10.41714286   8.01         8.87714286   9.91         8.39142857\n",
      "   8.02142857]\n"
     ]
    }
   ],
   "source": [
    "#Make prediction over the trained RandomForest alg using the testing sample:\n",
    "\n",
    "y_predict = my_RandomForest.predict(X_transform_test)\n",
    "\n",
    "print(y_predict)\n"
   ]
  },
  {
   "cell_type": "code",
   "execution_count": 63,
   "metadata": {},
   "outputs": [
    {
     "name": "stdout",
     "output_type": "stream",
     "text": [
      "11.9818290282\n"
     ]
    }
   ],
   "source": [
    "# Function \"accuracy_score\" from \"sklearn.metrics\" will perform the element-to-element comparision and returns the \n",
    "# portion of correct predictions:\n",
    "from sklearn.metrics import mean_squared_error\n",
    "mse_RF = mean_squared_error(y_test, y_predict)\n",
    "print(mse_RF)"
   ]
  },
  {
   "cell_type": "code",
   "execution_count": 65,
   "metadata": {},
   "outputs": [],
   "source": [
    "# Adaboost is a classifier which gives weightage to each features and reduces the errors in getting the best prediction\n",
    "\n",
    "from sklearn.ensemble import AdaBoostRegressor\n",
    "\n",
    "my_AdaBoost = AdaBoostRegressor(n_estimators=500,random_state=2)"
   ]
  },
  {
   "cell_type": "code",
   "execution_count": 66,
   "metadata": {},
   "outputs": [
    {
     "data": {
      "text/plain": [
       "AdaBoostRegressor(base_estimator=None, learning_rate=1.0, loss='linear',\n",
       "         n_estimators=500, random_state=2)"
      ]
     },
     "execution_count": 66,
     "metadata": {},
     "output_type": "execute_result"
    }
   ],
   "source": [
    "#train the adaboost alg by using the FIT method\n",
    "\n",
    "my_AdaBoost.fit(X_transform,y_train,sample_weight=None)"
   ]
  },
  {
   "cell_type": "code",
   "execution_count": 67,
   "metadata": {},
   "outputs": [
    {
     "name": "stdout",
     "output_type": "stream",
     "text": [
      "[  8.03926702   6.85555556   9.53900709   8.30769231   9.15686275\n",
      "  11.02941176   8.59100204   8.31818182   8.64705882   8.72910217\n",
      "  10.99525617   8.23251029   8.81632653   9.11757269   8.98271605\n",
      "   9.97243492   9.24761905  10.11111111   8.98657718   9.56367041\n",
      "   9.09235209  10.38609113   8.74789916   9.63972736   9.61167883\n",
      "  10.51008065   9.18894009   8.72910217  10.96062992   9.98930481\n",
      "  10.0704918    6.05015198  10.0591133    7.18204489   8.31818182\n",
      "   9.96315789   8.97630332  11.21455939   9.23598131   8.90630631\n",
      "  10.10116732   9.26496815   8.91364205   9.61282051   9.09650582\n",
      "   8.62824859   9.24252137   9.0216763    9.3540856    9.0216763\n",
      "   6.02445652   8.02325581   8.10773481   7.13620072   8.97839506\n",
      "   9.42298578  10.36936937   9.06525038  11.14616193  10.74254743\n",
      "   8.02325581   9.17333333  11.14616193   8.85         9.35267349\n",
      "   8.49710983   8.56709957   9.17018284  10.33937824   8.41191937\n",
      "   9.73664122   8.41191937  11.09063136   7.89953271   9.35267349\n",
      "   8.46824225   7.62942478   9.24767225   8.38980716   8.06711409\n",
      "   7.57544225   9.09235209   9.09650582  10.83048919   9.92522523\n",
      "   8.97630332   8.97630332   6.98759305   9.53707052   8.55696203\n",
      "   8.46752059   6.44177215   9.61167883   6.125        8.63157895\n",
      "  10.0591133    8.81632653   8.93072289  12.73943662   9.25757576\n",
      "   8.49710983  10.78874856   9.33195876   9.08806489   7.84375      9.61167883\n",
      "   9.63972736   8.74108322   8.36802974   8.98535286  11.10030395\n",
      "  10.10116732   8.56302521   8.66631799  10.22753623   9.24252137\n",
      "  12.77173913   9.57837838   8.17142857   9.68897638  10.75377644\n",
      "   7.87341772  10.38609113   8.99173554   9.77220077   9.31125      9.57768924\n",
      "   8.2075       8.99173554  10.0421875    8.90630631   7.71066526\n",
      "   6.19964664   7.73872473   8.74789916   9.58145363   7.57544225\n",
      "  10.78891821   7.67        11.52580331   9.67916042   8.03926702\n",
      "   9.53900709   7.44981413   9.138833     6.51648352  10.0591133\n",
      "   9.61282051  12.25730994  10.50419287   9.61282051   9.53900709\n",
      "  10.13777778  10.0591133    8.83060109   8.22134831   9.17018284\n",
      "   9.92522523  10.74254743   8.69702277  10.71519563   9.97243492\n",
      "   8.18395303   9.42553191   8.38980716  10.60283688   9.82780411\n",
      "  11.36755647   8.87068966   8.36842105   9.138833     8.92868463\n",
      "   9.61167883   9.33195876  11.16296296  12.94100295   8.59322034\n",
      "   8.8030303   10.0421875    8.7348643   12.73943662   9.75167144\n",
      "   8.02325581   7.62942478   9.68897638  10.78874856   8.88229167\n",
      "   9.02702703   7.64053537  10.99771429   9.80141844   7.25842697\n",
      "   8.62824859   9.29193548   7.51690141   7.14588859   9.39694656\n",
      "   9.09650582   8.66631799  10.74254743  10.28957529   9.42298578\n",
      "   9.61167883   8.11006289  10.60283688   8.8030303    9.18894009\n",
      "  10.30519481   9.17018284   7.25842697  11.15231788   9.92522523\n",
      "   8.51877133   9.24767225  10.29499323   9.02702703   9.09235209\n",
      "   6.58601399   6.92139738   9.24761905   7.43209877  10.28957529\n",
      "  10.0997151    9.53900709  11.71257485   8.5537415    8.41191937\n",
      "   9.87330317   9.138833     8.36802974   8.95641026   9.79148311\n",
      "   9.92522523  10.96374622   9.97243492   9.61167883  10.71519563\n",
      "   7.86378205  12.35294118  10.92540132   9.20942408   9.47959184\n",
      "   8.06514085   9.08806489   9.17333333   6.47266314  10.60283688\n",
      "   9.59046693  10.06782946  10.83048919  10.70565302  10.15841584\n",
      "   8.81355932   9.67916042   8.99173554   9.33094385   8.18461538\n",
      "   7.97219361  10.11111111  11.35445545   8.22047244   9.29990357\n",
      "   8.62824859   8.71258907   9.08681672   9.17018284   9.53707052\n",
      "  10.29499323  10.4265928    9.35267349   8.87068966   6.28200972\n",
      "  10.443769     8.4368932    8.30118694   7.596302     8.46752059\n",
      "   8.02170767   9.09650582  10.98604651   8.31818182   8.69702277\n",
      "   9.29990357  10.0960452   10.01554404   8.52258065  10.16184971\n",
      "  10.83204134   8.89106487   9.29193548   9.09235209   8.10126582\n",
      "   7.57894737   9.29193548   9.68897638   9.138833    10.33937824\n",
      "  10.75951557   8.11006289  10.5820643    8.69702277  11.35640138\n",
      "  10.75377644   8.17142857   8.17142857   8.02170767   9.18894009\n",
      "   8.95641026  10.0704918    8.62824859  12.51398264   9.0216763\n",
      "   8.06514085   9.96315789   6.59090909   7.26370757   8.07361963\n",
      "   9.73664122  11.25697504  10.68667643   8.50984252   8.72910217\n",
      "   9.11757269   9.11757269   9.2         10.98711596   9.68897638\n",
      "   9.09650582   8.41191937   9.31125     10.87053571   9.61167883\n",
      "   8.65181058   8.7686747    8.98657718   9.42298578   8.88229167\n",
      "   9.35267349  12.43181818   9.33333333   8.18461538   9.53707052\n",
      "   9.0216763    8.36842105]\n",
      "(344,)\n"
     ]
    }
   ],
   "source": [
    "#Make prediction over the trained Adaboost alg using the testing sample:\n",
    "\n",
    "y_adaboost_predict = my_AdaBoost.predict(X_transform_test)\n",
    "\n",
    "print(y_adaboost_predict)\n",
    "print(y_adaboost_predict.shape)"
   ]
  },
  {
   "cell_type": "code",
   "execution_count": 69,
   "metadata": {},
   "outputs": [
    {
     "name": "stdout",
     "output_type": "stream",
     "text": [
      "13.3810550686\n"
     ]
    }
   ],
   "source": [
    "adaboost_error = mean_squared_error(y_test, y_adaboost_predict)\n",
    "\n",
    "print(adaboost_error)"
   ]
  },
  {
   "cell_type": "code",
   "execution_count": 81,
   "metadata": {},
   "outputs": [],
   "source": [
    "from sklearn.neural_network import MLPRegressor"
   ]
  },
  {
   "cell_type": "code",
   "execution_count": 172,
   "metadata": {},
   "outputs": [],
   "source": [
    "my_ANN = MLPRegressor(hidden_layer_sizes=(6,4), activation= 'logistic', \n",
    "                       solver='lbfgs', alpha=1e-5, random_state=1 )\n"
   ]
  },
  {
   "cell_type": "code",
   "execution_count": 173,
   "metadata": {},
   "outputs": [
    {
     "data": {
      "text/plain": [
       "MLPRegressor(activation='logistic', alpha=1e-05, batch_size='auto',\n",
       "       beta_1=0.9, beta_2=0.999, early_stopping=False, epsilon=1e-08,\n",
       "       hidden_layer_sizes=(6, 4), learning_rate='constant',\n",
       "       learning_rate_init=0.001, max_iter=200, momentum=0.9,\n",
       "       nesterovs_momentum=True, power_t=0.5, random_state=1, shuffle=True,\n",
       "       solver='lbfgs', tol=0.0001, validation_fraction=0.1, verbose=False,\n",
       "       warm_start=False)"
      ]
     },
     "execution_count": 173,
     "metadata": {},
     "output_type": "execute_result"
    }
   ],
   "source": [
    "# Training ONLY on the training set:\n",
    "my_ANN.fit(X_transform, y_train)"
   ]
  },
  {
   "cell_type": "code",
   "execution_count": 174,
   "metadata": {},
   "outputs": [
    {
     "name": "stdout",
     "output_type": "stream",
     "text": [
      "[array([[-0.15319458,  0.22718673, -0.26316796, -0.25633563, -0.00690998,\n",
      "        -0.14077794],\n",
      "       [-0.1314791 ,  0.19448419, -0.00332076, -0.17317974, -0.14667088,\n",
      "         0.09891038],\n",
      "       [-0.10561658,  0.1918729 , -0.14492694,  0.08339775,  0.0145518 ,\n",
      "         0.02522118],\n",
      "       [-0.13748288, -0.03952967,  0.12033814,  0.12783079, -0.17530312,\n",
      "         0.07410841],\n",
      "       [ 0.1446569 ,  0.27311769, -0.15814956, -0.17748538, -0.20080075,\n",
      "         0.14397505],\n",
      "       [-0.15323908, -0.08874274,  0.16583652, -0.00971462,  0.26913069,\n",
      "        -0.06944475],\n",
      "       [ 0.0656752 ,  0.08557515, -0.18328136,  0.09118138,  0.24263896,\n",
      "         0.09420226],\n",
      "       [-0.08190188,  0.10056212, -0.15207343, -0.01912906,  0.1194295 ,\n",
      "        -0.07908646],\n",
      "       [-0.08185181, -0.18644307, -0.18155858,  0.05748671, -0.14330233,\n",
      "        -0.0890899 ],\n",
      "       [-0.00314527, -0.17076441,  0.0283332 , -0.13574222, -0.00242367,\n",
      "         0.07577268],\n",
      "       [-0.15148098, -0.03210679,  0.07454994, -0.03099317, -0.20824144,\n",
      "         0.01372422],\n",
      "       [ 0.06025459, -0.03420466,  0.1665761 ,  0.02098933,  0.07971622,\n",
      "        -0.13702266],\n",
      "       [-0.13645362,  0.10572639, -0.03880917, -0.13107419,  0.13740925,\n",
      "        -0.05754002],\n",
      "       [ 0.09518658,  0.07508955,  0.14619069,  0.04451654,  0.10882714,\n",
      "        -0.05726282],\n",
      "       [-0.08576473,  0.17818057, -0.02717949,  0.17930858,  0.082147  ,\n",
      "         0.04596636],\n",
      "       [-0.14331077,  0.19228685, -0.01554357,  0.03026051, -0.07009873,\n",
      "        -0.10012393],\n",
      "       [ 0.15362005,  0.01967229, -0.1865636 ,  0.04410999, -0.06672103,\n",
      "         0.01009075],\n",
      "       [ 0.14540086, -0.05418141,  0.15281106,  0.04589594, -0.22310252,\n",
      "         0.16210968],\n",
      "       [ 0.07170877,  0.19511644, -0.1229707 , -0.13415372,  0.19187634,\n",
      "         0.074643  ],\n",
      "       [-0.16478515,  0.08067742,  0.09622058,  0.15789818,  0.02611055,\n",
      "        -0.14216913],\n",
      "       [-0.18231012, -0.18392568, -0.17806938, -0.09934186,  0.11830136,\n",
      "         0.01469603],\n",
      "       [ 0.02189802,  0.14495314, -0.14266579, -0.08176554, -0.00690192,\n",
      "         0.17748051],\n",
      "       [ 0.02235018, -0.2002866 ,  0.11373101, -0.10401383,  0.08811632,\n",
      "        -0.04221027],\n",
      "       [ 0.13803614,  0.10121644,  0.02122973, -0.13736161, -0.17231509,\n",
      "        -0.14349069],\n",
      "       [-0.17131123, -0.15163051, -0.10314462,  0.07979836,  0.0473776 ,\n",
      "        -0.18429029],\n",
      "       [-0.16236689,  0.17246682,  0.02669214, -0.11049495, -0.1184119 ,\n",
      "         0.09229536],\n",
      "       [-0.11547136,  0.03381766,  0.17608231,  0.1299205 , -0.10489012,\n",
      "        -0.00215691],\n",
      "       [ 0.04452617,  0.13157695, -0.12931028, -0.18126012, -0.18453435,\n",
      "        -0.00520726],\n",
      "       [ 0.03895066,  0.02873866, -0.06875392,  0.1865123 ,  0.01370011,\n",
      "        -0.04516451],\n",
      "       [ 0.02092854,  0.09533671,  0.06607595, -0.08644157, -0.16796752,\n",
      "        -0.04892079],\n",
      "       [ 0.04913631, -0.10488142,  0.09613332, -0.16269415, -0.07757806,\n",
      "         0.11527783],\n",
      "       [-0.11607954,  0.04276393,  0.00965395,  0.15974363, -0.10200545,\n",
      "        -0.16424557],\n",
      "       [ 0.08870172,  0.09006135,  0.15398983,  0.15865362, -0.21537009,\n",
      "        -0.10062638],\n",
      "       [ 0.04377696,  0.16915113,  0.17130835,  0.02239102,  0.14950248,\n",
      "         0.05344645],\n",
      "       [-0.04146628, -0.00385425,  0.038817  ,  0.01936843,  0.1605275 ,\n",
      "         0.15818488],\n",
      "       [-0.04026462,  0.18298931, -0.1231137 , -0.1406532 , -0.15839088,\n",
      "         0.0022642 ],\n",
      "       [-0.18108933,  0.16804189,  0.12369914, -0.18297235, -0.12126679,\n",
      "        -0.06336536],\n",
      "       [-0.14015659,  0.11321203, -0.05889687,  0.16595908,  0.04513893,\n",
      "         0.14325872],\n",
      "       [ 0.12998003,  0.15143151, -0.01527563,  0.01811041,  0.1247479 ,\n",
      "        -0.08086481],\n",
      "       [-0.00389555,  0.04309452, -0.18313617,  0.03610089, -0.02081031,\n",
      "         0.11623869],\n",
      "       [-0.06936681,  0.14585199,  0.02920101, -0.12025105,  0.10183746,\n",
      "         0.04229421],\n",
      "       [-0.16848923, -0.02388403,  0.06740755,  0.15929137, -0.20135396,\n",
      "         0.18032563],\n",
      "       [-0.04657939,  0.18434141,  0.03917847,  0.12491974,  0.01657648,\n",
      "         0.04847567],\n",
      "       [-0.08093673,  0.02704742,  0.09420951,  0.13469043,  0.11016455,\n",
      "         0.07498432],\n",
      "       [ 0.13697815, -0.07174984,  0.06449428, -0.01966198, -0.03882652,\n",
      "        -0.0337763 ],\n",
      "       [-0.0365776 , -0.06709925,  0.04592552, -0.02570921,  0.18437265,\n",
      "         0.06712354],\n",
      "       [-0.11387485, -0.02857143, -0.05914043,  0.11206622,  0.13884389,\n",
      "         0.15265489],\n",
      "       [ 0.06117366, -0.09122121, -0.09338449,  0.13327388, -0.00612563,\n",
      "         0.11432646],\n",
      "       [ 0.02725501,  0.08691457,  0.0069838 ,  0.10239249,  0.04430131,\n",
      "        -0.01285637],\n",
      "       [-0.05983291, -0.16873505, -0.04639795, -0.15991222,  0.19043636,\n",
      "        -0.12031354]]), array([[ 0.15444592, -0.13420614,  0.28960286,  0.28365989],\n",
      "       [ 0.74632313,  0.47265409,  0.09337293,  0.53511843],\n",
      "       [-0.18249003, -0.01149244,  0.28811526,  0.10388279],\n",
      "       [-0.04260287,  0.37480553,  0.05627931,  0.49764617],\n",
      "       [-0.85854573, -0.87977536, -0.43758569, -0.21056404],\n",
      "       [-0.51230259, -0.07307082, -0.09522722,  0.32420878]]), array([[ 2.06088543],\n",
      "       [ 1.37597465],\n",
      "       [ 1.24283217],\n",
      "       [ 2.43340558]])]\n",
      "\n",
      "\n",
      "[array([ 0.11609723,  0.15037472,  0.07228347,  0.02659552, -0.14734978,\n",
      "       -0.01248493]), array([ 0.28404696,  0.41559073,  0.23689674,  1.33166671]), array([ 4.14996217])]\n"
     ]
    }
   ],
   "source": [
    "# Weights:\n",
    "print(my_ANN.coefs_)\n",
    "# The ith element in the list represents the weight matrix corresponding to layer i.\n",
    "\n",
    "print('\\n')\n",
    "\n",
    "# Bias weights:\n",
    "print(my_ANN.intercepts_)\n",
    "# The ith element in the list represents the bias vector corresponding to layer i + 1."
   ]
  },
  {
   "cell_type": "code",
   "execution_count": 175,
   "metadata": {},
   "outputs": [
    {
     "name": "stdout",
     "output_type": "stream",
     "text": [
      "[ 9.29315586  9.47437455  9.01369856  9.01339362  9.47437455  9.01369856\n",
      "  8.591124    8.16880989  8.591124    9.01369856  8.59112453  8.16880989\n",
      "  8.70684664  8.16880989  8.591124    8.19120939  8.16880989  9.47437455\n",
      "  8.16880989  8.591124    8.591124    9.47437455  8.591124    9.47437444\n",
      "  9.47437455  8.591124    8.591124    9.47437451  9.03673677  9.01369856\n",
      "  9.47437455  9.27815942  8.16888273  9.47437455  9.01369856  9.01369856\n",
      "  8.591124    9.47437455  8.16982959  8.34150325  9.01369856  9.01369856\n",
      "  8.591124    9.47437455  8.16880989  8.591124    8.591124    8.16880989\n",
      "  9.47436797  8.591124    9.47437455  8.16880989  8.16904457  8.591124\n",
      "  8.16880989  8.16880989  9.01369856  9.47437455  9.01369856  8.16880989\n",
      "  8.16880989  8.591124    8.16880989  9.47437455  8.16880989  8.16880989\n",
      "  8.16880989  9.01369856  9.47437455  9.01369856  9.29181759  8.16880989\n",
      "  8.5926753   9.47437455  8.16880989  8.16880989  8.16880989  9.47437455\n",
      "  8.16880989  8.591124    8.16880989  8.591124    9.01369855  9.47437455\n",
      "  9.01369502  9.47437455  9.47437455  8.16880989  9.46518035  9.0136936\n",
      "  9.47437455  8.16880989  9.01369856  9.47437455  9.47412932  9.47437455\n",
      "  8.38273376  8.16880989  9.47437455  8.591124    8.591124    9.47437455\n",
      "  8.34150326  9.47437455  8.16881011  9.47437455  9.01369856  8.9812549\n",
      "  9.0132205   9.01369856  9.01369856  9.01369856  9.47437455  8.591124\n",
      "  9.01369856  9.01369856  9.47437455  8.591124    9.47437455  8.59303285\n",
      "  9.47437455  8.591124    9.47437455  8.16880989  8.59242795  9.47437455\n",
      "  9.01369856  8.16880989  8.591124    9.47437455  9.29315586  9.27815942\n",
      "  9.47437455  9.47437455  8.16880989  9.47437455  9.01369856  8.16880989\n",
      "  8.16880989  9.01369856  9.01369808  8.16880989  8.591124    8.59112454\n",
      "  9.01358953  9.27815942  9.47437455  9.47437455  8.59112448  9.47437455\n",
      "  8.16880989  9.47437455  9.47437455  9.45071879  8.16880989  9.01369655\n",
      "  9.01369856  8.16880989  9.47437455  8.16880989  8.36487474  8.16880989\n",
      "  8.16880989  8.16881024  8.591124    9.47431586  9.47437455  9.47437455\n",
      "  8.591124    8.591124    8.16880989  9.47437416  9.47437455  9.47437455\n",
      "  9.47437455  9.01369856  8.16880989  8.16880989  9.27815942  9.47437455\n",
      "  9.47437455  8.16880989  9.47215217  8.591124    9.27815942  8.16880989\n",
      "  9.47437455  8.591124    8.16880989  9.29315586  9.47437455  9.01369856\n",
      "  8.16880989  7.82089845  8.1688099   8.16880989  8.16880989  8.16880989\n",
      "  9.47437455  9.47437455  9.47437455  9.46405516  8.17566592  8.591124\n",
      "  8.34150326  9.01369856  8.16880989  8.59426744  9.01369856  9.01369856\n",
      "  8.34150326  8.34188286  9.46164026  9.45855712  9.47437455  8.3338275\n",
      "  8.591124    9.47437455  8.16880989  9.47437455  8.16880989  9.47437455\n",
      "  9.47437455  8.591124    8.16880989  9.47437455  8.16880989  8.77754534\n",
      "  8.16881193  8.16880989  8.16881007  9.47437455  9.01369856  9.01369856\n",
      "  8.591124    9.47437455  9.47437455  8.16880989  9.47437455  9.47437455\n",
      "  8.59632761  9.01369852  8.16880989  9.47437455  8.591124    8.16880989\n",
      "  9.47437455  8.16880989  9.47437455  8.591124    9.47437455  9.47437455\n",
      "  8.591124    8.59115876  9.47437455  8.16880989  9.47437455  8.16880989\n",
      "  9.29315586  9.01369856  8.591124    9.47396409  8.16880989  8.16880989\n",
      "  8.59112401  8.59196189  8.59112414  8.16880989  9.47437455  9.47436648\n",
      "  8.16880989  9.01369856  9.47437455  8.16880989  8.16880989  8.59114091\n",
      "  9.00937048  8.16880989  8.17158629  8.16880989  8.591124    8.16880989\n",
      "  9.47437455  9.33616408  8.16880989  8.07096008  9.47437455  9.47437455\n",
      "  8.591124    9.47430587  9.01369856  8.591124    8.60969031  9.47437455\n",
      "  9.01369856  8.16882892  9.01369856  9.01369856  8.16880989  8.59112401\n",
      "  7.85611125  9.01367836  9.01369856  8.591124    8.591124    8.591124\n",
      "  8.591124    9.01369856  8.59112416  8.591124    9.47437455  9.47437452\n",
      "  8.16880989  9.47437455  9.47437455  8.65677338  9.47437455  8.16880989\n",
      "  8.591124    9.01369856  8.591124    8.591124    9.47437455  8.591124\n",
      "  8.16880989  9.0136951   9.47437455  8.16881755  8.16880989  8.16880989\n",
      "  9.01369856  9.47437455  8.591124    8.16880989  8.59113452  8.591124\n",
      "  9.47437455  9.01369856  9.47437455  9.2841776   8.16880989  9.47437455\n",
      "  8.591124    8.16880989]\n"
     ]
    }
   ],
   "source": [
    "# Testing on the testing set:\n",
    "y_predict_ann = my_ANN.predict(X_transform_test)\n",
    "print(y_predict_ann)"
   ]
  },
  {
   "cell_type": "code",
   "execution_count": 176,
   "metadata": {},
   "outputs": [
    {
     "name": "stdout",
     "output_type": "stream",
     "text": [
      "13.9377007727\n"
     ]
    }
   ],
   "source": [
    "# We can now compare the \"predicted labels\" for the Testing Set with its \"actual labels\" to evaluate the accuracy \n",
    "\n",
    "mse_ann = mean_squared_error(y_test, y_predict_ann)\n",
    "print(mse_ann)\n"
   ]
  },
  {
   "cell_type": "code",
   "execution_count": null,
   "metadata": {},
   "outputs": [],
   "source": [
    "print()"
   ]
  },
  {
   "cell_type": "code",
   "execution_count": null,
   "metadata": {},
   "outputs": [],
   "source": []
  }
 ],
 "metadata": {
  "kernelspec": {
   "display_name": "TestProject",
   "language": "python",
   "name": "testproject"
  },
  "language_info": {
   "codemirror_mode": {
    "name": "ipython",
    "version": 3
   },
   "file_extension": ".py",
   "mimetype": "text/x-python",
   "name": "python",
   "nbconvert_exporter": "python",
   "pygments_lexer": "ipython3",
   "version": "3.6.6"
  }
 },
 "nbformat": 4,
 "nbformat_minor": 2
}
